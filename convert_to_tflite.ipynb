{
 "cells": [
  {
   "cell_type": "code",
   "execution_count": 1,
   "id": "88c3bc30",
   "metadata": {},
   "outputs": [],
   "source": [
    "import tensorflow as tf"
   ]
  },
  {
   "cell_type": "code",
   "execution_count": 16,
   "id": "315e4a80",
   "metadata": {},
   "outputs": [],
   "source": [
    "def convert_and_save_tflite_model(keras_model_path, final_saved_filepath_name):\n",
    "    try:\n",
    "        # Basic loading approach\n",
    "        model = tf.keras.models.load_model(keras_model_path, compile=False)\n",
    "        \n",
    "        # Simple conversion without optimizations\n",
    "        converter = tf.lite.TFLiteConverter.from_keras_model(model)\n",
    "        tflite_model = converter.convert()\n",
    "        \n",
    "        with open(final_saved_filepath_name, 'wb') as f:\n",
    "            f.write(tflite_model)\n",
    "        \n",
    "        print(\"TFLite model saved at:\", final_saved_filepath_name)\n",
    "    except Exception as e:\n",
    "        print(f\"Error converting model: {str(e)}\")"
   ]
  },
  {
   "cell_type": "code",
   "execution_count": 17,
   "id": "b99e8ce4",
   "metadata": {},
   "outputs": [],
   "source": [
    "finetuned_stratified_classifmodel = r'C:\\Users\\benat\\OneDrive\\0. MSc MLiS\\0. GitHub Repositories\\PICAR-autopilot\\autopilot\\models\\BenTyler_extradata_v3small\\finetunedstratifiedsplit_extrabendata_v3small_speedclassif_model_earlystop.keras'\n",
    "tflite_finetuned_stratified_classif = r'C:\\Users\\benat\\OneDrive\\0. MSc MLiS\\0. GitHub Repositories\\PICAR-autopilot\\autopilot\\models\\BenTyler_extradata_v3small\\tflite_stratsplit_finetuned_extrabendata_v3small_speedclassif_model_earlystop.tflite'\n",
    "\n",
    "finetuned_classifmodel = r'C:\\Users\\benat\\OneDrive\\0. MSc MLiS\\0. GitHub Repositories\\PICAR-autopilot\\autopilot\\models\\BenTyler_extradata_v3small\\finetuned_extrabendata_v3small_speedclassif_model_earlystop.keras'\n",
    "tflite_finetuned_classifmodel = r'C:\\Users\\benat\\OneDrive\\0. MSc MLiS\\0. GitHub Repositories\\PICAR-autopilot\\autopilot\\models\\BenTyler_extradata_v3small\\tflite_finetuned_extrabendata_v3small_speedclassif_model_earlystop.tflite'\n",
    "\n",
    "finetuned_regressmodel = r'C:\\Users\\benat\\OneDrive\\0. MSc MLiS\\0. GitHub Repositories\\PICAR-autopilot\\autopilot\\models\\BenTyler_extradata_v3small\\bendata_regression_finetune_earlystop_mbnetv3small_model.keras'\n",
    "tflite_finetuned_regressmodel = r'C:\\Users\\benat\\OneDrive\\0. MSc MLiS\\0. GitHub Repositories\\PICAR-autopilot\\autopilot\\models\\BenTyler_extradata_v3small\\tflite_bendata_regression_finetune_earlystop_mbnetv3small_model.tflite'"
   ]
  },
  {
   "cell_type": "code",
   "execution_count": 18,
   "id": "17b6a196",
   "metadata": {},
   "outputs": [
    {
     "name": "stdout",
     "output_type": "stream",
     "text": [
      "Error converting model: Layer 'Conv' expected 1 variables, but received 0 variables during loading. Expected: ['Conv/kernel:0']\n",
      "Error converting model: Layer 'Conv' expected 1 variables, but received 0 variables during loading. Expected: ['Conv/kernel:0']\n",
      "Error converting model: Layer 'Conv' expected 1 variables, but received 0 variables during loading. Expected: ['Conv/kernel:0']\n"
     ]
    }
   ],
   "source": [
    "convert_and_save_tflite_model(finetuned_stratified_classifmodel, tflite_finetuned_stratified_classif)\n",
    "convert_and_save_tflite_model(finetuned_classifmodel, tflite_finetuned_classifmodel)\n",
    "convert_and_save_tflite_model(finetuned_regressmodel, tflite_finetuned_regressmodel)"
   ]
  },
  {
   "cell_type": "code",
   "execution_count": null,
   "id": "a2db183c",
   "metadata": {},
   "outputs": [],
   "source": []
  },
  {
   "cell_type": "code",
   "execution_count": null,
   "id": "becb3d0a",
   "metadata": {},
   "outputs": [
    {
     "name": "stdout",
     "output_type": "stream",
     "text": [
      "Error loading C:\\Users\\benat\\OneDrive\\0. MSc MLiS\\0. GitHub Repositories\\PICAR-autopilot\\autopilot\\models\\BenTyler_extradata_v3small\\finetunedstratifiedsplit_extrabendata_v3small_speedclassif_model_earlystop.keras: Layer 'Conv' expected 1 variables, but received 0 variables during loading. Expected: ['Conv/kernel:0']\n",
      "Trying alternative approaches...\n",
      "This would require building the model architecture from scratch\n",
      "and loading weights separately, which needs to be customized per model.\n",
      "Error loading C:\\Users\\benat\\OneDrive\\0. MSc MLiS\\0. GitHub Repositories\\PICAR-autopilot\\autopilot\\models\\BenTyler_extradata_v3small\\finetuned_extrabendata_v3small_speedclassif_model_earlystop.keras: Layer 'Conv' expected 1 variables, but received 0 variables during loading. Expected: ['Conv/kernel:0']\n",
      "Trying alternative approaches...\n",
      "This would require building the model architecture from scratch\n",
      "and loading weights separately, which needs to be customized per model.\n",
      "Error loading C:\\Users\\benat\\OneDrive\\0. MSc MLiS\\0. GitHub Repositories\\PICAR-autopilot\\autopilot\\models\\BenTyler_extradata_v3small\\bendata_regression_finetune_earlystop_mbnetv3small_model.keras: Layer 'Conv' expected 1 variables, but received 0 variables during loading. Expected: ['Conv/kernel:0']\n",
      "Trying alternative approaches...\n",
      "This would require building the model architecture from scratch\n",
      "and loading weights separately, which needs to be customized per model.\n"
     ]
    }
   ],
   "source": []
  },
  {
   "cell_type": "code",
   "execution_count": 26,
   "id": "5ecf807e",
   "metadata": {},
   "outputs": [],
   "source": [
    "def rebuild_model_architecture(input_shape=(224, 224, 3), num_classes=1, dropoutrate=0.2):\n",
    "    \"\"\"Rebuild the exact model architecture as provided\"\"\"\n",
    "    # Create base model\n",
    "    mobnetv3small = tf.keras.applications.MobileNetV3Small(\n",
    "        weights='imagenet',\n",
    "        include_top=False,\n",
    "        input_shape=input_shape\n",
    "    )\n",
    "    \n",
    "    # Create sequential model with exact architecture\n",
    "    model = tf.keras.Sequential([\n",
    "        mobnetv3small,\n",
    "        tf.keras.layers.GlobalAveragePooling2D(),\n",
    "        tf.keras.layers.Dropout(dropoutrate),\n",
    "        tf.keras.layers.Dense(256, activation='relu'),\n",
    "        tf.keras.layers.Dropout(dropoutrate),\n",
    "        tf.keras.layers.Dense(128, activation='relu'),\n",
    "        tf.keras.layers.Dropout(dropoutrate),\n",
    "        tf.keras.layers.Dense(64, activation='relu'),\n",
    "        tf.keras.layers.Dropout(dropoutrate),\n",
    "        tf.keras.layers.Dense(32, activation='relu'),\n",
    "        tf.keras.layers.Dense(num_classes, activation='sigmoid')  # Changed to 1 output\n",
    "    ])\n",
    "    \n",
    "    # Set trainable status for mobilenetv3small\n",
    "    mobnetv3small.trainable = True\n",
    "    \n",
    "    return model"
   ]
  },
  {
   "cell_type": "code",
   "execution_count": 27,
   "id": "5b872da3",
   "metadata": {},
   "outputs": [],
   "source": [
    "import os\n",
    "\n",
    "def convert_model_with_weights_to_tflite(weights_path, output_path, input_shape=(224, 224, 3), num_classes=1, dropoutrate=0.2):\n",
    "    \"\"\"Build model from scratch, load weights, and convert to TFLite\"\"\"\n",
    "    try:\n",
    "        print(f\"Rebuilding model architecture with {num_classes} output classes...\")\n",
    "        model = rebuild_model_architecture(input_shape, num_classes, dropoutrate)\n",
    "        \n",
    "        # Load weights (not the full model)\n",
    "        print(f\"Loading weights from {weights_path}...\")\n",
    "        model.load_weights(weights_path)\n",
    "        print(\"Weights loaded successfully!\")\n",
    "        \n",
    "        # Convert to TFLite\n",
    "        print(f\"Converting model to TFLite...\")\n",
    "        converter = tf.lite.TFLiteConverter.from_keras_model(model)\n",
    "        \n",
    "        # Enable optimizations\n",
    "        converter.optimizations = [tf.lite.Optimize.DEFAULT]\n",
    "        \n",
    "        # Use FP16 precision\n",
    "        converter.target_spec.supported_types = [tf.float16]\n",
    "        \n",
    "        # Convert the model\n",
    "        tflite_model = converter.convert()\n",
    "        \n",
    "        # Ensure directory exists\n",
    "        os.makedirs(os.path.dirname(output_path), exist_ok=True)\n",
    "        \n",
    "        # Save the TFLite model\n",
    "        with open(output_path, 'wb') as f:\n",
    "            f.write(tflite_model)\n",
    "        \n",
    "        print(f\"TFLite model saved at: {output_path}\")\n",
    "        model_size_mb = os.path.getsize(output_path) / (1024 * 1024)\n",
    "        print(f\"Model size: {model_size_mb:.2f} MB\")\n",
    "        \n",
    "        return True\n",
    "    except Exception as e:\n",
    "        print(f\"Error in conversion: {str(e)}\")\n",
    "        return False\n"
   ]
  },
  {
   "cell_type": "code",
   "execution_count": 32,
   "id": "47834d7a",
   "metadata": {},
   "outputs": [
    {
     "name": "stdout",
     "output_type": "stream",
     "text": [
      "Rebuilding model architecture with 1 output classes...\n",
      "Loading weights from C:\\Users\\benat\\OneDrive\\0. MSc MLiS\\0. GitHub Repositories\\PICAR-autopilot\\MobNetV3Small_Kaggle\\weights\\bendata_regression_finetune_earlystop_mbnetv3small_weights.weights.keras...\n",
      "Weights loaded successfully!\n",
      "Converting model to TFLite...\n",
      "INFO:tensorflow:Assets written to: C:\\Users\\benat\\AppData\\Local\\Temp\\tmpec_3nh40\\assets\n"
     ]
    },
    {
     "name": "stderr",
     "output_type": "stream",
     "text": [
      "INFO:tensorflow:Assets written to: C:\\Users\\benat\\AppData\\Local\\Temp\\tmpec_3nh40\\assets\n"
     ]
    },
    {
     "name": "stdout",
     "output_type": "stream",
     "text": [
      "TFLite model saved at: C:\\Users\\benat\\OneDrive\\0. MSc MLiS\\0. GitHub Repositories\\PICAR-autopilot\\autopilot\\models\\BenTyler_extradata_v3small\\tflite_extradata_angleregression_finetuned_mobnetv3small.tflite\n",
      "Model size: 2.20 MB\n",
      "Conversion completed successfully!\n"
     ]
    }
   ],
   "source": [
    "# Define your paths\n",
    "weights_path = r'C:\\Users\\benat\\OneDrive\\0. MSc MLiS\\0. GitHub Repositories\\PICAR-autopilot\\MobNetV3Small_Kaggle\\weights\\bendata_regression_finetune_earlystop_mbnetv3small_weights.weights.keras'\n",
    "output_path = r\"C:\\Users\\benat\\OneDrive\\0. MSc MLiS\\0. GitHub Repositories\\PICAR-autopilot\\autopilot\\models\\BenTyler_extradata_v3small\\tflite_extradata_angleregression_finetuned_mobnetv3small.tflite\"\n",
    "\n",
    "# Convert model\n",
    "success = convert_model_with_weights_to_tflite(weights_path, output_path)\n",
    "if success:\n",
    "    print(\"Conversion completed successfully!\")\n",
    "else:\n",
    "    print(\"Conversion failed.\")"
   ]
  },
  {
   "cell_type": "code",
   "execution_count": 2,
   "id": "05e8c17a",
   "metadata": {},
   "outputs": [
    {
     "data": {
      "text/plain": [
       "array([0.    , 0.0625, 0.125 , 0.1875, 0.25  , 0.3125, 0.375 , 0.4375,\n",
       "       0.5   , 0.5625, 0.625 , 0.6875, 0.75  , 0.8125, 0.875 , 0.9375,\n",
       "       1.    ])"
      ]
     },
     "execution_count": 2,
     "metadata": {},
     "output_type": "execute_result"
    }
   ],
   "source": [
    "import numpy as np\n",
    "\n",
    "np.arange(0,1.01,0.0625)"
   ]
  },
  {
   "cell_type": "code",
   "execution_count": null,
   "id": "2b033bc0",
   "metadata": {},
   "outputs": [],
   "source": []
  }
 ],
 "metadata": {
  "kernelspec": {
   "display_name": "ncar_env1",
   "language": "python",
   "name": "python3"
  },
  "language_info": {
   "codemirror_mode": {
    "name": "ipython",
    "version": 3
   },
   "file_extension": ".py",
   "mimetype": "text/x-python",
   "name": "python",
   "nbconvert_exporter": "python",
   "pygments_lexer": "ipython3",
   "version": "3.8.20"
  }
 },
 "nbformat": 4,
 "nbformat_minor": 5
}
