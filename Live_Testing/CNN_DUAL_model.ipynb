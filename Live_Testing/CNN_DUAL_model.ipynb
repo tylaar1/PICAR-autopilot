{
  "cells": [
    {
      "cell_type": "markdown",
      "metadata": {
        "colab_type": "text",
        "id": "view-in-github"
      },
      "source": [
        "<a href=\"https://colab.research.google.com/github/tylaar1/PICAR-autopilot/blob/main/CNN_DUAL_model.ipynb\" target=\"_parent\"><img src=\"https://colab.research.google.com/assets/colab-badge.svg\" alt=\"Open In Colab\"/></a>"
      ]
    },
    {
      "cell_type": "markdown",
      "metadata": {
        "id": "-fhwRSFoj6C_"
      },
      "source": [
        "# SWITCH TO **`T4 GPU`** OR THE **`HPC`**"
      ]
    },
    {
      "cell_type": "markdown",
      "metadata": {
        "id": "g4V83PflfFkL"
      },
      "source": [
        "# Imports"
      ]
    },
    {
      "cell_type": "code",
      "execution_count": 1,
      "metadata": {
        "id": "kP6UczzNe1l2"
      },
      "outputs": [
        {
          "name": "stderr",
          "output_type": "stream",
          "text": [
            "2025-05-01 13:41:01.881961: I tensorflow/tsl/cuda/cudart_stub.cc:28] Could not find cuda drivers on your machine, GPU will not be used.\n",
            "2025-05-01 13:41:03.762531: I tensorflow/tsl/cuda/cudart_stub.cc:28] Could not find cuda drivers on your machine, GPU will not be used.\n",
            "2025-05-01 13:41:03.767504: I tensorflow/core/platform/cpu_feature_guard.cc:182] This TensorFlow binary is optimized to use available CPU instructions in performance-critical operations.\n",
            "To enable the following instructions: AVX2 AVX512F FMA, in other operations, rebuild TensorFlow with the appropriate compiler flags.\n",
            "2025-05-01 13:41:14.382363: W tensorflow/compiler/tf2tensorrt/utils/py_utils.cc:38] TF-TRT Warning: Could not find TensorRT\n"
          ]
        }
      ],
      "source": [
        "import os\n",
        "import pandas as pd\n",
        "import numpy as np\n",
        "import tensorflow as tf\n",
        "from keras.models import Sequential\n",
        "from keras.layers import Conv2D, MaxPooling2D, Flatten, Dense, Dropout\n",
        "from keras.preprocessing.image import load_img, img_to_array\n",
        "from sklearn.model_selection import train_test_split\n",
        "from sklearn.metrics import balanced_accuracy_score\n",
        "import matplotlib.pyplot as plt"
      ]
    },
    {
      "cell_type": "code",
      "execution_count": 2,
      "metadata": {
        "id": "IF_vPVifaU9V"
      },
      "outputs": [],
      "source": [
        "# makes it so pd dfs aren't truncated\n",
        "\n",
        "pd.set_option('display.max_colwidth', None)\n",
        "pd.set_option('display.max_rows', None)\n",
        "pd.set_option('display.max_columns', None)"
      ]
    },
    {
      "cell_type": "code",
      "execution_count": 3,
      "metadata": {
        "collapsed": true,
        "id": "eocC68amnhEI"
      },
      "outputs": [],
      "source": [
        "#from google.colab import drive\n",
        "#drive.mount('/content/drive')"
      ]
    },
    {
      "cell_type": "markdown",
      "metadata": {
        "id": "-_MvRvYnfIM5"
      },
      "source": [
        "# 1) DATA PRE-PROCESSING\n",
        "\n",
        "a) Load in labels + image file paths\n",
        "\n",
        "b) combine them into one dataframe\n",
        "\n",
        "c) EDA - spotted and removed erroneous label (speed = 1.42...)\n",
        "\n",
        "- `cleaned_df` is the cleaned df with a) b) c) completed\n",
        "\n",
        "d) convert images to numerical RGB feature maps - ML algorithms only understand numerical data\n",
        "\n",
        "e) Splitting data into training and validation sets\n",
        "\n",
        "f) data augmentation applied to training set"
      ]
    },
    {
      "cell_type": "markdown",
      "metadata": {
        "id": "HU3TvBZ5hfhX"
      },
      "source": [
        "### 1a) load in labels + image file paths"
      ]
    },
    {
      "cell_type": "code",
      "execution_count": 4,
      "metadata": {
        "id": "ZiNf_BxOfEH-"
      },
      "outputs": [],
      "source": [
        "#labels_file_path = '/content/drive/MyDrive/machine-learning-in-science-ii-2025/training_norm.csv' # tylers file path\n",
        "#labels_file_path = '/home/apyba3/KAGGLEDATAmachine-learning-in-science-ii-2025/training_norm.csv' # ben hpc file path (mlis2 cluster)\n",
        "labels_file_path = '/home/ppytr13/machine-learning-in-science-ii-2025/training_norm.csv' # tyler hpc file path (mlis2 cluster)\n",
        "labels_df = pd.read_csv(labels_file_path, index_col='image_id')"
      ]
    },
    {
      "cell_type": "code",
      "execution_count": 5,
      "metadata": {
        "id": "nOXmN--gb-Q9"
      },
      "outputs": [],
      "source": [
        "#image_folder_path = '/home/apyba3/KAGGLEDATAmachine-learning-in-science-ii-2025/training_data/training_data' # bens hpc file path\n",
        "#image_folder_path = '/content/drive/MyDrive/machine-learning-in-science-ii-2025/training_data/training_data' # tylers file path\n",
        "image_folder_path = '/home/ppytr13/machine-learning-in-science-ii-2025/training_data/training_data' # tyler hpc file path\n",
        "image_file_paths = [\n",
        "    os.path.join(image_folder_path, f)\n",
        "    for f in os.listdir(image_folder_path)\n",
        "    if f.lower().endswith(('.png', '.jpg', '.jpeg'))\n",
        "]\n",
        "\n",
        "image_file_paths.sort(key=lambda x: int(os.path.splitext(os.path.basename(x))[0])) # sorts the files in the right order (1.png, 2.png, 3.png, ...)\n",
        "\n",
        "imagefilepaths_df = pd.DataFrame(\n",
        "    image_file_paths,\n",
        "    columns=['image_file_paths'],\n",
        "    index=[int(os.path.splitext(os.path.basename(path))[0]) for path in image_file_paths]\n",
        ")\n",
        "\n",
        "imagefilepaths_df.index.name = 'image_id'"
      ]
    },
    {
      "cell_type": "markdown",
      "metadata": {
        "id": "0oeuvmeZaGSC"
      },
      "source": [
        "Checking labels dataframe"
      ]
    },
    {
      "cell_type": "code",
      "execution_count": 6,
      "metadata": {
        "colab": {
          "base_uri": "https://localhost:8080/",
          "height": 237
        },
        "id": "2pi13TZ2aFhO",
        "outputId": "7ca9f5f8-c089-4e25-9807-dfd140381483"
      },
      "outputs": [
        {
          "data": {
            "text/html": [
              "<div>\n",
              "<style scoped>\n",
              "    .dataframe tbody tr th:only-of-type {\n",
              "        vertical-align: middle;\n",
              "    }\n",
              "\n",
              "    .dataframe tbody tr th {\n",
              "        vertical-align: top;\n",
              "    }\n",
              "\n",
              "    .dataframe thead th {\n",
              "        text-align: right;\n",
              "    }\n",
              "</style>\n",
              "<table border=\"1\" class=\"dataframe\">\n",
              "  <thead>\n",
              "    <tr style=\"text-align: right;\">\n",
              "      <th></th>\n",
              "      <th>angle</th>\n",
              "      <th>speed</th>\n",
              "    </tr>\n",
              "    <tr>\n",
              "      <th>image_id</th>\n",
              "      <th></th>\n",
              "      <th></th>\n",
              "    </tr>\n",
              "  </thead>\n",
              "  <tbody>\n",
              "    <tr>\n",
              "      <th>1</th>\n",
              "      <td>0.4375</td>\n",
              "      <td>0.0</td>\n",
              "    </tr>\n",
              "    <tr>\n",
              "      <th>2</th>\n",
              "      <td>0.8125</td>\n",
              "      <td>1.0</td>\n",
              "    </tr>\n",
              "    <tr>\n",
              "      <th>3</th>\n",
              "      <td>0.4375</td>\n",
              "      <td>1.0</td>\n",
              "    </tr>\n",
              "    <tr>\n",
              "      <th>4</th>\n",
              "      <td>0.6250</td>\n",
              "      <td>1.0</td>\n",
              "    </tr>\n",
              "    <tr>\n",
              "      <th>5</th>\n",
              "      <td>0.5000</td>\n",
              "      <td>0.0</td>\n",
              "    </tr>\n",
              "  </tbody>\n",
              "</table>\n",
              "</div>"
            ],
            "text/plain": [
              "           angle  speed\n",
              "image_id               \n",
              "1         0.4375    0.0\n",
              "2         0.8125    1.0\n",
              "3         0.4375    1.0\n",
              "4         0.6250    1.0\n",
              "5         0.5000    0.0"
            ]
          },
          "execution_count": 6,
          "metadata": {},
          "output_type": "execute_result"
        }
      ],
      "source": [
        "labels_df.head()"
      ]
    },
    {
      "cell_type": "markdown",
      "metadata": {
        "id": "puEjGoOJaRS4"
      },
      "source": [
        "Checking image file paths dataframe - as you can see the file paths are ordered correctly (1.png, 2.png, 3.png, ...)"
      ]
    },
    {
      "cell_type": "code",
      "execution_count": 7,
      "metadata": {
        "colab": {
          "base_uri": "https://localhost:8080/",
          "height": 237
        },
        "id": "a1suFSK7aWKH",
        "outputId": "18fac753-1f24-413b-daad-1971eb2f3b15"
      },
      "outputs": [
        {
          "data": {
            "text/html": [
              "<div>\n",
              "<style scoped>\n",
              "    .dataframe tbody tr th:only-of-type {\n",
              "        vertical-align: middle;\n",
              "    }\n",
              "\n",
              "    .dataframe tbody tr th {\n",
              "        vertical-align: top;\n",
              "    }\n",
              "\n",
              "    .dataframe thead th {\n",
              "        text-align: right;\n",
              "    }\n",
              "</style>\n",
              "<table border=\"1\" class=\"dataframe\">\n",
              "  <thead>\n",
              "    <tr style=\"text-align: right;\">\n",
              "      <th></th>\n",
              "      <th>image_file_paths</th>\n",
              "    </tr>\n",
              "    <tr>\n",
              "      <th>image_id</th>\n",
              "      <th></th>\n",
              "    </tr>\n",
              "  </thead>\n",
              "  <tbody>\n",
              "    <tr>\n",
              "      <th>1</th>\n",
              "      <td>/home/ppytr13/machine-learning-in-science-ii-2025/training_data/training_data/1.png</td>\n",
              "    </tr>\n",
              "    <tr>\n",
              "      <th>2</th>\n",
              "      <td>/home/ppytr13/machine-learning-in-science-ii-2025/training_data/training_data/2.png</td>\n",
              "    </tr>\n",
              "    <tr>\n",
              "      <th>3</th>\n",
              "      <td>/home/ppytr13/machine-learning-in-science-ii-2025/training_data/training_data/3.png</td>\n",
              "    </tr>\n",
              "    <tr>\n",
              "      <th>4</th>\n",
              "      <td>/home/ppytr13/machine-learning-in-science-ii-2025/training_data/training_data/4.png</td>\n",
              "    </tr>\n",
              "    <tr>\n",
              "      <th>5</th>\n",
              "      <td>/home/ppytr13/machine-learning-in-science-ii-2025/training_data/training_data/5.png</td>\n",
              "    </tr>\n",
              "  </tbody>\n",
              "</table>\n",
              "</div>"
            ],
            "text/plain": [
              "                                                                             image_file_paths\n",
              "image_id                                                                                     \n",
              "1         /home/ppytr13/machine-learning-in-science-ii-2025/training_data/training_data/1.png\n",
              "2         /home/ppytr13/machine-learning-in-science-ii-2025/training_data/training_data/2.png\n",
              "3         /home/ppytr13/machine-learning-in-science-ii-2025/training_data/training_data/3.png\n",
              "4         /home/ppytr13/machine-learning-in-science-ii-2025/training_data/training_data/4.png\n",
              "5         /home/ppytr13/machine-learning-in-science-ii-2025/training_data/training_data/5.png"
            ]
          },
          "execution_count": 7,
          "metadata": {},
          "output_type": "execute_result"
        }
      ],
      "source": [
        "imagefilepaths_df.head()"
      ]
    },
    {
      "cell_type": "markdown",
      "metadata": {
        "id": "CjDdyYd6cMBE"
      },
      "source": [
        "### 1b) Combine labels and image file paths into one dataframe"
      ]
    },
    {
      "cell_type": "code",
      "execution_count": 8,
      "metadata": {
        "id": "6NdbonzPcLKB"
      },
      "outputs": [],
      "source": [
        "merged_df = pd.merge(labels_df, imagefilepaths_df, on='image_id', how='inner')\n",
        "merged_df['speed'] = merged_df['speed'].round(6) # to get rid of floating point errors"
      ]
    },
    {
      "cell_type": "code",
      "execution_count": 9,
      "metadata": {
        "colab": {
          "base_uri": "https://localhost:8080/",
          "height": 237
        },
        "id": "-VstirIAdAZi",
        "outputId": "8e931623-be6a-4846-f7ba-05f41d1e9ced"
      },
      "outputs": [
        {
          "data": {
            "text/html": [
              "<div>\n",
              "<style scoped>\n",
              "    .dataframe tbody tr th:only-of-type {\n",
              "        vertical-align: middle;\n",
              "    }\n",
              "\n",
              "    .dataframe tbody tr th {\n",
              "        vertical-align: top;\n",
              "    }\n",
              "\n",
              "    .dataframe thead th {\n",
              "        text-align: right;\n",
              "    }\n",
              "</style>\n",
              "<table border=\"1\" class=\"dataframe\">\n",
              "  <thead>\n",
              "    <tr style=\"text-align: right;\">\n",
              "      <th></th>\n",
              "      <th>angle</th>\n",
              "      <th>speed</th>\n",
              "      <th>image_file_paths</th>\n",
              "    </tr>\n",
              "    <tr>\n",
              "      <th>image_id</th>\n",
              "      <th></th>\n",
              "      <th></th>\n",
              "      <th></th>\n",
              "    </tr>\n",
              "  </thead>\n",
              "  <tbody>\n",
              "    <tr>\n",
              "      <th>1</th>\n",
              "      <td>0.4375</td>\n",
              "      <td>0.0</td>\n",
              "      <td>/home/ppytr13/machine-learning-in-science-ii-2025/training_data/training_data/1.png</td>\n",
              "    </tr>\n",
              "    <tr>\n",
              "      <th>2</th>\n",
              "      <td>0.8125</td>\n",
              "      <td>1.0</td>\n",
              "      <td>/home/ppytr13/machine-learning-in-science-ii-2025/training_data/training_data/2.png</td>\n",
              "    </tr>\n",
              "    <tr>\n",
              "      <th>3</th>\n",
              "      <td>0.4375</td>\n",
              "      <td>1.0</td>\n",
              "      <td>/home/ppytr13/machine-learning-in-science-ii-2025/training_data/training_data/3.png</td>\n",
              "    </tr>\n",
              "    <tr>\n",
              "      <th>4</th>\n",
              "      <td>0.6250</td>\n",
              "      <td>1.0</td>\n",
              "      <td>/home/ppytr13/machine-learning-in-science-ii-2025/training_data/training_data/4.png</td>\n",
              "    </tr>\n",
              "    <tr>\n",
              "      <th>5</th>\n",
              "      <td>0.5000</td>\n",
              "      <td>0.0</td>\n",
              "      <td>/home/ppytr13/machine-learning-in-science-ii-2025/training_data/training_data/5.png</td>\n",
              "    </tr>\n",
              "  </tbody>\n",
              "</table>\n",
              "</div>"
            ],
            "text/plain": [
              "           angle  speed  \\\n",
              "image_id                  \n",
              "1         0.4375    0.0   \n",
              "2         0.8125    1.0   \n",
              "3         0.4375    1.0   \n",
              "4         0.6250    1.0   \n",
              "5         0.5000    0.0   \n",
              "\n",
              "                                                                             image_file_paths  \n",
              "image_id                                                                                       \n",
              "1         /home/ppytr13/machine-learning-in-science-ii-2025/training_data/training_data/1.png  \n",
              "2         /home/ppytr13/machine-learning-in-science-ii-2025/training_data/training_data/2.png  \n",
              "3         /home/ppytr13/machine-learning-in-science-ii-2025/training_data/training_data/3.png  \n",
              "4         /home/ppytr13/machine-learning-in-science-ii-2025/training_data/training_data/4.png  \n",
              "5         /home/ppytr13/machine-learning-in-science-ii-2025/training_data/training_data/5.png  "
            ]
          },
          "execution_count": 9,
          "metadata": {},
          "output_type": "execute_result"
        }
      ],
      "source": [
        "merged_df.head()"
      ]
    },
    {
      "cell_type": "code",
      "execution_count": 10,
      "metadata": {
        "colab": {
          "base_uri": "https://localhost:8080/",
          "height": 206
        },
        "id": "8MgNoL8nfBm2",
        "outputId": "2289083b-3ece-4234-ee87-e8735cf4dc1e"
      },
      "outputs": [
        {
          "data": {
            "text/html": [
              "<div>\n",
              "<style scoped>\n",
              "    .dataframe tbody tr th:only-of-type {\n",
              "        vertical-align: middle;\n",
              "    }\n",
              "\n",
              "    .dataframe tbody tr th {\n",
              "        vertical-align: top;\n",
              "    }\n",
              "\n",
              "    .dataframe thead th {\n",
              "        text-align: right;\n",
              "    }\n",
              "</style>\n",
              "<table border=\"1\" class=\"dataframe\">\n",
              "  <thead>\n",
              "    <tr style=\"text-align: right;\">\n",
              "      <th></th>\n",
              "      <th>angle</th>\n",
              "      <th>speed</th>\n",
              "      <th>image_file_paths</th>\n",
              "    </tr>\n",
              "    <tr>\n",
              "      <th>image_id</th>\n",
              "      <th></th>\n",
              "      <th></th>\n",
              "      <th></th>\n",
              "    </tr>\n",
              "  </thead>\n",
              "  <tbody>\n",
              "    <tr>\n",
              "      <th>3139</th>\n",
              "      <td>0.750</td>\n",
              "      <td>1.0</td>\n",
              "      <td>/home/ppytr13/machine-learning-in-science-ii-2025/training_data/training_data/3139.png</td>\n",
              "    </tr>\n",
              "    <tr>\n",
              "      <th>3140</th>\n",
              "      <td>0.875</td>\n",
              "      <td>1.0</td>\n",
              "      <td>/home/ppytr13/machine-learning-in-science-ii-2025/training_data/training_data/3140.png</td>\n",
              "    </tr>\n",
              "    <tr>\n",
              "      <th>3142</th>\n",
              "      <td>0.625</td>\n",
              "      <td>0.0</td>\n",
              "      <td>/home/ppytr13/machine-learning-in-science-ii-2025/training_data/training_data/3142.png</td>\n",
              "    </tr>\n",
              "    <tr>\n",
              "      <th>3143</th>\n",
              "      <td>0.625</td>\n",
              "      <td>1.0</td>\n",
              "      <td>/home/ppytr13/machine-learning-in-science-ii-2025/training_data/training_data/3143.png</td>\n",
              "    </tr>\n",
              "  </tbody>\n",
              "</table>\n",
              "</div>"
            ],
            "text/plain": [
              "          angle  speed  \\\n",
              "image_id                 \n",
              "3139      0.750    1.0   \n",
              "3140      0.875    1.0   \n",
              "3142      0.625    0.0   \n",
              "3143      0.625    1.0   \n",
              "\n",
              "                                                                                image_file_paths  \n",
              "image_id                                                                                          \n",
              "3139      /home/ppytr13/machine-learning-in-science-ii-2025/training_data/training_data/3139.png  \n",
              "3140      /home/ppytr13/machine-learning-in-science-ii-2025/training_data/training_data/3140.png  \n",
              "3142      /home/ppytr13/machine-learning-in-science-ii-2025/training_data/training_data/3142.png  \n",
              "3143      /home/ppytr13/machine-learning-in-science-ii-2025/training_data/training_data/3143.png  "
            ]
          },
          "execution_count": 10,
          "metadata": {},
          "output_type": "execute_result"
        }
      ],
      "source": [
        "merged_df.loc[3139:3143]"
      ]
    },
    {
      "cell_type": "markdown",
      "metadata": {
        "id": "U7PCxqJbmXE6"
      },
      "source": [
        "The above cell shows that:\n",
        "\n",
        " 1) the image files and labels match (see image_id and the number at the end of the file path)\n",
        "\n",
        " 2) the missing rows in labels_df (image_id: 3141, 3999, 4895, 8285, 10171) have been taken care of"
      ]
    },
    {
      "cell_type": "markdown",
      "metadata": {
        "id": "h3OKLcn9u0Pz"
      },
      "source": [
        "### 1c) EDA"
      ]
    },
    {
      "cell_type": "code",
      "execution_count": 11,
      "metadata": {
        "colab": {
          "base_uri": "https://localhost:8080/"
        },
        "id": "IWQCQrR-oCps",
        "outputId": "38100106-c050-4395-dcd2-727998d2f17a"
      },
      "outputs": [
        {
          "data": {
            "text/plain": [
              "angle\n",
              "0.7500    2123\n",
              "0.5000    2046\n",
              "0.6875    2007\n",
              "0.6250    1963\n",
              "0.5625    1609\n",
              "0.4375    1467\n",
              "0.8125    1147\n",
              "0.3750     428\n",
              "0.8750     301\n",
              "0.3125     213\n",
              "0.2500     104\n",
              "0.1250      99\n",
              "0.1875      98\n",
              "0.9375      65\n",
              "0.0000      60\n",
              "1.0000      35\n",
              "0.0625      28\n",
              "Name: count, dtype: int64"
            ]
          },
          "execution_count": 11,
          "metadata": {},
          "output_type": "execute_result"
        }
      ],
      "source": [
        "merged_df.value_counts('angle')"
      ]
    },
    {
      "cell_type": "markdown",
      "metadata": {
        "id": "K4pZ65pYvdqb"
      },
      "source": [
        "note: imbalance datset"
      ]
    },
    {
      "cell_type": "markdown",
      "metadata": {
        "id": "xJmG7jmNkE0k"
      },
      "source": [
        "identifying the row with the erroneous speed value"
      ]
    },
    {
      "cell_type": "code",
      "execution_count": 12,
      "metadata": {
        "colab": {
          "base_uri": "https://localhost:8080/",
          "height": 112
        },
        "id": "wAQnbLLeiqy2",
        "outputId": "295dffb7-4737-4979-effb-cb653880fa07"
      },
      "outputs": [
        {
          "data": {
            "text/html": [
              "<div>\n",
              "<style scoped>\n",
              "    .dataframe tbody tr th:only-of-type {\n",
              "        vertical-align: middle;\n",
              "    }\n",
              "\n",
              "    .dataframe tbody tr th {\n",
              "        vertical-align: top;\n",
              "    }\n",
              "\n",
              "    .dataframe thead th {\n",
              "        text-align: right;\n",
              "    }\n",
              "</style>\n",
              "<table border=\"1\" class=\"dataframe\">\n",
              "  <thead>\n",
              "    <tr style=\"text-align: right;\">\n",
              "      <th></th>\n",
              "      <th>angle</th>\n",
              "      <th>speed</th>\n",
              "      <th>image_file_paths</th>\n",
              "    </tr>\n",
              "    <tr>\n",
              "      <th>image_id</th>\n",
              "      <th></th>\n",
              "      <th></th>\n",
              "      <th></th>\n",
              "    </tr>\n",
              "  </thead>\n",
              "  <tbody>\n",
              "    <tr>\n",
              "      <th>3884</th>\n",
              "      <td>0.4375</td>\n",
              "      <td>1.428571</td>\n",
              "      <td>/home/ppytr13/machine-learning-in-science-ii-2025/training_data/training_data/3884.png</td>\n",
              "    </tr>\n",
              "  </tbody>\n",
              "</table>\n",
              "</div>"
            ],
            "text/plain": [
              "           angle     speed  \\\n",
              "image_id                     \n",
              "3884      0.4375  1.428571   \n",
              "\n",
              "                                                                                image_file_paths  \n",
              "image_id                                                                                          \n",
              "3884      /home/ppytr13/machine-learning-in-science-ii-2025/training_data/training_data/3884.png  "
            ]
          },
          "execution_count": 12,
          "metadata": {},
          "output_type": "execute_result"
        }
      ],
      "source": [
        "merged_df[merged_df['speed'] == 1.428571]"
      ]
    },
    {
      "cell_type": "markdown",
      "metadata": {
        "id": "zMZq41-RkLz0"
      },
      "source": [
        "we want to remove this row"
      ]
    },
    {
      "cell_type": "code",
      "execution_count": 13,
      "metadata": {
        "colab": {
          "base_uri": "https://localhost:8080/",
          "height": 206
        },
        "id": "TDMqIiOLSKGX",
        "outputId": "cc38c0a4-9f6c-41dc-f288-d0e4a138866c"
      },
      "outputs": [
        {
          "data": {
            "text/html": [
              "<div>\n",
              "<style scoped>\n",
              "    .dataframe tbody tr th:only-of-type {\n",
              "        vertical-align: middle;\n",
              "    }\n",
              "\n",
              "    .dataframe tbody tr th {\n",
              "        vertical-align: top;\n",
              "    }\n",
              "\n",
              "    .dataframe thead th {\n",
              "        text-align: right;\n",
              "    }\n",
              "</style>\n",
              "<table border=\"1\" class=\"dataframe\">\n",
              "  <thead>\n",
              "    <tr style=\"text-align: right;\">\n",
              "      <th></th>\n",
              "      <th>angle</th>\n",
              "      <th>speed</th>\n",
              "      <th>image_file_paths</th>\n",
              "    </tr>\n",
              "    <tr>\n",
              "      <th>image_id</th>\n",
              "      <th></th>\n",
              "      <th></th>\n",
              "      <th></th>\n",
              "    </tr>\n",
              "  </thead>\n",
              "  <tbody>\n",
              "    <tr>\n",
              "      <th>3882</th>\n",
              "      <td>0.5625</td>\n",
              "      <td>1.0</td>\n",
              "      <td>/home/ppytr13/machine-learning-in-science-ii-2025/training_data/training_data/3882.png</td>\n",
              "    </tr>\n",
              "    <tr>\n",
              "      <th>3883</th>\n",
              "      <td>0.3750</td>\n",
              "      <td>0.0</td>\n",
              "      <td>/home/ppytr13/machine-learning-in-science-ii-2025/training_data/training_data/3883.png</td>\n",
              "    </tr>\n",
              "    <tr>\n",
              "      <th>3885</th>\n",
              "      <td>0.0000</td>\n",
              "      <td>1.0</td>\n",
              "      <td>/home/ppytr13/machine-learning-in-science-ii-2025/training_data/training_data/3885.png</td>\n",
              "    </tr>\n",
              "    <tr>\n",
              "      <th>3886</th>\n",
              "      <td>0.7500</td>\n",
              "      <td>1.0</td>\n",
              "      <td>/home/ppytr13/machine-learning-in-science-ii-2025/training_data/training_data/3886.png</td>\n",
              "    </tr>\n",
              "  </tbody>\n",
              "</table>\n",
              "</div>"
            ],
            "text/plain": [
              "           angle  speed  \\\n",
              "image_id                  \n",
              "3882      0.5625    1.0   \n",
              "3883      0.3750    0.0   \n",
              "3885      0.0000    1.0   \n",
              "3886      0.7500    1.0   \n",
              "\n",
              "                                                                                image_file_paths  \n",
              "image_id                                                                                          \n",
              "3882      /home/ppytr13/machine-learning-in-science-ii-2025/training_data/training_data/3882.png  \n",
              "3883      /home/ppytr13/machine-learning-in-science-ii-2025/training_data/training_data/3883.png  \n",
              "3885      /home/ppytr13/machine-learning-in-science-ii-2025/training_data/training_data/3885.png  \n",
              "3886      /home/ppytr13/machine-learning-in-science-ii-2025/training_data/training_data/3886.png  "
            ]
          },
          "execution_count": 13,
          "metadata": {},
          "output_type": "execute_result"
        }
      ],
      "source": [
        "cleaned_df = merged_df[merged_df['speed'] != 1.428571]\n",
        "cleaned_df.loc[3882:3886]"
      ]
    },
    {
      "cell_type": "markdown",
      "metadata": {
        "id": "Di6F6km_DBmj"
      },
      "source": [
        "### 1d) convert images to numerical RGB feature maps"
      ]
    },
    {
      "cell_type": "code",
      "execution_count": 14,
      "metadata": {
        "id": "oeeBTruNCQ96"
      },
      "outputs": [
        {
          "name": "stderr",
          "output_type": "stream",
          "text": [
            "2025-05-01 13:41:33.637307: W tensorflow/core/common_runtime/gpu/gpu_device.cc:1960] Cannot dlopen some GPU libraries. Please make sure the missing libraries mentioned above are installed properly if you would like to use GPU. Follow the guide at https://www.tensorflow.org/install/gpu for how to download and setup the required libraries for your platform.\n",
            "Skipping registering GPU devices...\n"
          ]
        }
      ],
      "source": [
        "def process_image(image_path, resized_shape=(224, 224)):\n",
        "    # Load and preprocess the image\n",
        "    image = tf.io.read_file(image_path)\n",
        "    image = tf.image.decode_jpeg(image, channels=3)\n",
        "    image = tf.image.resize(image, resized_shape)\n",
        "    image = image / 255.0  # Normalize pixel values to [0,1]\n",
        "    return image\n",
        "\n",
        "# Creating the dataset\n",
        "dataset = tf.data.Dataset.from_tensor_slices(\n",
        "    (cleaned_df[\"image_file_paths\"], cleaned_df[\"angle\"], cleaned_df[\"speed\"])\n",
        ")  # Convert pandas DataFrame to a tf.data.Dataset\n",
        "\n",
        "# Apply the map function to process images and format labels\n",
        "dataset = dataset.map(\n",
        "    lambda image_path, angle, speed: (\n",
        "        process_image(image_path),  # Process the image\n",
        "        {\"classification\": angle, \"regression\": speed}  # Format labels as a dictionary\n",
        "    )\n",
        ")\n",
        "\n",
        "dataset = dataset.cache()\n",
        "dataset = dataset.shuffle(len(cleaned_df))\n",
        "dataset = dataset.batch(32)\n",
        "dataset = dataset.prefetch(tf.data.AUTOTUNE)"
      ]
    },
    {
      "cell_type": "markdown",
      "metadata": {
        "id": "pUOlsWQeVlyC"
      },
      "source": [
        "lets check and see if what we have done works"
      ]
    },
    {
      "cell_type": "markdown",
      "metadata": {
        "id": "Md6U_i84SiK5"
      },
      "source": [
        "### 1e) Splitting data into training and validation sets (test set is already provided in kaggle data)"
      ]
    },
    {
      "cell_type": "code",
      "execution_count": 15,
      "metadata": {
        "id": "yYlssPh5dxaO"
      },
      "outputs": [],
      "source": [
        "# 80-20 split\n",
        "\n",
        "dataset_size = tf.data.experimental.cardinality(dataset).numpy()\n",
        "train_size = int(0.8 * dataset_size)\n",
        "\n",
        "train_dataset = dataset.take(train_size)\n",
        "validation_dataset = dataset.skip(train_size)"
      ]
    },
    {
      "cell_type": "code",
      "execution_count": 16,
      "metadata": {
        "colab": {
          "base_uri": "https://localhost:8080/"
        },
        "id": "qPUE6rd8cgQN",
        "outputId": "d6107991-7af9-4bf5-e020-56a8d40456ab"
      },
      "outputs": [
        {
          "name": "stdout",
          "output_type": "stream",
          "text": [
            "Train size: 344, validation size: 87\n"
          ]
        }
      ],
      "source": [
        "print(f\"Train size: {train_size}, validation size: {dataset_size - train_size}\")"
      ]
    },
    {
      "cell_type": "code",
      "execution_count": 17,
      "metadata": {
        "colab": {
          "base_uri": "https://localhost:8080/"
        },
        "id": "GcPDFG91s-NS",
        "outputId": "2a200ba4-26c3-4d33-af2f-010b8d010fea"
      },
      "outputs": [
        {
          "data": {
            "text/plain": [
              "<_SkipDataset element_spec=(TensorSpec(shape=(None, 224, 224, 3), dtype=tf.float32, name=None), {'classification': TensorSpec(shape=(None,), dtype=tf.float64, name=None), 'regression': TensorSpec(shape=(None,), dtype=tf.float64, name=None)})>"
            ]
          },
          "execution_count": 17,
          "metadata": {},
          "output_type": "execute_result"
        }
      ],
      "source": [
        "validation_dataset"
      ]
    },
    {
      "cell_type": "markdown",
      "metadata": {
        "id": "0ujsjhMPSw4f"
      },
      "source": [
        "### 1f) Data augmentation applied to training set\n",
        "\n",
        "Flipping or rotating the image will render the angle labels incorrect so none of that was applied to the images for this regression task\n",
        "\n",
        "- Random Brightness Adjustment\n",
        "- Random Contrast Adjustment\n",
        "- Random Hue Adjustment\n",
        "- Random Saturation Adjustment\n"
      ]
    },
    {
      "cell_type": "code",
      "execution_count": 18,
      "metadata": {
        "id": "KPVCiRePlv2X"
      },
      "outputs": [],
      "source": [
        "def augment_image(image, label):\n",
        "  seed = (6, 9)\n",
        "  image = tf.image.stateless_random_brightness(image, 0.2, seed)\n",
        "  image = tf.image.stateless_random_contrast(image, 0.8, 1.2, seed)\n",
        "  image = tf.image.stateless_random_hue(image, 0.2, seed)\n",
        "  image = tf.image.stateless_random_saturation(image, 0.8, 1.2, seed)\n",
        "  return image, label\n",
        "\n",
        "augmented_dataset = train_dataset.map(augment_image, num_parallel_calls=tf.data.AUTOTUNE)\n",
        "train_dataset = train_dataset.concatenate(augmented_dataset)\n",
        "train_dataset = train_dataset.shuffle(buffer_size=len(cleaned_df))"
      ]
    },
    {
      "cell_type": "markdown",
      "metadata": {
        "id": "cmetmzNHTWzU"
      },
      "source": [
        "# 2) Model Building - MobileNetV3Large Transfer Learning\n",
        "\n",
        "a) Set up model architecture\n",
        "\n",
        "b) define training step\n",
        "\n",
        "c) training the model on the training set\n",
        "\n",
        "d) fine-tuning"
      ]
    },
    {
      "cell_type": "markdown",
      "metadata": {
        "id": "48RHLVshdX5L"
      },
      "source": [
        "### 2a) Set up model architecture\n",
        "\n",
        "- MobileNetV2 to learn lower level features\n",
        "- global average pooling layer\n",
        "- drop out layer\n",
        "- dense layer with sigmoid activation"
      ]
    },
    {
      "cell_type": "code",
      "execution_count": 19,
      "metadata": {
        "id": "yv1bOM3JtsVi"
      },
      "outputs": [],
      "source": [
        "dropoutrate = 0.2\n",
        "num_classes = 1"
      ]
    },
    {
      "cell_type": "code",
      "execution_count": 20,
      "metadata": {
        "colab": {
          "base_uri": "https://localhost:8080/"
        },
        "id": "02gR58Z7zYqX",
        "outputId": "e1beef06-1e6f-4601-c5b5-b3b6c2ebf2c0"
      },
      "outputs": [
        {
          "name": "stdout",
          "output_type": "stream",
          "text": [
            "Model: \"model\"\n",
            "__________________________________________________________________________________________________\n",
            " Layer (type)                Output Shape                 Param #   Connected to                  \n",
            "==================================================================================================\n",
            " input_1 (InputLayer)        [(None, 224, 224, 3)]        0         []                            \n",
            "                                                                                                  \n",
            " conv2d (Conv2D)             (None, 222, 222, 32)         896       ['input_1[0][0]']             \n",
            "                                                                                                  \n",
            " max_pooling2d (MaxPooling2  (None, 111, 111, 32)         0         ['conv2d[0][0]']              \n",
            " D)                                                                                               \n",
            "                                                                                                  \n",
            " global_average_pooling2d (  (None, 32)                   0         ['max_pooling2d[0][0]']       \n",
            " GlobalAveragePooling2D)                                                                          \n",
            "                                                                                                  \n",
            " dense (Dense)               (None, 128)                  4224      ['global_average_pooling2d[0][\n",
            "                                                                    0]']                          \n",
            "                                                                                                  \n",
            " dropout (Dropout)           (None, 128)                  0         ['dense[0][0]']               \n",
            "                                                                                                  \n",
            " dense_1 (Dense)             (None, 64)                   8256      ['dropout[0][0]']             \n",
            "                                                                                                  \n",
            " dropout_1 (Dropout)         (None, 64)                   0         ['dense_1[0][0]']             \n",
            "                                                                                                  \n",
            " dense_2 (Dense)             (None, 32)                   2080      ['dropout_1[0][0]']           \n",
            "                                                                                                  \n",
            " classification (Dense)      (None, 1)                    33        ['dense_2[0][0]']             \n",
            "                                                                                                  \n",
            " regression (Dense)          (None, 1)                    33        ['dense_2[0][0]']             \n",
            "                                                                                                  \n",
            "==================================================================================================\n",
            "Total params: 15522 (60.63 KB)\n",
            "Trainable params: 15522 (60.63 KB)\n",
            "Non-trainable params: 0 (0.00 Byte)\n",
            "__________________________________________________________________________________________________\n"
          ]
        }
      ],
      "source": [
        "input_layer = tf.keras.Input(shape=(224, 224, 3))\n",
        "x = tf.keras.layers.Conv2D(32, (3, 3), activation='relu')(input_layer)\n",
        "x = tf.keras.layers.MaxPooling2D((2, 2))(x) #experiment with removing this\n",
        "x = tf.keras.layers.GlobalAveragePooling2D()(x)\n",
        "x = tf.keras.layers.Dense(128, activation='relu')(x)\n",
        "x = tf.keras.layers.Dropout(dropoutrate)(x)\n",
        "x = tf.keras.layers.Dense(64, activation='relu')(x)\n",
        "x = tf.keras.layers.Dropout(dropoutrate)(x)\n",
        "x = tf.keras.layers.Dense(32, activation='relu')(x)\n",
        "\n",
        "#split outputs to predict speed and angle\n",
        "classification_output = tf.keras.layers.Dense(num_classes, activation='sigmoid', name=\"classification\")(x)\n",
        "regression_output = tf.keras.layers.Dense(1, activation='linear', name=\"regression\")(x)\n",
        "\n",
        "#combine both outputs\n",
        "model = tf.keras.Model(inputs=input_layer, outputs=[classification_output, regression_output])\n",
        "\n",
        "model.compile(optimizer=tf.keras.optimizers.Adam(learning_rate=0.001),\n",
        "              loss={'classification': 'binary_crossentropy', 'regression': 'mse'},\n",
        "              metrics={'classification': 'accuracy', 'regression': 'mse'})\n",
        "\n",
        "\n",
        "model.summary()\n"
      ]
    },
    {
      "cell_type": "markdown",
      "metadata": {
        "id": "bUMefNeTpDWF"
      },
      "source": [
        "### 2c) Training the model on the training set"
      ]
    },
    {
      "cell_type": "code",
      "execution_count": 21,
      "metadata": {
        "colab": {
          "base_uri": "https://localhost:8080/"
        },
        "collapsed": true,
        "id": "uE2K4gVQedXN",
        "outputId": "617bce02-d694-4979-f97a-48d54e602452"
      },
      "outputs": [
        {
          "name": "stdout",
          "output_type": "stream",
          "text": [
            "Epoch 1/50\n"
          ]
        },
        {
          "name": "stderr",
          "output_type": "stream",
          "text": [
            "2025-05-01 13:41:46.872521: I tensorflow/core/kernels/data/shuffle_dataset_op.cc:422] Filling up shuffle buffer (this may take a while): 9933 of 13792\n",
            "2025-05-01 13:41:49.915027: I tensorflow/core/kernels/data/shuffle_dataset_op.cc:450] Shuffle buffer filled.\n",
            "2025-05-01 13:41:49.917813: I tensorflow/core/kernels/data/shuffle_dataset_op.cc:422] Filling up shuffle buffer (this may take a while): 1 of 13792\n",
            "2025-05-01 13:41:55.958871: I tensorflow/core/kernels/data/shuffle_dataset_op.cc:450] Shuffle buffer filled.\n"
          ]
        },
        {
          "name": "stdout",
          "output_type": "stream",
          "text": [
            "688/688 [==============================] - 257s 343ms/step - loss: 0.8755 - classification_loss: 0.6733 - regression_loss: 0.2022 - classification_accuracy: 0.0025 - regression_mse: 0.2022 - val_loss: 0.8588 - val_classification_loss: 0.6722 - val_regression_loss: 0.1866 - val_classification_accuracy: 0.0022 - val_regression_mse: 0.1866\n",
            "Epoch 2/50\n",
            "688/688 [==============================] - 242s 343ms/step - loss: 0.8550 - classification_loss: 0.6710 - regression_loss: 0.1840 - classification_accuracy: 0.0025 - regression_mse: 0.1840 - val_loss: 0.8417 - val_classification_loss: 0.6701 - val_regression_loss: 0.1716 - val_classification_accuracy: 0.0036 - val_regression_mse: 0.1716\n",
            "Epoch 3/50\n",
            "688/688 [==============================] - 236s 335ms/step - loss: 0.8345 - classification_loss: 0.6701 - regression_loss: 0.1644 - classification_accuracy: 0.0026 - regression_mse: 0.1644 - val_loss: 0.8212 - val_classification_loss: 0.6670 - val_regression_loss: 0.1542 - val_classification_accuracy: 0.0040 - val_regression_mse: 0.1542\n",
            "Epoch 4/50\n",
            "688/688 [==============================] - 235s 333ms/step - loss: 0.8130 - classification_loss: 0.6693 - regression_loss: 0.1437 - classification_accuracy: 0.0025 - regression_mse: 0.1437 - val_loss: 0.8041 - val_classification_loss: 0.6697 - val_regression_loss: 0.1344 - val_classification_accuracy: 0.0022 - val_regression_mse: 0.1344\n",
            "Epoch 5/50\n",
            "688/688 [==============================] - 234s 332ms/step - loss: 0.7999 - classification_loss: 0.6683 - regression_loss: 0.1316 - classification_accuracy: 0.0025 - regression_mse: 0.1316 - val_loss: 0.8111 - val_classification_loss: 0.6669 - val_regression_loss: 0.1443 - val_classification_accuracy: 0.0029 - val_regression_mse: 0.1443\n",
            "Epoch 6/50\n",
            "688/688 [==============================] - 236s 334ms/step - loss: 0.7832 - classification_loss: 0.6681 - regression_loss: 0.1151 - classification_accuracy: 0.0023 - regression_mse: 0.1151 - val_loss: 0.7696 - val_classification_loss: 0.6681 - val_regression_loss: 0.1014 - val_classification_accuracy: 0.0022 - val_regression_mse: 0.1014\n",
            "Epoch 7/50\n",
            "688/688 [==============================] - 213s 300ms/step - loss: 0.7680 - classification_loss: 0.6662 - regression_loss: 0.1018 - classification_accuracy: 0.0026 - regression_mse: 0.1018 - val_loss: 0.7510 - val_classification_loss: 0.6648 - val_regression_loss: 0.0862 - val_classification_accuracy: 0.0022 - val_regression_mse: 0.0862\n",
            "Epoch 8/50\n",
            "688/688 [==============================] - 180s 257ms/step - loss: 0.7447 - classification_loss: 0.6593 - regression_loss: 0.0854 - classification_accuracy: 0.0033 - regression_mse: 0.0854 - val_loss: 0.7308 - val_classification_loss: 0.6541 - val_regression_loss: 0.0767 - val_classification_accuracy: 0.0025 - val_regression_mse: 0.0767\n",
            "Epoch 9/50\n",
            "688/688 [==============================] - 183s 260ms/step - loss: 0.7391 - classification_loss: 0.6538 - regression_loss: 0.0854 - classification_accuracy: 0.0043 - regression_mse: 0.0854 - val_loss: 0.7182 - val_classification_loss: 0.6505 - val_regression_loss: 0.0677 - val_classification_accuracy: 0.0057 - val_regression_mse: 0.0677\n",
            "Epoch 10/50\n",
            "688/688 [==============================] - 181s 257ms/step - loss: 0.7316 - classification_loss: 0.6517 - regression_loss: 0.0799 - classification_accuracy: 0.0048 - regression_mse: 0.0799 - val_loss: 0.7291 - val_classification_loss: 0.6468 - val_regression_loss: 0.0822 - val_classification_accuracy: 0.0072 - val_regression_mse: 0.0822\n",
            "Epoch 11/50\n",
            "688/688 [==============================] - 191s 272ms/step - loss: 0.7265 - classification_loss: 0.6499 - regression_loss: 0.0766 - classification_accuracy: 0.0050 - regression_mse: 0.0766 - val_loss: 0.7148 - val_classification_loss: 0.6464 - val_regression_loss: 0.0685 - val_classification_accuracy: 0.0043 - val_regression_mse: 0.0685\n",
            "Epoch 12/50\n",
            "688/688 [==============================] - 179s 255ms/step - loss: 0.7231 - classification_loss: 0.6489 - regression_loss: 0.0742 - classification_accuracy: 0.0049 - regression_mse: 0.0742 - val_loss: 0.7063 - val_classification_loss: 0.6475 - val_regression_loss: 0.0588 - val_classification_accuracy: 0.0036 - val_regression_mse: 0.0588\n",
            "Epoch 13/50\n",
            "688/688 [==============================] - 188s 268ms/step - loss: 0.7196 - classification_loss: 0.6482 - regression_loss: 0.0714 - classification_accuracy: 0.0050 - regression_mse: 0.0714 - val_loss: 0.7097 - val_classification_loss: 0.6474 - val_regression_loss: 0.0622 - val_classification_accuracy: 0.0068 - val_regression_mse: 0.0622\n",
            "Epoch 14/50\n",
            "688/688 [==============================] - 179s 255ms/step - loss: 0.7173 - classification_loss: 0.6475 - regression_loss: 0.0698 - classification_accuracy: 0.0052 - regression_mse: 0.0698 - val_loss: 0.7064 - val_classification_loss: 0.6419 - val_regression_loss: 0.0645 - val_classification_accuracy: 0.0043 - val_regression_mse: 0.0645\n",
            "Epoch 15/50\n",
            "688/688 [==============================] - 187s 266ms/step - loss: 0.7120 - classification_loss: 0.6466 - regression_loss: 0.0654 - classification_accuracy: 0.0050 - regression_mse: 0.0654 - val_loss: 0.7009 - val_classification_loss: 0.6432 - val_regression_loss: 0.0576 - val_classification_accuracy: 0.0061 - val_regression_mse: 0.0576\n",
            "Epoch 16/50\n",
            "688/688 [==============================] - 179s 255ms/step - loss: 0.7154 - classification_loss: 0.6466 - regression_loss: 0.0688 - classification_accuracy: 0.0052 - regression_mse: 0.0688 - val_loss: 0.6986 - val_classification_loss: 0.6443 - val_regression_loss: 0.0544 - val_classification_accuracy: 0.0050 - val_regression_mse: 0.0544\n",
            "Epoch 17/50\n",
            "688/688 [==============================] - 184s 262ms/step - loss: 0.7098 - classification_loss: 0.6466 - regression_loss: 0.0632 - classification_accuracy: 0.0054 - regression_mse: 0.0632 - val_loss: 0.7001 - val_classification_loss: 0.6439 - val_regression_loss: 0.0561 - val_classification_accuracy: 0.0040 - val_regression_mse: 0.0561\n",
            "Epoch 18/50\n",
            "688/688 [==============================] - 181s 258ms/step - loss: 0.7093 - classification_loss: 0.6456 - regression_loss: 0.0637 - classification_accuracy: 0.0052 - regression_mse: 0.0637 - val_loss: 0.7164 - val_classification_loss: 0.6432 - val_regression_loss: 0.0732 - val_classification_accuracy: 0.0057 - val_regression_mse: 0.0732\n",
            "Epoch 19/50\n",
            "688/688 [==============================] - 193s 275ms/step - loss: 0.7068 - classification_loss: 0.6449 - regression_loss: 0.0618 - classification_accuracy: 0.0055 - regression_mse: 0.0618 - val_loss: 0.6983 - val_classification_loss: 0.6434 - val_regression_loss: 0.0549 - val_classification_accuracy: 0.0047 - val_regression_mse: 0.0549\n",
            "Epoch 20/50\n",
            "688/688 [==============================] - 190s 269ms/step - loss: 0.7045 - classification_loss: 0.6446 - regression_loss: 0.0599 - classification_accuracy: 0.0051 - regression_mse: 0.0599 - val_loss: 0.6977 - val_classification_loss: 0.6429 - val_regression_loss: 0.0548 - val_classification_accuracy: 0.0032 - val_regression_mse: 0.0548\n",
            "Epoch 21/50\n",
            "688/688 [==============================] - 191s 271ms/step - loss: 0.7050 - classification_loss: 0.6447 - regression_loss: 0.0603 - classification_accuracy: 0.0051 - regression_mse: 0.0603 - val_loss: 0.6974 - val_classification_loss: 0.6440 - val_regression_loss: 0.0534 - val_classification_accuracy: 0.0057 - val_regression_mse: 0.0534\n",
            "Epoch 22/50\n",
            "688/688 [==============================] - 182s 260ms/step - loss: 0.7029 - classification_loss: 0.6448 - regression_loss: 0.0581 - classification_accuracy: 0.0053 - regression_mse: 0.0581 - val_loss: 0.6927 - val_classification_loss: 0.6441 - val_regression_loss: 0.0486 - val_classification_accuracy: 0.0040 - val_regression_mse: 0.0486\n",
            "Epoch 23/50\n",
            "688/688 [==============================] - 191s 270ms/step - loss: 0.7030 - classification_loss: 0.6435 - regression_loss: 0.0594 - classification_accuracy: 0.0056 - regression_mse: 0.0594 - val_loss: 0.7027 - val_classification_loss: 0.6439 - val_regression_loss: 0.0588 - val_classification_accuracy: 0.0068 - val_regression_mse: 0.0588\n",
            "Epoch 24/50\n",
            "688/688 [==============================] - 202s 289ms/step - loss: 0.7016 - classification_loss: 0.6438 - regression_loss: 0.0577 - classification_accuracy: 0.0052 - regression_mse: 0.0577 - val_loss: 0.6912 - val_classification_loss: 0.6410 - val_regression_loss: 0.0502 - val_classification_accuracy: 0.0050 - val_regression_mse: 0.0502\n",
            "Epoch 25/50\n",
            "688/688 [==============================] - 191s 270ms/step - loss: 0.6989 - classification_loss: 0.6437 - regression_loss: 0.0551 - classification_accuracy: 0.0059 - regression_mse: 0.0551 - val_loss: 0.6905 - val_classification_loss: 0.6426 - val_regression_loss: 0.0479 - val_classification_accuracy: 0.0054 - val_regression_mse: 0.0479\n",
            "Epoch 26/50\n",
            "688/688 [==============================] - 176s 251ms/step - loss: 0.6997 - classification_loss: 0.6433 - regression_loss: 0.0564 - classification_accuracy: 0.0055 - regression_mse: 0.0564 - val_loss: 0.6906 - val_classification_loss: 0.6418 - val_regression_loss: 0.0488 - val_classification_accuracy: 0.0054 - val_regression_mse: 0.0488\n",
            "Epoch 27/50\n",
            "688/688 [==============================] - 178s 254ms/step - loss: 0.6969 - classification_loss: 0.6432 - regression_loss: 0.0537 - classification_accuracy: 0.0053 - regression_mse: 0.0537 - val_loss: 0.6941 - val_classification_loss: 0.6428 - val_regression_loss: 0.0513 - val_classification_accuracy: 0.0068 - val_regression_mse: 0.0513\n",
            "Epoch 28/50\n",
            "688/688 [==============================] - 177s 252ms/step - loss: 0.6984 - classification_loss: 0.6434 - regression_loss: 0.0550 - classification_accuracy: 0.0054 - regression_mse: 0.0550 - val_loss: 0.6853 - val_classification_loss: 0.6429 - val_regression_loss: 0.0424 - val_classification_accuracy: 0.0072 - val_regression_mse: 0.0424\n",
            "Epoch 29/50\n",
            "688/688 [==============================] - 184s 262ms/step - loss: 0.6953 - classification_loss: 0.6428 - regression_loss: 0.0524 - classification_accuracy: 0.0057 - regression_mse: 0.0524 - val_loss: 0.6904 - val_classification_loss: 0.6425 - val_regression_loss: 0.0479 - val_classification_accuracy: 0.0057 - val_regression_mse: 0.0479\n",
            "Epoch 30/50\n",
            "688/688 [==============================] - 178s 253ms/step - loss: 0.6951 - classification_loss: 0.6426 - regression_loss: 0.0525 - classification_accuracy: 0.0059 - regression_mse: 0.0525 - val_loss: 0.6827 - val_classification_loss: 0.6425 - val_regression_loss: 0.0402 - val_classification_accuracy: 0.0050 - val_regression_mse: 0.0402\n",
            "Epoch 31/50\n",
            "688/688 [==============================] - 177s 252ms/step - loss: 0.6969 - classification_loss: 0.6424 - regression_loss: 0.0545 - classification_accuracy: 0.0055 - regression_mse: 0.0545 - val_loss: 0.6901 - val_classification_loss: 0.6434 - val_regression_loss: 0.0467 - val_classification_accuracy: 0.0054 - val_regression_mse: 0.0467\n",
            "Epoch 32/50\n",
            "688/688 [==============================] - 192s 273ms/step - loss: 0.6965 - classification_loss: 0.6427 - regression_loss: 0.0537 - classification_accuracy: 0.0056 - regression_mse: 0.0537 - val_loss: 0.7045 - val_classification_loss: 0.6426 - val_regression_loss: 0.0619 - val_classification_accuracy: 0.0054 - val_regression_mse: 0.0619\n",
            "Epoch 33/50\n",
            "688/688 [==============================] - 177s 252ms/step - loss: 0.6929 - classification_loss: 0.6421 - regression_loss: 0.0508 - classification_accuracy: 0.0053 - regression_mse: 0.0508 - val_loss: 0.6787 - val_classification_loss: 0.6387 - val_regression_loss: 0.0400 - val_classification_accuracy: 0.0057 - val_regression_mse: 0.0400\n",
            "Epoch 34/50\n",
            "688/688 [==============================] - 177s 251ms/step - loss: 0.6940 - classification_loss: 0.6421 - regression_loss: 0.0519 - classification_accuracy: 0.0055 - regression_mse: 0.0519 - val_loss: 0.6770 - val_classification_loss: 0.6399 - val_regression_loss: 0.0371 - val_classification_accuracy: 0.0054 - val_regression_mse: 0.0371\n",
            "Epoch 35/50\n",
            "688/688 [==============================] - 176s 250ms/step - loss: 0.6925 - classification_loss: 0.6422 - regression_loss: 0.0502 - classification_accuracy: 0.0055 - regression_mse: 0.0502 - val_loss: 0.6715 - val_classification_loss: 0.6395 - val_regression_loss: 0.0320 - val_classification_accuracy: 0.0068 - val_regression_mse: 0.0320\n",
            "Epoch 36/50\n",
            "688/688 [==============================] - 177s 252ms/step - loss: 0.6945 - classification_loss: 0.6426 - regression_loss: 0.0518 - classification_accuracy: 0.0054 - regression_mse: 0.0518 - val_loss: 0.6791 - val_classification_loss: 0.6399 - val_regression_loss: 0.0392 - val_classification_accuracy: 0.0072 - val_regression_mse: 0.0392\n",
            "Epoch 37/50\n",
            "688/688 [==============================] - 188s 268ms/step - loss: 0.6891 - classification_loss: 0.6418 - regression_loss: 0.0474 - classification_accuracy: 0.0057 - regression_mse: 0.0474 - val_loss: 0.6813 - val_classification_loss: 0.6386 - val_regression_loss: 0.0427 - val_classification_accuracy: 0.0086 - val_regression_mse: 0.0427\n",
            "Epoch 38/50\n",
            "688/688 [==============================] - 186s 265ms/step - loss: 0.6914 - classification_loss: 0.6416 - regression_loss: 0.0498 - classification_accuracy: 0.0057 - regression_mse: 0.0498 - val_loss: 0.6862 - val_classification_loss: 0.6405 - val_regression_loss: 0.0457 - val_classification_accuracy: 0.0050 - val_regression_mse: 0.0457\n",
            "Epoch 39/50\n",
            "688/688 [==============================] - 182s 259ms/step - loss: 0.6912 - classification_loss: 0.6417 - regression_loss: 0.0495 - classification_accuracy: 0.0055 - regression_mse: 0.0495 - val_loss: 0.6773 - val_classification_loss: 0.6407 - val_regression_loss: 0.0366 - val_classification_accuracy: 0.0065 - val_regression_mse: 0.0366\n",
            "Epoch 40/50\n",
            "688/688 [==============================] - 179s 255ms/step - loss: 0.6897 - classification_loss: 0.6419 - regression_loss: 0.0477 - classification_accuracy: 0.0057 - regression_mse: 0.0477 - val_loss: 0.6907 - val_classification_loss: 0.6408 - val_regression_loss: 0.0499 - val_classification_accuracy: 0.0050 - val_regression_mse: 0.0499\n",
            "Epoch 41/50\n",
            "688/688 [==============================] - 192s 274ms/step - loss: 0.6873 - classification_loss: 0.6413 - regression_loss: 0.0460 - classification_accuracy: 0.0056 - regression_mse: 0.0460 - val_loss: 0.6768 - val_classification_loss: 0.6391 - val_regression_loss: 0.0377 - val_classification_accuracy: 0.0065 - val_regression_mse: 0.0377\n",
            "Epoch 42/50\n",
            "688/688 [==============================] - 188s 268ms/step - loss: 0.6868 - classification_loss: 0.6410 - regression_loss: 0.0458 - classification_accuracy: 0.0059 - regression_mse: 0.0458 - val_loss: 0.6889 - val_classification_loss: 0.6400 - val_regression_loss: 0.0489 - val_classification_accuracy: 0.0072 - val_regression_mse: 0.0489\n",
            "Epoch 43/50\n",
            "688/688 [==============================] - 178s 254ms/step - loss: 0.6894 - classification_loss: 0.6413 - regression_loss: 0.0481 - classification_accuracy: 0.0055 - regression_mse: 0.0481 - val_loss: 0.6731 - val_classification_loss: 0.6388 - val_regression_loss: 0.0343 - val_classification_accuracy: 0.0050 - val_regression_mse: 0.0343\n",
            "Epoch 44/50\n",
            "688/688 [==============================] - 182s 260ms/step - loss: 0.6885 - classification_loss: 0.6410 - regression_loss: 0.0475 - classification_accuracy: 0.0057 - regression_mse: 0.0475 - val_loss: 0.6836 - val_classification_loss: 0.6351 - val_regression_loss: 0.0485 - val_classification_accuracy: 0.0068 - val_regression_mse: 0.0485\n",
            "Epoch 45/50\n",
            "688/688 [==============================] - 177s 252ms/step - loss: 0.6879 - classification_loss: 0.6411 - regression_loss: 0.0468 - classification_accuracy: 0.0058 - regression_mse: 0.0468 - val_loss: 0.6952 - val_classification_loss: 0.6372 - val_regression_loss: 0.0580 - val_classification_accuracy: 0.0072 - val_regression_mse: 0.0580\n",
            "Epoch 46/50\n",
            "688/688 [==============================] - 178s 254ms/step - loss: 0.6864 - classification_loss: 0.6416 - regression_loss: 0.0448 - classification_accuracy: 0.0057 - regression_mse: 0.0448 - val_loss: 0.6778 - val_classification_loss: 0.6408 - val_regression_loss: 0.0371 - val_classification_accuracy: 0.0057 - val_regression_mse: 0.0371\n",
            "Epoch 47/50\n",
            "688/688 [==============================] - 180s 257ms/step - loss: 0.6856 - classification_loss: 0.6414 - regression_loss: 0.0442 - classification_accuracy: 0.0055 - regression_mse: 0.0442 - val_loss: 0.6789 - val_classification_loss: 0.6391 - val_regression_loss: 0.0398 - val_classification_accuracy: 0.0068 - val_regression_mse: 0.0398\n",
            "Epoch 48/50\n",
            "688/688 [==============================] - 191s 273ms/step - loss: 0.6877 - classification_loss: 0.6415 - regression_loss: 0.0461 - classification_accuracy: 0.0059 - regression_mse: 0.0461 - val_loss: 0.6840 - val_classification_loss: 0.6405 - val_regression_loss: 0.0435 - val_classification_accuracy: 0.0079 - val_regression_mse: 0.0435\n",
            "Epoch 49/50\n",
            "688/688 [==============================] - 183s 261ms/step - loss: 0.6868 - classification_loss: 0.6410 - regression_loss: 0.0458 - classification_accuracy: 0.0054 - regression_mse: 0.0458 - val_loss: 0.6810 - val_classification_loss: 0.6414 - val_regression_loss: 0.0396 - val_classification_accuracy: 0.0057 - val_regression_mse: 0.0396\n",
            "Epoch 50/50\n",
            "688/688 [==============================] - 199s 284ms/step - loss: 0.6860 - classification_loss: 0.6406 - regression_loss: 0.0454 - classification_accuracy: 0.0060 - regression_mse: 0.0454 - val_loss: 0.6763 - val_classification_loss: 0.6362 - val_regression_loss: 0.0402 - val_classification_accuracy: 0.0061 - val_regression_mse: 0.0402\n"
          ]
        }
      ],
      "source": [
        "history = model.fit(train_dataset,\n",
        "                    epochs=50,\n",
        "                    batch_size=32,\n",
        "                    validation_data=validation_dataset)"
      ]
    },
    {
      "cell_type": "code",
      "execution_count": 25,
      "metadata": {
        "id": "FiHy6opSP2sQ"
      },
      "outputs": [],
      "source": [
        "#model.save_weights('/home/apyba3/cnn.weights.h5')\n",
        "#model.save_weights('/home/ppytr13/cnn.weights.h5')\n",
        "model.save_weights('/home/ppytr13/PICAR-autopilot-1/autopilot/models/BenTyler_Dual_head/CNN.weights.keras')\n"
      ]
    },
    {
      "cell_type": "markdown",
      "metadata": {
        "id": "GCbo4VcLxLgQ"
      },
      "source": [
        "# 3) Test-Set Predictions\n",
        "\n",
        "a) load in test data\n",
        "\n",
        "b) convert test images to numerical RGB feature maps\n",
        "\n",
        "c) generate predictions on the test set\n",
        "\n",
        "d) correctly format the predictions into a pandas dataframe\n",
        "\n",
        "e) save predictions to a file inside the hpc (to then later send from hpc to my laptop)"
      ]
    },
    {
      "cell_type": "markdown",
      "metadata": {
        "id": "HnygDJsKxYhA"
      },
      "source": [
        "### 3a) load in test data"
      ]
    },
    {
      "cell_type": "markdown",
      "metadata": {
        "id": "t-9i5trTyDTf"
      },
      "source": [
        "### 3b) convert test images to numerical RGB feature maps"
      ]
    },
    {
      "cell_type": "markdown",
      "metadata": {
        "id": "gobnK7PhyLa2"
      },
      "source": [
        "### 3c) generate predictions on test set"
      ]
    },
    {
      "cell_type": "markdown",
      "metadata": {
        "id": "zT1LJxHTPeQT"
      },
      "source": [
        "### 3d) correctly format the predictions into a pandas dataframe"
      ]
    },
    {
      "cell_type": "markdown",
      "metadata": {
        "id": "oU-PhskZPaHD"
      },
      "source": [
        "### 3e) save predictions to a file inside the hpc (to then later send from hpc to my laptop)"
      ]
    },
    {
      "cell_type": "code",
      "execution_count": 23,
      "metadata": {
        "id": "deXjPTO0TAiL"
      },
      "outputs": [],
      "source": [
        "#predictions_df.to_csv('/home/apyba3/mbnetv3_angleregression_predictions.csv')\n",
        "#predictions_df.to_csv('/home/ppytr13/cnn_dual_predictions.csv')"
      ]
    },
    {
      "cell_type": "markdown",
      "metadata": {
        "id": "anEyLOllF6eY"
      },
      "source": [
        "## instead - convert to tf lite"
      ]
    },
    {
      "cell_type": "code",
      "execution_count": 26,
      "metadata": {
        "colab": {
          "base_uri": "https://localhost:8080/"
        },
        "id": "7Vv1ojQPF-LD",
        "outputId": "1d0ddd0a-4028-4fcd-fdc6-f2d57a482e3c"
      },
      "outputs": [
        {
          "name": "stdout",
          "output_type": "stream",
          "text": [
            "INFO:tensorflow:Assets written to: /tmp/tmpqs37wijn/assets\n"
          ]
        },
        {
          "name": "stderr",
          "output_type": "stream",
          "text": [
            "INFO:tensorflow:Assets written to: /tmp/tmpqs37wijn/assets\n"
          ]
        },
        {
          "name": "stdout",
          "output_type": "stream",
          "text": [
            "Optimized TFLite model saved at: /home/ppytr13/PICAR-autopilot-1/autopilot/models/BenTyler_Dual_head/CNN.tflite\n"
          ]
        },
        {
          "name": "stderr",
          "output_type": "stream",
          "text": [
            "2025-05-01 16:21:40.894066: W tensorflow/compiler/mlir/lite/python/tf_tfl_flatbuffer_helpers.cc:364] Ignored output_format.\n",
            "2025-05-01 16:21:40.894090: W tensorflow/compiler/mlir/lite/python/tf_tfl_flatbuffer_helpers.cc:367] Ignored drop_control_dependency.\n",
            "2025-05-01 16:21:40.894247: I tensorflow/cc/saved_model/reader.cc:45] Reading SavedModel from: /tmp/tmpqs37wijn\n",
            "2025-05-01 16:21:40.895676: I tensorflow/cc/saved_model/reader.cc:91] Reading meta graph with tags { serve }\n",
            "2025-05-01 16:21:40.895693: I tensorflow/cc/saved_model/reader.cc:132] Reading SavedModel debug info (if present) from: /tmp/tmpqs37wijn\n",
            "2025-05-01 16:21:40.900173: I tensorflow/cc/saved_model/loader.cc:231] Restoring SavedModel bundle.\n",
            "2025-05-01 16:21:40.948508: I tensorflow/cc/saved_model/loader.cc:215] Running initialization op on SavedModel bundle at path: /tmp/tmpqs37wijn\n",
            "2025-05-01 16:21:40.963207: I tensorflow/cc/saved_model/loader.cc:314] SavedModel load for tags { serve }; Status: success: OK. Took 68960 microseconds.\n"
          ]
        }
      ],
      "source": [
        "import tensorflow as tf\n",
        "\n",
        "# Define the converter\n",
        "converter = tf.lite.TFLiteConverter.from_keras_model(model)\n",
        "\n",
        "# Enable default optimizations\n",
        "converter.optimizations = [tf.lite.Optimize.DEFAULT]\n",
        "\n",
        "# Specify fixed input shape\n",
        "converter._experimental_fixed_input_shape = {\"serving_default_input\": [1, 224, 224, 3]}  # Batch size 1\n",
        "\n",
        "# Use FP16 for smaller model size and faster inference\n",
        "converter.target_spec.supported_types = [tf.float16]\n",
        "\n",
        "# Convert the model\n",
        "tflite_model = converter.convert()\n",
        "\n",
        "# Save the model as a TFLite file\n",
        "tflite_model_path = '/home/ppytr13/PICAR-autopilot-1/autopilot/models/BenTyler_Dual_head/CNN.tflite'\n",
        "with open(tflite_model_path, 'wb') as f:\n",
        "    f.write(tflite_model)\n",
        "\n",
        "print(\"Optimized TFLite model saved at:\", tflite_model_path)"
      ]
    }
  ],
  "metadata": {
    "accelerator": "GPU",
    "colab": {
      "gpuType": "T4",
      "include_colab_link": true,
      "provenance": []
    },
    "kernelspec": {
      "display_name": "car_env",
      "language": "python",
      "name": "python3"
    },
    "language_info": {
      "codemirror_mode": {
        "name": "ipython",
        "version": 3
      },
      "file_extension": ".py",
      "mimetype": "text/x-python",
      "name": "python",
      "nbconvert_exporter": "python",
      "pygments_lexer": "ipython3",
      "version": "3.8.20"
    }
  },
  "nbformat": 4,
  "nbformat_minor": 0
}
