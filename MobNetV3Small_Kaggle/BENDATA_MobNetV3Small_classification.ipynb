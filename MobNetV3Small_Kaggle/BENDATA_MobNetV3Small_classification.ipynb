{
 "cells": [
  {
   "cell_type": "markdown",
   "metadata": {
    "id": "-fhwRSFoj6C_"
   },
   "source": [
    "# SWITCH TO **`T4 GPU`** OR THE **`HPC`**"
   ]
  },
  {
   "cell_type": "markdown",
   "metadata": {
    "id": "g4V83PflfFkL"
   },
   "source": [
    "# Imports"
   ]
  },
  {
   "cell_type": "code",
   "execution_count": 27,
   "metadata": {
    "id": "kP6UczzNe1l2"
   },
   "outputs": [],
   "source": [
    "import os\n",
    "import pandas as pd\n",
    "import numpy as np\n",
    "import tensorflow as tf\n",
    "from keras.models import Sequential\n",
    "from keras.layers import Conv2D, MaxPooling2D, Flatten, Dense, Dropout\n",
    "from keras.preprocessing.image import load_img, img_to_array\n",
    "from sklearn.model_selection import train_test_split\n",
    "from sklearn.metrics import balanced_accuracy_score\n",
    "import matplotlib.pyplot as plt\n",
    "import re\n",
    "from keras.callbacks import ModelCheckpoint, LambdaCallback\n",
    "from PIL import Image"
   ]
  },
  {
   "cell_type": "code",
   "execution_count": 3,
   "metadata": {
    "colab": {
     "base_uri": "https://localhost:8080/"
    },
    "id": "O24_U-m8q-xv",
    "outputId": "f2298893-2e7e-4b8f-cc38-0caeb1a6a670"
   },
   "outputs": [
    {
     "name": "stdout",
     "output_type": "stream",
     "text": [
      "Linux\n"
     ]
    }
   ],
   "source": [
    "import platform\n",
    "print(platform.system())"
   ]
  },
  {
   "cell_type": "code",
   "execution_count": 4,
   "metadata": {
    "id": "IF_vPVifaU9V"
   },
   "outputs": [],
   "source": [
    "# makes it so pd dfs aren't truncated\n",
    "\n",
    "pd.set_option('display.max_colwidth', None)\n",
    "pd.set_option('display.max_rows', None)\n",
    "pd.set_option('display.max_columns', None)"
   ]
  },
  {
   "cell_type": "code",
   "execution_count": 5,
   "metadata": {
    "id": "eocC68amnhEI"
   },
   "outputs": [],
   "source": [
    "# from google.colab import drive\n",
    "# drive.mount('/content/drive')"
   ]
  },
  {
   "cell_type": "markdown",
   "metadata": {
    "id": "-_MvRvYnfIM5"
   },
   "source": [
    "# 1) DATA PRE-PROCESSING\n",
    "\n",
    "a) Load in kaggle data labels + image file paths\n",
    "\n",
    "b) combine kaggle data labels and image file paths into one dataframe\n",
    "\n",
    "c) load in the extra 486 image file paths\n",
    "\n",
    "d) extract the speed and angle labels from the file path names\n",
    "\n",
    "e) store that extra data in a pandas df and do the value normalisation\n",
    "\n",
    "f) merge the kaggle and extra data dfs\n",
    "\n",
    "g) EDA\n",
    "\n",
    "h) convert the images to numerical RGB feature maps\n",
    "\n",
    "i) split data into training-validation sets\n",
    "\n",
    "j) data augmentation applied to training set"
   ]
  },
  {
   "cell_type": "markdown",
   "metadata": {
    "id": "HU3TvBZ5hfhX"
   },
   "source": [
    "### 1a) load in kaggle data labels + image file paths"
   ]
  },
  {
   "cell_type": "code",
   "execution_count": 6,
   "metadata": {
    "id": "ZiNf_BxOfEH-"
   },
   "outputs": [],
   "source": [
    "# labels_file_path = '/content/drive/MyDrive/machine-learning-in-science-ii-2025/training_norm.csv' # tylers file path\n",
    "labels_file_path = '/home/apyba3/KAGGLEDATAmachine-learning-in-science-ii-2025/training_norm.csv' # ben hpc file path (mlis2 cluster)\n",
    "# labels_file_path = '/home/ppytr13/machine-learning-in-science-ii-2025/training_norm.csv' # tyler hpc file path (mlis2 cluster)\n",
    "labels_df = pd.read_csv(labels_file_path, index_col='image_id')"
   ]
  },
  {
   "cell_type": "code",
   "execution_count": 7,
   "metadata": {
    "id": "nOXmN--gb-Q9"
   },
   "outputs": [],
   "source": [
    "image_folder_path = '/home/apyba3/KAGGLEDATAmachine-learning-in-science-ii-2025/training_data/training_data' # OG data ben hpc file path (mlis2 cluster)\n",
    "# image_folder_path = '/home/ppytr13/machine-learning-in-science-ii-2025//training_data/training_data'\n",
    "# image_folder_path = '/content/drive/MyDrive/machine-learning-in-science-ii-2025/training_data/training_data' # tylers file path\n",
    "image_file_paths = [\n",
    "    os.path.join(image_folder_path, f)\n",
    "    for f in os.listdir(image_folder_path)\n",
    "    if f.lower().endswith(('.png', '.jpg', '.jpeg'))\n",
    "]\n",
    "\n",
    "image_file_paths.sort(key=lambda x: int(os.path.splitext(os.path.basename(x))[0])) # sorts the files in the right order (1.png, 2.png, 3.png, ...)\n",
    "\n",
    "imagefilepaths_df = pd.DataFrame(\n",
    "    image_file_paths,\n",
    "    columns=['image_file_paths'],\n",
    "    index=[int(os.path.splitext(os.path.basename(path))[0]) for path in image_file_paths]\n",
    ")\n",
    "\n",
    "imagefilepaths_df.index.name = 'image_id'"
   ]
  },
  {
   "cell_type": "markdown",
   "metadata": {
    "id": "0oeuvmeZaGSC"
   },
   "source": [
    "Checking labels dataframe"
   ]
  },
  {
   "cell_type": "code",
   "execution_count": 8,
   "metadata": {
    "colab": {
     "base_uri": "https://localhost:8080/"
    },
    "id": "2pi13TZ2aFhO",
    "outputId": "fc675bb2-271b-48fd-a6c3-43834afb4500"
   },
   "outputs": [
    {
     "data": {
      "text/html": [
       "<div>\n",
       "<style scoped>\n",
       "    .dataframe tbody tr th:only-of-type {\n",
       "        vertical-align: middle;\n",
       "    }\n",
       "\n",
       "    .dataframe tbody tr th {\n",
       "        vertical-align: top;\n",
       "    }\n",
       "\n",
       "    .dataframe thead th {\n",
       "        text-align: right;\n",
       "    }\n",
       "</style>\n",
       "<table border=\"1\" class=\"dataframe\">\n",
       "  <thead>\n",
       "    <tr style=\"text-align: right;\">\n",
       "      <th></th>\n",
       "      <th>angle</th>\n",
       "      <th>speed</th>\n",
       "    </tr>\n",
       "    <tr>\n",
       "      <th>image_id</th>\n",
       "      <th></th>\n",
       "      <th></th>\n",
       "    </tr>\n",
       "  </thead>\n",
       "  <tbody>\n",
       "    <tr>\n",
       "      <th>1</th>\n",
       "      <td>0.4375</td>\n",
       "      <td>0.0</td>\n",
       "    </tr>\n",
       "    <tr>\n",
       "      <th>2</th>\n",
       "      <td>0.8125</td>\n",
       "      <td>1.0</td>\n",
       "    </tr>\n",
       "    <tr>\n",
       "      <th>3</th>\n",
       "      <td>0.4375</td>\n",
       "      <td>1.0</td>\n",
       "    </tr>\n",
       "    <tr>\n",
       "      <th>4</th>\n",
       "      <td>0.6250</td>\n",
       "      <td>1.0</td>\n",
       "    </tr>\n",
       "    <tr>\n",
       "      <th>5</th>\n",
       "      <td>0.5000</td>\n",
       "      <td>0.0</td>\n",
       "    </tr>\n",
       "  </tbody>\n",
       "</table>\n",
       "</div>"
      ],
      "text/plain": [
       "           angle  speed\n",
       "image_id               \n",
       "1         0.4375    0.0\n",
       "2         0.8125    1.0\n",
       "3         0.4375    1.0\n",
       "4         0.6250    1.0\n",
       "5         0.5000    0.0"
      ]
     },
     "execution_count": 8,
     "metadata": {},
     "output_type": "execute_result"
    }
   ],
   "source": [
    "labels_df.head()"
   ]
  },
  {
   "cell_type": "markdown",
   "metadata": {
    "id": "puEjGoOJaRS4"
   },
   "source": [
    "Checking image file paths dataframe - as you can see the file paths are ordered correctly (1.png, 2.png, 3.png, ...)"
   ]
  },
  {
   "cell_type": "code",
   "execution_count": 9,
   "metadata": {
    "colab": {
     "base_uri": "https://localhost:8080/"
    },
    "id": "a1suFSK7aWKH",
    "outputId": "c3cc2d29-d759-48ff-b92c-77dbd178f295"
   },
   "outputs": [
    {
     "data": {
      "text/html": [
       "<div>\n",
       "<style scoped>\n",
       "    .dataframe tbody tr th:only-of-type {\n",
       "        vertical-align: middle;\n",
       "    }\n",
       "\n",
       "    .dataframe tbody tr th {\n",
       "        vertical-align: top;\n",
       "    }\n",
       "\n",
       "    .dataframe thead th {\n",
       "        text-align: right;\n",
       "    }\n",
       "</style>\n",
       "<table border=\"1\" class=\"dataframe\">\n",
       "  <thead>\n",
       "    <tr style=\"text-align: right;\">\n",
       "      <th></th>\n",
       "      <th>image_file_paths</th>\n",
       "    </tr>\n",
       "    <tr>\n",
       "      <th>image_id</th>\n",
       "      <th></th>\n",
       "    </tr>\n",
       "  </thead>\n",
       "  <tbody>\n",
       "    <tr>\n",
       "      <th>1</th>\n",
       "      <td>/home/apyba3/KAGGLEDATAmachine-learning-in-science-ii-2025/training_data/training_data/1.png</td>\n",
       "    </tr>\n",
       "    <tr>\n",
       "      <th>2</th>\n",
       "      <td>/home/apyba3/KAGGLEDATAmachine-learning-in-science-ii-2025/training_data/training_data/2.png</td>\n",
       "    </tr>\n",
       "    <tr>\n",
       "      <th>3</th>\n",
       "      <td>/home/apyba3/KAGGLEDATAmachine-learning-in-science-ii-2025/training_data/training_data/3.png</td>\n",
       "    </tr>\n",
       "    <tr>\n",
       "      <th>4</th>\n",
       "      <td>/home/apyba3/KAGGLEDATAmachine-learning-in-science-ii-2025/training_data/training_data/4.png</td>\n",
       "    </tr>\n",
       "    <tr>\n",
       "      <th>5</th>\n",
       "      <td>/home/apyba3/KAGGLEDATAmachine-learning-in-science-ii-2025/training_data/training_data/5.png</td>\n",
       "    </tr>\n",
       "  </tbody>\n",
       "</table>\n",
       "</div>"
      ],
      "text/plain": [
       "                                                                                      image_file_paths\n",
       "image_id                                                                                              \n",
       "1         /home/apyba3/KAGGLEDATAmachine-learning-in-science-ii-2025/training_data/training_data/1.png\n",
       "2         /home/apyba3/KAGGLEDATAmachine-learning-in-science-ii-2025/training_data/training_data/2.png\n",
       "3         /home/apyba3/KAGGLEDATAmachine-learning-in-science-ii-2025/training_data/training_data/3.png\n",
       "4         /home/apyba3/KAGGLEDATAmachine-learning-in-science-ii-2025/training_data/training_data/4.png\n",
       "5         /home/apyba3/KAGGLEDATAmachine-learning-in-science-ii-2025/training_data/training_data/5.png"
      ]
     },
     "execution_count": 9,
     "metadata": {},
     "output_type": "execute_result"
    }
   ],
   "source": [
    "imagefilepaths_df.head()"
   ]
  },
  {
   "cell_type": "markdown",
   "metadata": {
    "id": "CjDdyYd6cMBE"
   },
   "source": [
    "### 1b) Combine the kaggle labels and image file paths into one dataframe"
   ]
  },
  {
   "cell_type": "code",
   "execution_count": 10,
   "metadata": {
    "id": "6NdbonzPcLKB"
   },
   "outputs": [],
   "source": [
    "kaggle_df = pd.merge(labels_df, imagefilepaths_df, on='image_id', how='inner')\n",
    "kaggle_df['speed'] = kaggle_df['speed'].round(6) # to get rid of floating point errors"
   ]
  },
  {
   "cell_type": "code",
   "execution_count": 11,
   "metadata": {
    "colab": {
     "base_uri": "https://localhost:8080/"
    },
    "id": "-VstirIAdAZi",
    "outputId": "c03ff707-9e8d-4c3a-8965-f795919ace21"
   },
   "outputs": [
    {
     "data": {
      "text/html": [
       "<div>\n",
       "<style scoped>\n",
       "    .dataframe tbody tr th:only-of-type {\n",
       "        vertical-align: middle;\n",
       "    }\n",
       "\n",
       "    .dataframe tbody tr th {\n",
       "        vertical-align: top;\n",
       "    }\n",
       "\n",
       "    .dataframe thead th {\n",
       "        text-align: right;\n",
       "    }\n",
       "</style>\n",
       "<table border=\"1\" class=\"dataframe\">\n",
       "  <thead>\n",
       "    <tr style=\"text-align: right;\">\n",
       "      <th></th>\n",
       "      <th>angle</th>\n",
       "      <th>speed</th>\n",
       "      <th>image_file_paths</th>\n",
       "    </tr>\n",
       "    <tr>\n",
       "      <th>image_id</th>\n",
       "      <th></th>\n",
       "      <th></th>\n",
       "      <th></th>\n",
       "    </tr>\n",
       "  </thead>\n",
       "  <tbody>\n",
       "    <tr>\n",
       "      <th>13794</th>\n",
       "      <td>0.6250</td>\n",
       "      <td>1.0</td>\n",
       "      <td>/home/apyba3/KAGGLEDATAmachine-learning-in-science-ii-2025/training_data/training_data/13794.png</td>\n",
       "    </tr>\n",
       "    <tr>\n",
       "      <th>13795</th>\n",
       "      <td>0.4375</td>\n",
       "      <td>1.0</td>\n",
       "      <td>/home/apyba3/KAGGLEDATAmachine-learning-in-science-ii-2025/training_data/training_data/13795.png</td>\n",
       "    </tr>\n",
       "    <tr>\n",
       "      <th>13796</th>\n",
       "      <td>0.5625</td>\n",
       "      <td>0.0</td>\n",
       "      <td>/home/apyba3/KAGGLEDATAmachine-learning-in-science-ii-2025/training_data/training_data/13796.png</td>\n",
       "    </tr>\n",
       "    <tr>\n",
       "      <th>13797</th>\n",
       "      <td>0.6250</td>\n",
       "      <td>0.0</td>\n",
       "      <td>/home/apyba3/KAGGLEDATAmachine-learning-in-science-ii-2025/training_data/training_data/13797.png</td>\n",
       "    </tr>\n",
       "    <tr>\n",
       "      <th>13798</th>\n",
       "      <td>0.6875</td>\n",
       "      <td>1.0</td>\n",
       "      <td>/home/apyba3/KAGGLEDATAmachine-learning-in-science-ii-2025/training_data/training_data/13798.png</td>\n",
       "    </tr>\n",
       "  </tbody>\n",
       "</table>\n",
       "</div>"
      ],
      "text/plain": [
       "           angle  speed  \\\n",
       "image_id                  \n",
       "13794     0.6250    1.0   \n",
       "13795     0.4375    1.0   \n",
       "13796     0.5625    0.0   \n",
       "13797     0.6250    0.0   \n",
       "13798     0.6875    1.0   \n",
       "\n",
       "                                                                                          image_file_paths  \n",
       "image_id                                                                                                    \n",
       "13794     /home/apyba3/KAGGLEDATAmachine-learning-in-science-ii-2025/training_data/training_data/13794.png  \n",
       "13795     /home/apyba3/KAGGLEDATAmachine-learning-in-science-ii-2025/training_data/training_data/13795.png  \n",
       "13796     /home/apyba3/KAGGLEDATAmachine-learning-in-science-ii-2025/training_data/training_data/13796.png  \n",
       "13797     /home/apyba3/KAGGLEDATAmachine-learning-in-science-ii-2025/training_data/training_data/13797.png  \n",
       "13798     /home/apyba3/KAGGLEDATAmachine-learning-in-science-ii-2025/training_data/training_data/13798.png  "
      ]
     },
     "execution_count": 11,
     "metadata": {},
     "output_type": "execute_result"
    }
   ],
   "source": [
    "kaggle_df.tail()"
   ]
  },
  {
   "cell_type": "code",
   "execution_count": 12,
   "metadata": {
    "colab": {
     "base_uri": "https://localhost:8080/"
    },
    "id": "8MgNoL8nfBm2",
    "outputId": "924e7562-25a4-4223-8305-c3fd02452846"
   },
   "outputs": [
    {
     "data": {
      "text/html": [
       "<div>\n",
       "<style scoped>\n",
       "    .dataframe tbody tr th:only-of-type {\n",
       "        vertical-align: middle;\n",
       "    }\n",
       "\n",
       "    .dataframe tbody tr th {\n",
       "        vertical-align: top;\n",
       "    }\n",
       "\n",
       "    .dataframe thead th {\n",
       "        text-align: right;\n",
       "    }\n",
       "</style>\n",
       "<table border=\"1\" class=\"dataframe\">\n",
       "  <thead>\n",
       "    <tr style=\"text-align: right;\">\n",
       "      <th></th>\n",
       "      <th>angle</th>\n",
       "      <th>speed</th>\n",
       "      <th>image_file_paths</th>\n",
       "    </tr>\n",
       "    <tr>\n",
       "      <th>image_id</th>\n",
       "      <th></th>\n",
       "      <th></th>\n",
       "      <th></th>\n",
       "    </tr>\n",
       "  </thead>\n",
       "  <tbody>\n",
       "    <tr>\n",
       "      <th>3139</th>\n",
       "      <td>0.750</td>\n",
       "      <td>1.0</td>\n",
       "      <td>/home/apyba3/KAGGLEDATAmachine-learning-in-science-ii-2025/training_data/training_data/3139.png</td>\n",
       "    </tr>\n",
       "    <tr>\n",
       "      <th>3140</th>\n",
       "      <td>0.875</td>\n",
       "      <td>1.0</td>\n",
       "      <td>/home/apyba3/KAGGLEDATAmachine-learning-in-science-ii-2025/training_data/training_data/3140.png</td>\n",
       "    </tr>\n",
       "    <tr>\n",
       "      <th>3142</th>\n",
       "      <td>0.625</td>\n",
       "      <td>0.0</td>\n",
       "      <td>/home/apyba3/KAGGLEDATAmachine-learning-in-science-ii-2025/training_data/training_data/3142.png</td>\n",
       "    </tr>\n",
       "    <tr>\n",
       "      <th>3143</th>\n",
       "      <td>0.625</td>\n",
       "      <td>1.0</td>\n",
       "      <td>/home/apyba3/KAGGLEDATAmachine-learning-in-science-ii-2025/training_data/training_data/3143.png</td>\n",
       "    </tr>\n",
       "  </tbody>\n",
       "</table>\n",
       "</div>"
      ],
      "text/plain": [
       "          angle  speed  \\\n",
       "image_id                 \n",
       "3139      0.750    1.0   \n",
       "3140      0.875    1.0   \n",
       "3142      0.625    0.0   \n",
       "3143      0.625    1.0   \n",
       "\n",
       "                                                                                         image_file_paths  \n",
       "image_id                                                                                                   \n",
       "3139      /home/apyba3/KAGGLEDATAmachine-learning-in-science-ii-2025/training_data/training_data/3139.png  \n",
       "3140      /home/apyba3/KAGGLEDATAmachine-learning-in-science-ii-2025/training_data/training_data/3140.png  \n",
       "3142      /home/apyba3/KAGGLEDATAmachine-learning-in-science-ii-2025/training_data/training_data/3142.png  \n",
       "3143      /home/apyba3/KAGGLEDATAmachine-learning-in-science-ii-2025/training_data/training_data/3143.png  "
      ]
     },
     "execution_count": 12,
     "metadata": {},
     "output_type": "execute_result"
    }
   ],
   "source": [
    "kaggle_df.loc[3139:3143]"
   ]
  },
  {
   "cell_type": "markdown",
   "metadata": {
    "id": "U7PCxqJbmXE6"
   },
   "source": [
    "The above cell shows that:\n",
    "\n",
    " 1) the image files and labels match (see image_id and the number at the end of the file path)\n",
    "\n",
    " 2) the missing rows in labels_df (image_id: 3141, 3999, 4895, 8285, 10171) have been taken care of"
   ]
  },
  {
   "cell_type": "markdown",
   "metadata": {
    "id": "zOEWqBUYX6DL"
   },
   "source": [
    "### 1c) load in the extra 486 labels image file paths"
   ]
  },
  {
   "cell_type": "code",
   "execution_count": 19,
   "metadata": {},
   "outputs": [],
   "source": [
    "petrudata_folder_path = '/home/apyba3/petru_data'\n",
    "bendata_folder_path = '/home/apyba3/bendata_1st_set'"
   ]
  },
  {
   "cell_type": "code",
   "execution_count": null,
   "metadata": {},
   "outputs": [],
   "source": [
    "def extract_filepaths(extradata_folderpath):\n",
    "    extradata_file_paths = [\n",
    "    os.path.join(extradata_folderpath, f)\n",
    "    for f in os.listdir(extradata_folderpath)\n",
    "    if f.lower().endswith(('.png', '.jpg', '.jpeg'))\n",
    "    ]\n",
    "    return extradata_file_paths"
   ]
  },
  {
   "cell_type": "markdown",
   "metadata": {
    "id": "I4ofcGILO4et"
   },
   "source": [
    "### 1d) extract the speed and angle labels from the file path names"
   ]
  },
  {
   "cell_type": "markdown",
   "metadata": {
    "id": "fFsEI4MBRf2l"
   },
   "source": [
    "image file path name follows the pattern: `randomnumber_angle_speed`"
   ]
  },
  {
   "cell_type": "code",
   "execution_count": null,
   "metadata": {},
   "outputs": [],
   "source": [
    "def loadin_extradata(extradata_folderpath):\n",
    "    extracted_filepaths = extract_filepaths(extradata_folderpath)\n",
    "    # Regex pattern to extract angle and speed values\n",
    "    pattern = r'(\\d+)_(\\d+)_(\\d+)\\.png'  # Fixed pattern to capture groups correctly\n",
    "\n",
    "    angle_value = []\n",
    "    speed_value = []\n",
    "\n",
    "    # Loop through file paths and extract angle and speed values\n",
    "    for file_path in extracted_filepaths:\n",
    "        match = re.search(pattern, file_path)\n",
    "        if match:\n",
    "            # Extract random number, angle, and speed values\n",
    "            random_number = match.group(1)\n",
    "            angle_value.append(int(match.group(2)))\n",
    "            speed_value.append(int(match.group(3)))\n",
    "        else:\n",
    "            print(f\"No match found for file: {file_path}\")\n",
    "\n",
    "    return angle_value, speed_value"
   ]
  },
  {
   "cell_type": "markdown",
   "metadata": {
    "id": "4F8qIQJ8Y3t8"
   },
   "source": [
    "checking it has stored the labels correctly (check if the angle_value order matches that of the file path)"
   ]
  },
  {
   "cell_type": "markdown",
   "metadata": {
    "id": "XyvljUTBZP0E"
   },
   "source": [
    "### 1e) store that extra data in a pandas df and do the value normalisation"
   ]
  },
  {
   "cell_type": "code",
   "execution_count": 30,
   "metadata": {},
   "outputs": [
    {
     "data": {
      "text/html": [
       "<div>\n",
       "<style scoped>\n",
       "    .dataframe tbody tr th:only-of-type {\n",
       "        vertical-align: middle;\n",
       "    }\n",
       "\n",
       "    .dataframe tbody tr th {\n",
       "        vertical-align: top;\n",
       "    }\n",
       "\n",
       "    .dataframe thead th {\n",
       "        text-align: right;\n",
       "    }\n",
       "</style>\n",
       "<table border=\"1\" class=\"dataframe\">\n",
       "  <thead>\n",
       "    <tr style=\"text-align: right;\">\n",
       "      <th></th>\n",
       "      <th>angle</th>\n",
       "      <th>speed</th>\n",
       "      <th>image_file_paths</th>\n",
       "    </tr>\n",
       "    <tr>\n",
       "      <th>image_id</th>\n",
       "      <th></th>\n",
       "      <th></th>\n",
       "      <th></th>\n",
       "    </tr>\n",
       "  </thead>\n",
       "  <tbody>\n",
       "    <tr>\n",
       "      <th>16402</th>\n",
       "      <td>0.3125</td>\n",
       "      <td>1</td>\n",
       "      <td>/home/apyba3/petru_data/1712922464963_75_35.png</td>\n",
       "    </tr>\n",
       "    <tr>\n",
       "      <th>16403</th>\n",
       "      <td>0.5625</td>\n",
       "      <td>1</td>\n",
       "      <td>/home/apyba3/petru_data/1712918948764_95_35.png</td>\n",
       "    </tr>\n",
       "    <tr>\n",
       "      <th>16404</th>\n",
       "      <td>0.3125</td>\n",
       "      <td>1</td>\n",
       "      <td>/home/apyba3/petru_data/1712921132962_75_35.png</td>\n",
       "    </tr>\n",
       "    <tr>\n",
       "      <th>16405</th>\n",
       "      <td>0.7500</td>\n",
       "      <td>1</td>\n",
       "      <td>/home/apyba3/petru_data/1712917893422_110_35.png</td>\n",
       "    </tr>\n",
       "    <tr>\n",
       "      <th>16406</th>\n",
       "      <td>0.1250</td>\n",
       "      <td>1</td>\n",
       "      <td>/home/apyba3/petru_data/1712918494936_60_35.png</td>\n",
       "    </tr>\n",
       "  </tbody>\n",
       "</table>\n",
       "</div>"
      ],
      "text/plain": [
       "           angle  speed                                  image_file_paths\n",
       "image_id                                                                 \n",
       "16402     0.3125      1   /home/apyba3/petru_data/1712922464963_75_35.png\n",
       "16403     0.5625      1   /home/apyba3/petru_data/1712918948764_95_35.png\n",
       "16404     0.3125      1   /home/apyba3/petru_data/1712921132962_75_35.png\n",
       "16405     0.7500      1  /home/apyba3/petru_data/1712917893422_110_35.png\n",
       "16406     0.1250      1   /home/apyba3/petru_data/1712918494936_60_35.png"
      ]
     },
     "metadata": {},
     "output_type": "display_data"
    }
   ],
   "source": [
    "def create_df_and_normalisation(folder_path):\n",
    "    max_image_id = len(loadin_extradata(folder_path)[0])\n",
    "    df = pd.DataFrame(\n",
    "        {\n",
    "            'angle': loadin_extradata(folder_path)[0],\n",
    "            'speed': loadin_extradata(folder_path)[1],\n",
    "            'image_file_paths': extract_filepaths(folder_path)\n",
    "        }\n",
    "    )\n",
    "\n",
    "    df.loc[df['speed'] > 0, 'speed'] = 1\n",
    "    df['angle'] = (df['angle'] - 50)/80\n",
    "    return df\n",
    "\n",
    "def combine_dfs_add_imageid(df1, df2):\n",
    "    combined_df = pd.concat([df1, df2], ignore_index=True)\n",
    "    combined_df.index = pd.RangeIndex(start=13799, stop=13799 + len(combined_df), step=1)\n",
    "    combined_df.index.name = 'image_id'\n",
    "    return combined_df\n",
    "\n",
    "bendata_df = create_df_and_normalisation(bendata_folder_path)\n",
    "petrudata_df = create_df_and_normalisation(petrudata_folder_path)\n",
    "\n",
    "combinedextradata_df = combine_dfs_add_imageid(bendata_df, petrudata_df)\n",
    "display(combinedextradata_df.tail())"
   ]
  },
  {
   "cell_type": "markdown",
   "metadata": {
    "id": "qv0MwDKsbOef"
   },
   "source": [
    "### 1f) merge the kaggle and extra data dfs"
   ]
  },
  {
   "cell_type": "code",
   "execution_count": 31,
   "metadata": {
    "colab": {
     "base_uri": "https://localhost:8080/"
    },
    "id": "8ZMZPUn4b3Kc",
    "outputId": "86bd34db-0b48-442e-b5b2-5ff322d0764b"
   },
   "outputs": [],
   "source": [
    "merged_df = pd.concat([kaggle_df, combinedextradata_df])"
   ]
  },
  {
   "cell_type": "markdown",
   "metadata": {},
   "source": [
    "### 1g) check for corrupted images and get rid of them"
   ]
  },
  {
   "cell_type": "code",
   "execution_count": 32,
   "metadata": {},
   "outputs": [
    {
     "name": "stdout",
     "output_type": "stream",
     "text": [
      "Checking 16401 image files...\n",
      "\n",
      "Validation complete: 16373 valid files, 28 invalid files\n"
     ]
    }
   ],
   "source": [
    "def validate_image_files(dataframe):\n",
    "    \"\"\"\n",
    "    Check each image file in the dataframe and return a new dataframe with only valid files.\n",
    "    Also prints information about invalid files.\n",
    "    \"\"\"\n",
    "    valid_rows = []\n",
    "    invalid_files = []\n",
    "    \n",
    "    print(f\"Checking {len(dataframe)} image files...\")\n",
    "    \n",
    "    for index, row in dataframe.iterrows():\n",
    "        path = row['image_file_paths']\n",
    "        \n",
    "        # # Print every 100 files to show progress\n",
    "        # if len(valid_rows) % 100 == 0 and len(valid_rows) > 0:\n",
    "        #     print(f\"Processed {len(valid_rows) + len(invalid_files)} files, {len(valid_rows)} valid...\")\n",
    "        \n",
    "        try:\n",
    "            # Basic file checks\n",
    "            if not os.path.exists(path):\n",
    "                # print(f\"File does not exist: {path}\")\n",
    "                invalid_files.append(path)\n",
    "                continue\n",
    "                \n",
    "            if os.path.getsize(path) == 0:\n",
    "                # print(f\"File is empty: {path}\")\n",
    "                invalid_files.append(path)\n",
    "                continue\n",
    "            \n",
    "            # Try to open the image with PIL to verify it's valid\n",
    "            with Image.open(path) as img:\n",
    "                # Just accessing img.size will verify the image can be read\n",
    "                width, height = img.size\n",
    "            \n",
    "            # If we get this far, the image is valid\n",
    "            valid_rows.append(row)\n",
    "                \n",
    "        except Exception as e:\n",
    "            print(f\"Error with {path}: {e}\")\n",
    "            invalid_files.append(path)\n",
    "    \n",
    "    # Create a new dataframe with only valid rows\n",
    "    valid_df = pd.DataFrame(valid_rows)\n",
    "    \n",
    "    print(f\"\\nValidation complete: {len(valid_df)} valid files, {len(invalid_files)} invalid files\")\n",
    "    \n",
    "    # if invalid_files:\n",
    "    #     print(\"\\nFirst few invalid files:\")\n",
    "    #     for path in invalid_files[:5]:\n",
    "    #         print(f\"  - {path}\")\n",
    "    \n",
    "    return valid_df\n",
    "\n",
    "# Run the validation\n",
    "valid_df = validate_image_files(merged_df)"
   ]
  },
  {
   "cell_type": "markdown",
   "metadata": {
    "id": "h3OKLcn9u0Pz"
   },
   "source": [
    "### 1g) EDA - speed column"
   ]
  },
  {
   "cell_type": "code",
   "execution_count": 33,
   "metadata": {
    "colab": {
     "base_uri": "https://localhost:8080/"
    },
    "id": "IWQCQrR-oCps",
    "outputId": "88bb4558-2c8a-482b-de5d-8f7876ed9bc2"
   },
   "outputs": [
    {
     "data": {
      "text/plain": [
       "speed\n",
       "1.000000    12553\n",
       "0.000000     3819\n",
       "1.428571        1\n",
       "Name: count, dtype: int64"
      ]
     },
     "execution_count": 33,
     "metadata": {},
     "output_type": "execute_result"
    }
   ],
   "source": [
    "valid_df.value_counts('speed')"
   ]
  },
  {
   "cell_type": "markdown",
   "metadata": {
    "id": "K4pZ65pYvdqb"
   },
   "source": [
    "note: imbalance datset"
   ]
  },
  {
   "cell_type": "markdown",
   "metadata": {
    "id": "zMZq41-RkLz0"
   },
   "source": [
    "we want to remove the row containing the erroneous 1.428571 speed value"
   ]
  },
  {
   "cell_type": "code",
   "execution_count": 34,
   "metadata": {
    "id": "TDMqIiOLSKGX"
   },
   "outputs": [],
   "source": [
    "cleaned_df = valid_df[valid_df['speed'] != 1.428571]"
   ]
  },
  {
   "cell_type": "code",
   "execution_count": 35,
   "metadata": {},
   "outputs": [
    {
     "data": {
      "text/plain": [
       "speed\n",
       "1.0    12553\n",
       "0.0     3819\n",
       "Name: count, dtype: int64"
      ]
     },
     "execution_count": 35,
     "metadata": {},
     "output_type": "execute_result"
    }
   ],
   "source": [
    "cleaned_df.value_counts('speed')"
   ]
  },
  {
   "cell_type": "markdown",
   "metadata": {
    "id": "Di6F6km_DBmj"
   },
   "source": [
    "### 1h) convert images to numerical RGB feature maps"
   ]
  },
  {
   "cell_type": "code",
   "execution_count": 36,
   "metadata": {},
   "outputs": [],
   "source": [
    "BATCH_SIZE = 32"
   ]
  },
  {
   "cell_type": "code",
   "execution_count": 37,
   "metadata": {
    "id": "oeeBTruNCQ96"
   },
   "outputs": [
    {
     "name": "stderr",
     "output_type": "stream",
     "text": [
      "2025-05-03 19:12:18.513108: W tensorflow/core/common_runtime/gpu/gpu_device.cc:1960] Cannot dlopen some GPU libraries. Please make sure the missing libraries mentioned above are installed properly if you would like to use GPU. Follow the guide at https://www.tensorflow.org/install/gpu for how to download and setup the required libraries for your platform.\n",
      "Skipping registering GPU devices...\n"
     ]
    }
   ],
   "source": [
    "def process_image(image_path, label, resized_shape=(224, 224)):\n",
    "    image = tf.io.read_file(image_path)\n",
    "    image = tf.image.decode_jpeg(image, channels=3)\n",
    "    image = tf.image.resize(image, resized_shape)\n",
    "    image = image / 255.0  # Normalise pixel values to [0,1]\n",
    "    return image, label\n",
    "\n",
    "dataset = tf.data.Dataset.from_tensor_slices((cleaned_df[\"image_file_paths\"], cleaned_df[\"speed\"])) # Convert pd df into a tf ds\n",
    "\n",
    "dataset = dataset.map(process_image, num_parallel_calls=tf.data.AUTOTUNE)\n",
    "\n",
    "dataset = dataset.cache()\n",
    "dataset = dataset.shuffle(len(cleaned_df))\n",
    "dataset = dataset.batch(BATCH_SIZE)\n",
    "dataset = dataset.prefetch(tf.data.AUTOTUNE)"
   ]
  },
  {
   "cell_type": "markdown",
   "metadata": {
    "id": "pUOlsWQeVlyC"
   },
   "source": [
    "lets check and see if what we have done works"
   ]
  },
  {
   "cell_type": "code",
   "execution_count": 38,
   "metadata": {
    "colab": {
     "base_uri": "https://localhost:8080/"
    },
    "id": "jBTNjNhMVk2g",
    "outputId": "b00f1443-c179-43a2-e6fd-7cc90ff698f3"
   },
   "outputs": [
    {
     "name": "stdout",
     "output_type": "stream",
     "text": [
      "(32, 224, 224, 3) (32,)\n"
     ]
    }
   ],
   "source": [
    "for images, labels in dataset.take(1):\n",
    "    print(images.shape, labels.shape)"
   ]
  },
  {
   "cell_type": "markdown",
   "metadata": {
    "id": "Md6U_i84SiK5"
   },
   "source": [
    "### 1i) Splitting data into training and validation sets (test set is already provided in kaggle data)"
   ]
  },
  {
   "cell_type": "code",
   "execution_count": 39,
   "metadata": {
    "id": "yYlssPh5dxaO"
   },
   "outputs": [],
   "source": [
    "# 90-10 split\n",
    "\n",
    "dataset_size = tf.data.experimental.cardinality(dataset).numpy()\n",
    "train_size = int(0.9 * dataset_size)\n",
    "\n",
    "train_dataset = dataset.take(train_size)\n",
    "val_dataset = dataset.skip(train_size)"
   ]
  },
  {
   "cell_type": "code",
   "execution_count": 40,
   "metadata": {
    "colab": {
     "base_uri": "https://localhost:8080/"
    },
    "id": "qPUE6rd8cgQN",
    "outputId": "a418b177-e08d-481c-d272-b9b7494882d2"
   },
   "outputs": [
    {
     "name": "stdout",
     "output_type": "stream",
     "text": [
      "Train size: 460, validation size: 52\n"
     ]
    }
   ],
   "source": [
    "print(f\"Train size: {train_size}, validation size: {dataset_size - train_size}\")"
   ]
  },
  {
   "cell_type": "markdown",
   "metadata": {
    "id": "0ujsjhMPSw4f"
   },
   "source": [
    "### 1j) Data Augmentation applied to training set\n",
    "\n",
    "- Random Brightness Adjustment\n",
    "- Random Contrast Adjustment\n",
    "- Random Hue Adjustment\n",
    "- Random Saturation Adjustment\n",
    "- Random Horizontal Flip\n",
    "\n"
   ]
  },
  {
   "cell_type": "code",
   "execution_count": 41,
   "metadata": {
    "id": "T9r811eWsYfe"
   },
   "outputs": [],
   "source": [
    "def augment_image(image, label):\n",
    "  seed = (6, 9)\n",
    "  image = tf.image.stateless_random_brightness(image, 0.2, seed)\n",
    "  image = tf.image.stateless_random_contrast(image, 0.8, 1.2, seed)\n",
    "  image = tf.image.stateless_random_hue(image, 0.2, seed)\n",
    "  image = tf.image.stateless_random_saturation(image, 0.8, 1.2, seed)\n",
    "  image = tf.image.stateless_random_flip_left_right(image, seed)\n",
    "  return image, label\n",
    "\n",
    "# Create a dataset of augmented images from the original train_dataset\n",
    "augmented_dataset = train_dataset.map(augment_image, num_parallel_calls=tf.data.AUTOTUNE)\n",
    "\n",
    "# Concatenate the original and augmented datasets\n",
    "train_dataset = train_dataset.concatenate(augmented_dataset)\n",
    "\n",
    "# Shuffle the combined dataset\n",
    "train_dataset = train_dataset.shuffle(buffer_size=len(cleaned_df))"
   ]
  },
  {
   "cell_type": "code",
   "execution_count": 42,
   "metadata": {},
   "outputs": [
    {
     "name": "stdout",
     "output_type": "stream",
     "text": [
      "0.0     6865\n",
      "1.0    22575\n",
      "Name: count, dtype: int64\n"
     ]
    }
   ],
   "source": [
    "angle_list = []\n",
    "\n",
    "for image_batch, label_batch in train_dataset:\n",
    "    angle_list.extend(label_batch.numpy())  # add all 32 values from the batch\n",
    "\n",
    "angle_distribution = pd.Series(angle_list).value_counts().sort_index()\n",
    "print(angle_distribution)\n"
   ]
  },
  {
   "cell_type": "markdown",
   "metadata": {
    "id": "ZOqizFg7rvKq"
   },
   "source": [
    "count how many images are in the training set - 22016 with no extradata and 80-20 split"
   ]
  },
  {
   "cell_type": "code",
   "execution_count": 43,
   "metadata": {
    "colab": {
     "base_uri": "https://localhost:8080/"
    },
    "id": "gjlyfjAxLsrC",
    "outputId": "14dc79ee-e1b4-4c37-bfb1-b6525bc586c0"
   },
   "outputs": [
    {
     "name": "stdout",
     "output_type": "stream",
     "text": [
      "Total number of images in train_dataset: 29440\n"
     ]
    }
   ],
   "source": [
    "total_images = 0\n",
    "for image_batch, _ in train_dataset:\n",
    "    total_images += image_batch.shape[0]  # Add the batch size\n",
    "\n",
    "print(f\"Total number of images in train_dataset: {total_images}\")"
   ]
  },
  {
   "cell_type": "markdown",
   "metadata": {
    "id": "HEdi-dUCTND1"
   },
   "source": [
    "checking to see if whats been done was successful or needs debugging"
   ]
  },
  {
   "cell_type": "code",
   "execution_count": 28,
   "metadata": {
    "colab": {
     "base_uri": "https://localhost:8080/"
    },
    "id": "OeboVhsQKGFS",
    "outputId": "b9c6bb08-d7ce-4951-b621-6775a6ee3bdf"
   },
   "outputs": [
    {
     "name": "stdout",
     "output_type": "stream",
     "text": [
      "image shape:  (224, 224, 3)\n",
      "label: 1\n"
     ]
    },
    {
     "name": "stderr",
     "output_type": "stream",
     "text": [
      "Clipping input data to the valid range for imshow with RGB data ([0..1] for floats or [0..255] for integers).\n"
     ]
    },
    {
     "name": "stdout",
     "output_type": "stream",
     "text": [
      "image shape:  (224, 224, 3)\n",
      "label: 1\n"
     ]
    },
    {
     "name": "stderr",
     "output_type": "stream",
     "text": [
      "Clipping input data to the valid range for imshow with RGB data ([0..1] for floats or [0..255] for integers).\n"
     ]
    },
    {
     "name": "stdout",
     "output_type": "stream",
     "text": [
      "image shape:  (224, 224, 3)\n",
      "label: 0\n"
     ]
    },
    {
     "name": "stderr",
     "output_type": "stream",
     "text": [
      "Clipping input data to the valid range for imshow with RGB data ([0..1] for floats or [0..255] for integers).\n"
     ]
    },
    {
     "name": "stdout",
     "output_type": "stream",
     "text": [
      "image shape:  (224, 224, 3)\n",
      "label: 0\n"
     ]
    },
    {
     "name": "stderr",
     "output_type": "stream",
     "text": [
      "Clipping input data to the valid range for imshow with RGB data ([0..1] for floats or [0..255] for integers).\n"
     ]
    },
    {
     "name": "stdout",
     "output_type": "stream",
     "text": [
      "image shape:  (224, 224, 3)\n",
      "label: 1\n"
     ]
    },
    {
     "name": "stderr",
     "output_type": "stream",
     "text": [
      "Clipping input data to the valid range for imshow with RGB data ([0..1] for floats or [0..255] for integers).\n"
     ]
    },
    {
     "name": "stdout",
     "output_type": "stream",
     "text": [
      "image shape:  (224, 224, 3)\n",
      "label: 1\n"
     ]
    },
    {
     "name": "stderr",
     "output_type": "stream",
     "text": [
      "Clipping input data to the valid range for imshow with RGB data ([0..1] for floats or [0..255] for integers).\n"
     ]
    },
    {
     "name": "stdout",
     "output_type": "stream",
     "text": [
      "image shape:  (224, 224, 3)\n",
      "label: 0\n"
     ]
    },
    {
     "name": "stderr",
     "output_type": "stream",
     "text": [
      "Clipping input data to the valid range for imshow with RGB data ([0..1] for floats or [0..255] for integers).\n"
     ]
    },
    {
     "name": "stdout",
     "output_type": "stream",
     "text": [
      "image shape:  (224, 224, 3)\n",
      "label: 0\n"
     ]
    },
    {
     "name": "stderr",
     "output_type": "stream",
     "text": [
      "Clipping input data to the valid range for imshow with RGB data ([0..1] for floats or [0..255] for integers).\n"
     ]
    },
    {
     "name": "stdout",
     "output_type": "stream",
     "text": [
      "image shape:  (224, 224, 3)\n",
      "label: 1\n"
     ]
    },
    {
     "name": "stderr",
     "output_type": "stream",
     "text": [
      "Clipping input data to the valid range for imshow with RGB data ([0..1] for floats or [0..255] for integers).\n"
     ]
    },
    {
     "name": "stdout",
     "output_type": "stream",
     "text": [
      "image shape:  (224, 224, 3)\n",
      "label: 1\n"
     ]
    },
    {
     "name": "stderr",
     "output_type": "stream",
     "text": [
      "Clipping input data to the valid range for imshow with RGB data ([0..1] for floats or [0..255] for integers).\n"
     ]
    },
    {
     "data": {
      "image/png": "[encoded data removed]",
      "text/plain": [
       "<Figure size 640x480 with 10 Axes>"
      ]
     },
     "metadata": {},
     "output_type": "display_data"
    }
   ],
   "source": [
    "f, axarr = plt.subplots(1,10)\n",
    "\n",
    "i = 0\n",
    "for image_batch, label_batch in train_dataset.take(1):  # Take one batch\n",
    "    for image in image_batch:  # Iterate through images in the batch\n",
    "        if i < 10:  # Only display the first 5 images\n",
    "            print('image shape: ', np.shape(image))\n",
    "            tf.print('label:', label_batch[i])  # Print label for the corresponding image\n",
    "            axarr[i].imshow(image)\n",
    "            axarr[i].axis('off')\n",
    "            i += 1\n",
    "        else:\n",
    "            break  # Stop after displaying 5 images\n",
    "plt.show()"
   ]
  },
  {
   "cell_type": "markdown",
   "metadata": {
    "id": "cmetmzNHTWzU"
   },
   "source": [
    "# 2) CLASSIFICATION SPEED Model Building - MobNetV3Small Transfer Learning"
   ]
  },
  {
   "cell_type": "markdown",
   "metadata": {
    "id": "48RHLVshdX5L"
   },
   "source": [
    "### 2a) Set up model architecture"
   ]
  },
  {
   "cell_type": "code",
   "execution_count": 29,
   "metadata": {
    "id": "aHjqXG1jSnCr"
   },
   "outputs": [],
   "source": [
    "dropoutrate = 0.2\n",
    "input_shape = (224,224,3)\n",
    "num_classes = 1 # we're only predicting the prob of the positive class"
   ]
  },
  {
   "cell_type": "code",
   "execution_count": 30,
   "metadata": {
    "colab": {
     "base_uri": "https://localhost:8080/",
     "height": 527
    },
    "id": "ZPso3wBuN9L3",
    "outputId": "ef11a9ff-7117-4836-dd78-9bcadac15995"
   },
   "outputs": [
    {
     "name": "stdout",
     "output_type": "stream",
     "text": [
      "Model: \"sequential\"\n",
      "_________________________________________________________________\n",
      " Layer (type)                Output Shape              Param #   \n",
      "=================================================================\n",
      " MobilenetV3small (Function  (None, 7, 7, 576)         939120    \n",
      " al)                                                             \n",
      "                                                                 \n",
      " global_average_pooling2d (  (None, 576)               0         \n",
      " GlobalAveragePooling2D)                                         \n",
      "                                                                 \n",
      " dropout (Dropout)           (None, 576)               0         \n",
      "                                                                 \n",
      " dense (Dense)               (None, 256)               147712    \n",
      "                                                                 \n",
      " dropout_1 (Dropout)         (None, 256)               0         \n",
      "                                                                 \n",
      " dense_1 (Dense)             (None, 128)               32896     \n",
      "                                                                 \n",
      " dropout_2 (Dropout)         (None, 128)               0         \n",
      "                                                                 \n",
      " dense_2 (Dense)             (None, 64)                8256      \n",
      "                                                                 \n",
      " dropout_3 (Dropout)         (None, 64)                0         \n",
      "                                                                 \n",
      " dense_3 (Dense)             (None, 32)                2080      \n",
      "                                                                 \n",
      " dense_4 (Dense)             (None, 1)                 33        \n",
      "                                                                 \n",
      "=================================================================\n",
      "Total params: 1130097 (4.31 MB)\n",
      "Trainable params: 190977 (746.00 KB)\n",
      "Non-trainable params: 939120 (3.58 MB)\n",
      "_________________________________________________________________\n"
     ]
    }
   ],
   "source": [
    "mobnetv3small = tf.keras.applications.MobileNetV3Small(\n",
    "    weights = 'imagenet',\n",
    "    include_top = False,\n",
    "    input_shape = input_shape\n",
    ")\n",
    "\n",
    "model = tf.keras.Sequential([\n",
    "  mobnetv3small,\n",
    "  tf.keras.layers.GlobalAveragePooling2D(),\n",
    "  tf.keras.layers.Dropout(dropoutrate),\n",
    "  tf.keras.layers.Dense(256, activation='relu'),\n",
    "  tf.keras.layers.Dropout(dropoutrate),\n",
    "  tf.keras.layers.Dense(128, activation='relu'),\n",
    "  tf.keras.layers.Dropout(dropoutrate),\n",
    "  tf.keras.layers.Dense(64, activation='relu'),\n",
    "  tf.keras.layers.Dropout(dropoutrate),\n",
    "  tf.keras.layers.Dense(32, activation='relu'),\n",
    "  tf.keras.layers.Dense(num_classes, activation='sigmoid')\n",
    "])\n",
    "\n",
    "mobnetv3small.trainable = False  # freeze mobnetv3small layers\n",
    "\n",
    "model.summary()"
   ]
  },
  {
   "cell_type": "markdown",
   "metadata": {},
   "source": [
    "compile the model"
   ]
  },
  {
   "cell_type": "code",
   "execution_count": 31,
   "metadata": {
    "id": "Ca0JFQuuN8oI"
   },
   "outputs": [],
   "source": [
    "model.compile(\n",
    "    optimizer=tf.keras.optimizers.Adam(learning_rate=0.001),\n",
    "    loss='binary_crossentropy',\n",
    "    metrics=['accuracy', tf.keras.metrics.AUC(name='auc')]\n",
    ")"
   ]
  },
  {
   "cell_type": "markdown",
   "metadata": {},
   "source": [
    "### 2c) train the model with the mobnetv3small layers frozen"
   ]
  },
  {
   "cell_type": "code",
   "execution_count": 32,
   "metadata": {
    "colab": {
     "base_uri": "https://localhost:8080/",
     "height": 1000
    },
    "id": "WPTNOtr7WjLS",
    "outputId": "63cf5fac-6100-43db-dadd-47da686c9712",
    "scrolled": true
   },
   "outputs": [
    {
     "name": "stdout",
     "output_type": "stream",
     "text": [
      "\n",
      "Starting Epoch 1...\n",
      "Epoch 1/50\n",
      "714/714 [==============================] - ETA: 0s - loss: 0.5576 - accuracy: 0.7586 - auc: 0.5185\n",
      "Epoch 1: val_loss improved from inf to 0.5510\n",
      "Saving model to /home/apyba3/PICAR-autopilot/MobNetV3Small_Kaggle/checkpoints/50epochs_frozen_mobnetv3smallcheckpoint.keras\n",
      "Completed Epoch 1, Loss: 0.5576, Val Loss: 0.5510\n",
      "714/714 [==============================] - 68s 83ms/step - loss: 0.5576 - accuracy: 0.7586 - auc: 0.5185 - val_loss: 0.5510 - val_accuracy: 0.7530 - val_auc: 0.7601\n",
      "\n",
      "Starting Epoch 2...\n",
      "Epoch 2/50\n",
      "714/714 [==============================] - ETA: 0s - loss: 0.5427 - accuracy: 0.7581 - auc: 0.5972\n",
      "Epoch 2: val_loss improved from 0.5510 to 0.5142\n",
      "Saving model to /home/apyba3/PICAR-autopilot/MobNetV3Small_Kaggle/checkpoints/50epochs_frozen_mobnetv3smallcheckpoint.keras\n",
      "Completed Epoch 2, Loss: 0.5427, Val Loss: 0.5142\n",
      "714/714 [==============================] - 64s 81ms/step - loss: 0.5427 - accuracy: 0.7581 - auc: 0.5972 - val_loss: 0.5142 - val_accuracy: 0.7652 - val_auc: 0.7884\n",
      "\n",
      "Starting Epoch 3...\n",
      "Epoch 3/50\n",
      "714/714 [==============================] - ETA: 0s - loss: 0.5255 - accuracy: 0.7577 - auc: 0.6586\n",
      "Epoch 3: val_loss improved from 0.5142 to 0.4936\n",
      "Saving model to /home/apyba3/PICAR-autopilot/MobNetV3Small_Kaggle/checkpoints/50epochs_frozen_mobnetv3smallcheckpoint.keras\n",
      "Completed Epoch 3, Loss: 0.5255, Val Loss: 0.4936\n",
      "714/714 [==============================] - 64s 81ms/step - loss: 0.5255 - accuracy: 0.7577 - auc: 0.6586 - val_loss: 0.4936 - val_accuracy: 0.7554 - val_auc: 0.8392\n",
      "\n",
      "Starting Epoch 4...\n",
      "Epoch 4/50\n",
      "714/714 [==============================] - ETA: 0s - loss: 0.5129 - accuracy: 0.7592 - auc: 0.6890Completed Epoch 4, Loss: 0.5129, Val Loss: 0.4955\n",
      "714/714 [==============================] - 63s 80ms/step - loss: 0.5129 - accuracy: 0.7592 - auc: 0.6890 - val_loss: 0.4955 - val_accuracy: 0.7460 - val_auc: 0.8417\n",
      "\n",
      "Starting Epoch 5...\n",
      "Epoch 5/50\n",
      "714/714 [==============================] - ETA: 0s - loss: 0.5063 - accuracy: 0.7636 - auc: 0.6996Completed Epoch 5, Loss: 0.5063, Val Loss: 0.5048\n",
      "714/714 [==============================] - 63s 81ms/step - loss: 0.5063 - accuracy: 0.7636 - auc: 0.6996 - val_loss: 0.5048 - val_accuracy: 0.7519 - val_auc: 0.8428\n",
      "\n",
      "Starting Epoch 6...\n",
      "Epoch 6/50\n",
      "714/714 [==============================] - ETA: 0s - loss: 0.5001 - accuracy: 0.7665 - auc: 0.7115\n",
      "Epoch 6: val_loss improved from 0.4936 to 0.4881\n",
      "Saving model to /home/apyba3/PICAR-autopilot/MobNetV3Small_Kaggle/checkpoints/50epochs_frozen_mobnetv3smallcheckpoint.keras\n",
      "Completed Epoch 6, Loss: 0.5001, Val Loss: 0.4881\n",
      "714/714 [==============================] - 64s 81ms/step - loss: 0.5001 - accuracy: 0.7665 - auc: 0.7115 - val_loss: 0.4881 - val_accuracy: 0.8332 - val_auc: 0.8688\n",
      "\n",
      "Starting Epoch 7...\n",
      "Epoch 7/50\n",
      "714/714 [==============================] - ETA: 0s - loss: 0.4917 - accuracy: 0.7708 - auc: 0.7253\n",
      "Epoch 7: val_loss improved from 0.4881 to 0.4529\n",
      "Saving model to /home/apyba3/PICAR-autopilot/MobNetV3Small_Kaggle/checkpoints/50epochs_frozen_mobnetv3smallcheckpoint.keras\n",
      "Completed Epoch 7, Loss: 0.4917, Val Loss: 0.4529\n",
      "714/714 [==============================] - 64s 81ms/step - loss: 0.4917 - accuracy: 0.7708 - auc: 0.7253 - val_loss: 0.4529 - val_accuracy: 0.7694 - val_auc: 0.8728\n",
      "\n",
      "Starting Epoch 8...\n",
      "Epoch 8/50\n",
      "714/714 [==============================] - ETA: 0s - loss: 0.4917 - accuracy: 0.7698 - auc: 0.7282Completed Epoch 8, Loss: 0.4917, Val Loss: 0.5406\n",
      "714/714 [==============================] - 63s 80ms/step - loss: 0.4917 - accuracy: 0.7698 - auc: 0.7282 - val_loss: 0.5406 - val_accuracy: 0.7586 - val_auc: 0.8646\n",
      "\n",
      "Starting Epoch 9...\n",
      "Epoch 9/50\n",
      "714/714 [==============================] - ETA: 0s - loss: 0.4876 - accuracy: 0.7700 - auc: 0.7368\n",
      "Epoch 9: val_loss improved from 0.4529 to 0.4482\n",
      "Saving model to /home/apyba3/PICAR-autopilot/MobNetV3Small_Kaggle/checkpoints/50epochs_frozen_mobnetv3smallcheckpoint.keras\n",
      "Completed Epoch 9, Loss: 0.4876, Val Loss: 0.4482\n",
      "714/714 [==============================] - 64s 81ms/step - loss: 0.4876 - accuracy: 0.7700 - auc: 0.7368 - val_loss: 0.4482 - val_accuracy: 0.7744 - val_auc: 0.8739\n",
      "\n",
      "Starting Epoch 10...\n",
      "Epoch 10/50\n",
      "714/714 [==============================] - ETA: 0s - loss: 0.4851 - accuracy: 0.7779 - auc: 0.7346\n",
      "Epoch 10: val_loss improved from 0.4482 to 0.4334\n",
      "Saving model to /home/apyba3/PICAR-autopilot/MobNetV3Small_Kaggle/checkpoints/50epochs_frozen_mobnetv3smallcheckpoint.keras\n",
      "Completed Epoch 10, Loss: 0.4851, Val Loss: 0.4334\n",
      "714/714 [==============================] - 64s 81ms/step - loss: 0.4851 - accuracy: 0.7779 - auc: 0.7346 - val_loss: 0.4334 - val_accuracy: 0.8367 - val_auc: 0.8742\n",
      "\n",
      "Starting Epoch 11...\n",
      "Epoch 11/50\n",
      "714/714 [==============================] - ETA: 0s - loss: 0.4834 - accuracy: 0.7741 - auc: 0.7418Completed Epoch 11, Loss: 0.4834, Val Loss: 0.4780\n",
      "714/714 [==============================] - 63s 81ms/step - loss: 0.4834 - accuracy: 0.7741 - auc: 0.7418 - val_loss: 0.4780 - val_accuracy: 0.7579 - val_auc: 0.8677\n",
      "\n",
      "Starting Epoch 12...\n",
      "Epoch 12/50\n",
      "714/714 [==============================] - ETA: 0s - loss: 0.4873 - accuracy: 0.7729 - auc: 0.7365Completed Epoch 12, Loss: 0.4873, Val Loss: 0.4496\n",
      "714/714 [==============================] - 63s 80ms/step - loss: 0.4873 - accuracy: 0.7729 - auc: 0.7365 - val_loss: 0.4496 - val_accuracy: 0.7733 - val_auc: 0.8800\n",
      "\n",
      "Starting Epoch 13...\n",
      "Epoch 13/50\n",
      "714/714 [==============================] - ETA: 0s - loss: 0.4793 - accuracy: 0.7801 - auc: 0.7455Completed Epoch 13, Loss: 0.4793, Val Loss: 0.4947\n",
      "714/714 [==============================] - 63s 80ms/step - loss: 0.4793 - accuracy: 0.7801 - auc: 0.7455 - val_loss: 0.4947 - val_accuracy: 0.7512 - val_auc: 0.8750\n",
      "\n",
      "Starting Epoch 14...\n",
      "Epoch 14/50\n",
      "714/714 [==============================] - ETA: 0s - loss: 0.4783 - accuracy: 0.7802 - auc: 0.7453Completed Epoch 14, Loss: 0.4783, Val Loss: 0.4720\n",
      "714/714 [==============================] - 63s 80ms/step - loss: 0.4783 - accuracy: 0.7802 - auc: 0.7453 - val_loss: 0.4720 - val_accuracy: 0.7579 - val_auc: 0.8855\n",
      "\n",
      "Starting Epoch 15...\n",
      "Epoch 15/50\n",
      "714/714 [==============================] - ETA: 0s - loss: 0.4781 - accuracy: 0.7801 - auc: 0.7481Completed Epoch 15, Loss: 0.4781, Val Loss: 0.4371\n",
      "714/714 [==============================] - 63s 80ms/step - loss: 0.4781 - accuracy: 0.7801 - auc: 0.7481 - val_loss: 0.4371 - val_accuracy: 0.8097 - val_auc: 0.8898\n",
      "\n",
      "Starting Epoch 16...\n",
      "Epoch 16/50\n",
      "714/714 [==============================] - ETA: 0s - loss: 0.4773 - accuracy: 0.7790 - auc: 0.7506\n",
      "Epoch 16: val_loss improved from 0.4334 to 0.4215\n",
      "Saving model to /home/apyba3/PICAR-autopilot/MobNetV3Small_Kaggle/checkpoints/50epochs_frozen_mobnetv3smallcheckpoint.keras\n",
      "Completed Epoch 16, Loss: 0.4773, Val Loss: 0.4215\n",
      "714/714 [==============================] - 64s 81ms/step - loss: 0.4773 - accuracy: 0.7790 - auc: 0.7506 - val_loss: 0.4215 - val_accuracy: 0.8003 - val_auc: 0.8871\n",
      "\n",
      "Starting Epoch 17...\n",
      "Epoch 17/50\n",
      "714/714 [==============================] - ETA: 0s - loss: 0.4751 - accuracy: 0.7798 - auc: 0.7540Completed Epoch 17, Loss: 0.4751, Val Loss: 0.4774\n",
      "714/714 [==============================] - 63s 80ms/step - loss: 0.4751 - accuracy: 0.7798 - auc: 0.7540 - val_loss: 0.4774 - val_accuracy: 0.8255 - val_auc: 0.8870\n",
      "\n",
      "Starting Epoch 18...\n",
      "Epoch 18/50\n",
      "714/714 [==============================] - ETA: 0s - loss: 0.4741 - accuracy: 0.7809 - auc: 0.7576Completed Epoch 18, Loss: 0.4741, Val Loss: 0.4585\n",
      "714/714 [==============================] - 63s 80ms/step - loss: 0.4741 - accuracy: 0.7809 - auc: 0.7576 - val_loss: 0.4585 - val_accuracy: 0.7744 - val_auc: 0.8945\n",
      "\n",
      "Starting Epoch 19...\n",
      "Epoch 19/50\n",
      "714/714 [==============================] - ETA: 0s - loss: 0.4766 - accuracy: 0.7816 - auc: 0.7502Completed Epoch 19, Loss: 0.4766, Val Loss: 0.4735\n",
      "714/714 [==============================] - 63s 81ms/step - loss: 0.4766 - accuracy: 0.7816 - auc: 0.7502 - val_loss: 0.4735 - val_accuracy: 0.7565 - val_auc: 0.8922\n",
      "\n",
      "Starting Epoch 20...\n",
      "Epoch 20/50\n",
      "714/714 [==============================] - ETA: 0s - loss: 0.4749 - accuracy: 0.7818 - auc: 0.7536Completed Epoch 20, Loss: 0.4749, Val Loss: 0.4391\n",
      "714/714 [==============================] - 63s 80ms/step - loss: 0.4749 - accuracy: 0.7818 - auc: 0.7536 - val_loss: 0.4391 - val_accuracy: 0.8206 - val_auc: 0.8867\n",
      "\n",
      "Starting Epoch 21...\n",
      "Epoch 21/50\n",
      "714/714 [==============================] - ETA: 0s - loss: 0.4694 - accuracy: 0.7831 - auc: 0.7624\n",
      "Epoch 21: val_loss improved from 0.4215 to 0.4145\n",
      "Saving model to /home/apyba3/PICAR-autopilot/MobNetV3Small_Kaggle/checkpoints/50epochs_frozen_mobnetv3smallcheckpoint.keras\n",
      "Completed Epoch 21, Loss: 0.4694, Val Loss: 0.4145\n",
      "714/714 [==============================] - 64s 81ms/step - loss: 0.4694 - accuracy: 0.7831 - auc: 0.7624 - val_loss: 0.4145 - val_accuracy: 0.8322 - val_auc: 0.9009\n",
      "\n",
      "Starting Epoch 22...\n",
      "Epoch 22/50\n",
      "714/714 [==============================] - ETA: 0s - loss: 0.4706 - accuracy: 0.7839 - auc: 0.7576Completed Epoch 22, Loss: 0.4706, Val Loss: 0.4239\n",
      "714/714 [==============================] - 63s 80ms/step - loss: 0.4706 - accuracy: 0.7839 - auc: 0.7576 - val_loss: 0.4239 - val_accuracy: 0.7954 - val_auc: 0.8787\n",
      "\n",
      "Starting Epoch 23...\n",
      "Epoch 23/50\n",
      "714/714 [==============================] - ETA: 0s - loss: 0.4647 - accuracy: 0.7861 - auc: 0.7648Completed Epoch 23, Loss: 0.4647, Val Loss: 0.4426\n",
      "714/714 [==============================] - 63s 80ms/step - loss: 0.4647 - accuracy: 0.7861 - auc: 0.7648 - val_loss: 0.4426 - val_accuracy: 0.7810 - val_auc: 0.8774\n",
      "\n",
      "Starting Epoch 24...\n",
      "Epoch 24/50\n",
      "714/714 [==============================] - ETA: 0s - loss: 0.4740 - accuracy: 0.7833 - auc: 0.7539Completed Epoch 24, Loss: 0.4740, Val Loss: 0.4687\n",
      "714/714 [==============================] - 63s 80ms/step - loss: 0.4740 - accuracy: 0.7833 - auc: 0.7539 - val_loss: 0.4687 - val_accuracy: 0.7659 - val_auc: 0.8927\n",
      "\n",
      "Starting Epoch 25...\n",
      "Epoch 25/50\n",
      "714/714 [==============================] - ETA: 0s - loss: 0.4674 - accuracy: 0.7815 - auc: 0.7635Completed Epoch 25, Loss: 0.4674, Val Loss: 0.4262\n",
      "714/714 [==============================] - 63s 80ms/step - loss: 0.4674 - accuracy: 0.7815 - auc: 0.7635 - val_loss: 0.4262 - val_accuracy: 0.8644 - val_auc: 0.9047\n",
      "\n",
      "Starting Epoch 26...\n",
      "Epoch 26/50\n",
      "714/714 [==============================] - ETA: 0s - loss: 0.4732 - accuracy: 0.7821 - auc: 0.7583Completed Epoch 26, Loss: 0.4732, Val Loss: 0.4432\n",
      "714/714 [==============================] - 63s 80ms/step - loss: 0.4732 - accuracy: 0.7821 - auc: 0.7583 - val_loss: 0.4432 - val_accuracy: 0.7677 - val_auc: 0.8884\n",
      "\n",
      "Starting Epoch 27...\n",
      "Epoch 27/50\n",
      "714/714 [==============================] - ETA: 0s - loss: 0.4693 - accuracy: 0.7834 - auc: 0.7630Completed Epoch 27, Loss: 0.4693, Val Loss: 0.4542\n",
      "714/714 [==============================] - 63s 80ms/step - loss: 0.4693 - accuracy: 0.7834 - auc: 0.7630 - val_loss: 0.4542 - val_accuracy: 0.7649 - val_auc: 0.8892\n",
      "\n",
      "Starting Epoch 28...\n",
      "Epoch 28/50\n",
      "714/714 [==============================] - ETA: 0s - loss: 0.4657 - accuracy: 0.7840 - auc: 0.7640Completed Epoch 28, Loss: 0.4657, Val Loss: 0.4235\n",
      "714/714 [==============================] - 63s 80ms/step - loss: 0.4657 - accuracy: 0.7840 - auc: 0.7640 - val_loss: 0.4235 - val_accuracy: 0.8420 - val_auc: 0.9024\n",
      "\n",
      "Starting Epoch 29...\n",
      "Epoch 29/50\n",
      "714/714 [==============================] - ETA: 0s - loss: 0.4651 - accuracy: 0.7838 - auc: 0.7681Completed Epoch 29, Loss: 0.4651, Val Loss: 0.4365\n",
      "714/714 [==============================] - 63s 80ms/step - loss: 0.4651 - accuracy: 0.7838 - auc: 0.7681 - val_loss: 0.4365 - val_accuracy: 0.7744 - val_auc: 0.9042\n",
      "\n",
      "Starting Epoch 30...\n",
      "Epoch 30/50\n",
      "714/714 [==============================] - ETA: 0s - loss: 0.4622 - accuracy: 0.7891 - auc: 0.7688Completed Epoch 30, Loss: 0.4622, Val Loss: 0.4774\n",
      "714/714 [==============================] - 63s 80ms/step - loss: 0.4622 - accuracy: 0.7891 - auc: 0.7688 - val_loss: 0.4774 - val_accuracy: 0.7516 - val_auc: 0.8949\n",
      "\n",
      "Starting Epoch 31...\n",
      "Epoch 31/50\n",
      "714/714 [==============================] - ETA: 0s - loss: 0.4611 - accuracy: 0.7878 - auc: 0.7712Completed Epoch 31, Loss: 0.4611, Val Loss: 0.4758\n",
      "714/714 [==============================] - 63s 80ms/step - loss: 0.4611 - accuracy: 0.7878 - auc: 0.7712 - val_loss: 0.4758 - val_accuracy: 0.7572 - val_auc: 0.8938\n",
      "\n",
      "Starting Epoch 32...\n",
      "Epoch 32/50\n",
      "714/714 [==============================] - ETA: 0s - loss: 0.4631 - accuracy: 0.7899 - auc: 0.7681Completed Epoch 32, Loss: 0.4631, Val Loss: 0.4599\n",
      "714/714 [==============================] - 63s 80ms/step - loss: 0.4631 - accuracy: 0.7899 - auc: 0.7681 - val_loss: 0.4599 - val_accuracy: 0.8132 - val_auc: 0.8900\n",
      "\n",
      "Starting Epoch 33...\n",
      "Epoch 33/50\n",
      "714/714 [==============================] - ETA: 0s - loss: 0.4607 - accuracy: 0.7860 - auc: 0.7731Completed Epoch 33, Loss: 0.4607, Val Loss: 0.4163\n",
      "714/714 [==============================] - 63s 80ms/step - loss: 0.4607 - accuracy: 0.7860 - auc: 0.7731 - val_loss: 0.4163 - val_accuracy: 0.7793 - val_auc: 0.8958\n",
      "\n",
      "Starting Epoch 34...\n",
      "Epoch 34/50\n",
      "714/714 [==============================] - ETA: 0s - loss: 0.4673 - accuracy: 0.7846 - auc: 0.7647Completed Epoch 34, Loss: 0.4673, Val Loss: 0.4545\n",
      "714/714 [==============================] - 63s 80ms/step - loss: 0.4673 - accuracy: 0.7846 - auc: 0.7647 - val_loss: 0.4545 - val_accuracy: 0.8118 - val_auc: 0.8880\n",
      "\n",
      "Starting Epoch 35...\n",
      "Epoch 35/50\n",
      "714/714 [==============================] - ETA: 0s - loss: 0.4628 - accuracy: 0.7876 - auc: 0.7719Completed Epoch 35, Loss: 0.4628, Val Loss: 0.4329\n",
      "714/714 [==============================] - 63s 80ms/step - loss: 0.4628 - accuracy: 0.7876 - auc: 0.7719 - val_loss: 0.4329 - val_accuracy: 0.8041 - val_auc: 0.8926\n",
      "\n",
      "Starting Epoch 36...\n",
      "Epoch 36/50\n",
      "714/714 [==============================] - ETA: 0s - loss: 0.4606 - accuracy: 0.7902 - auc: 0.7721Completed Epoch 36, Loss: 0.4606, Val Loss: 0.4319\n",
      "714/714 [==============================] - 63s 80ms/step - loss: 0.4606 - accuracy: 0.7902 - auc: 0.7721 - val_loss: 0.4319 - val_accuracy: 0.7880 - val_auc: 0.8999\n",
      "\n",
      "Starting Epoch 37...\n",
      "Epoch 37/50\n",
      "714/714 [==============================] - ETA: 0s - loss: 0.4578 - accuracy: 0.7908 - auc: 0.7745Completed Epoch 37, Loss: 0.4578, Val Loss: 0.4326\n",
      "714/714 [==============================] - 63s 80ms/step - loss: 0.4578 - accuracy: 0.7908 - auc: 0.7745 - val_loss: 0.4326 - val_accuracy: 0.8171 - val_auc: 0.9005\n",
      "\n",
      "Starting Epoch 38...\n",
      "Epoch 38/50\n",
      "714/714 [==============================] - ETA: 0s - loss: 0.4645 - accuracy: 0.7888 - auc: 0.7669Completed Epoch 38, Loss: 0.4645, Val Loss: 0.4340\n",
      "714/714 [==============================] - 63s 81ms/step - loss: 0.4645 - accuracy: 0.7888 - auc: 0.7669 - val_loss: 0.4340 - val_accuracy: 0.7929 - val_auc: 0.8876\n",
      "\n",
      "Starting Epoch 39...\n",
      "Epoch 39/50\n",
      "714/714 [==============================] - ETA: 0s - loss: 0.4582 - accuracy: 0.7907 - auc: 0.7750\n",
      "Epoch 39: val_loss improved from 0.4145 to 0.4052\n",
      "Saving model to /home/apyba3/PICAR-autopilot/MobNetV3Small_Kaggle/checkpoints/50epochs_frozen_mobnetv3smallcheckpoint.keras\n",
      "Completed Epoch 39, Loss: 0.4582, Val Loss: 0.4052\n",
      "714/714 [==============================] - 64s 81ms/step - loss: 0.4582 - accuracy: 0.7907 - auc: 0.7750 - val_loss: 0.4052 - val_accuracy: 0.8199 - val_auc: 0.9024\n",
      "\n",
      "Starting Epoch 40...\n",
      "Epoch 40/50\n",
      "714/714 [==============================] - ETA: 0s - loss: 0.4619 - accuracy: 0.7887 - auc: 0.7720Completed Epoch 40, Loss: 0.4619, Val Loss: 0.4326\n",
      "714/714 [==============================] - 63s 80ms/step - loss: 0.4619 - accuracy: 0.7887 - auc: 0.7720 - val_loss: 0.4326 - val_accuracy: 0.7708 - val_auc: 0.8962\n",
      "\n",
      "Starting Epoch 41...\n",
      "Epoch 41/50\n",
      "714/714 [==============================] - ETA: 0s - loss: 0.4585 - accuracy: 0.7921 - auc: 0.7746Completed Epoch 41, Loss: 0.4585, Val Loss: 0.4125\n",
      "714/714 [==============================] - 63s 80ms/step - loss: 0.4585 - accuracy: 0.7921 - auc: 0.7746 - val_loss: 0.4125 - val_accuracy: 0.7992 - val_auc: 0.8855\n",
      "\n",
      "Starting Epoch 42...\n",
      "Epoch 42/50\n",
      "714/714 [==============================] - ETA: 0s - loss: 0.4568 - accuracy: 0.7911 - auc: 0.7758\n",
      "Epoch 42: val_loss improved from 0.4052 to 0.3961\n",
      "Saving model to /home/apyba3/PICAR-autopilot/MobNetV3Small_Kaggle/checkpoints/50epochs_frozen_mobnetv3smallcheckpoint.keras\n",
      "Completed Epoch 42, Loss: 0.4568, Val Loss: 0.3961\n",
      "714/714 [==============================] - 64s 81ms/step - loss: 0.4568 - accuracy: 0.7911 - auc: 0.7758 - val_loss: 0.3961 - val_accuracy: 0.8083 - val_auc: 0.9003\n",
      "\n",
      "Starting Epoch 43...\n",
      "Epoch 43/50\n",
      "714/714 [==============================] - ETA: 0s - loss: 0.4576 - accuracy: 0.7936 - auc: 0.7754Completed Epoch 43, Loss: 0.4576, Val Loss: 0.4232\n",
      "714/714 [==============================] - 63s 80ms/step - loss: 0.4576 - accuracy: 0.7936 - auc: 0.7754 - val_loss: 0.4232 - val_accuracy: 0.7912 - val_auc: 0.8934\n",
      "\n",
      "Starting Epoch 44...\n",
      "Epoch 44/50\n",
      "714/714 [==============================] - ETA: 0s - loss: 0.4551 - accuracy: 0.7938 - auc: 0.7795Completed Epoch 44, Loss: 0.4551, Val Loss: 0.4209\n",
      "714/714 [==============================] - 63s 80ms/step - loss: 0.4551 - accuracy: 0.7938 - auc: 0.7795 - val_loss: 0.4209 - val_accuracy: 0.8178 - val_auc: 0.8992\n",
      "\n",
      "Starting Epoch 45...\n",
      "Epoch 45/50\n",
      "714/714 [==============================] - ETA: 0s - loss: 0.4557 - accuracy: 0.7903 - auc: 0.7782Completed Epoch 45, Loss: 0.4557, Val Loss: 0.4178\n",
      "714/714 [==============================] - 63s 80ms/step - loss: 0.4557 - accuracy: 0.7903 - auc: 0.7782 - val_loss: 0.4178 - val_accuracy: 0.8371 - val_auc: 0.8982\n",
      "\n",
      "Starting Epoch 46...\n",
      "Epoch 46/50\n",
      "714/714 [==============================] - ETA: 0s - loss: 0.4506 - accuracy: 0.7937 - auc: 0.7847Completed Epoch 46, Loss: 0.4506, Val Loss: 0.4013\n",
      "714/714 [==============================] - 63s 80ms/step - loss: 0.4506 - accuracy: 0.7937 - auc: 0.7847 - val_loss: 0.4013 - val_accuracy: 0.7950 - val_auc: 0.8849\n",
      "\n",
      "Starting Epoch 47...\n",
      "Epoch 47/50\n",
      "714/714 [==============================] - ETA: 0s - loss: 0.4527 - accuracy: 0.7948 - auc: 0.7835Completed Epoch 47, Loss: 0.4527, Val Loss: 0.4496\n",
      "714/714 [==============================] - 63s 81ms/step - loss: 0.4527 - accuracy: 0.7948 - auc: 0.7835 - val_loss: 0.4496 - val_accuracy: 0.8304 - val_auc: 0.8931\n",
      "\n",
      "Starting Epoch 48...\n",
      "Epoch 48/50\n",
      "714/714 [==============================] - ETA: 0s - loss: 0.4497 - accuracy: 0.7962 - auc: 0.7848Completed Epoch 48, Loss: 0.4497, Val Loss: 0.4326\n",
      "714/714 [==============================] - 63s 80ms/step - loss: 0.4497 - accuracy: 0.7962 - auc: 0.7848 - val_loss: 0.4326 - val_accuracy: 0.7730 - val_auc: 0.9195\n",
      "\n",
      "Starting Epoch 49...\n",
      "Epoch 49/50\n",
      "714/714 [==============================] - ETA: 0s - loss: 0.4516 - accuracy: 0.7941 - auc: 0.7841Completed Epoch 49, Loss: 0.4516, Val Loss: 0.4386\n",
      "714/714 [==============================] - 63s 80ms/step - loss: 0.4516 - accuracy: 0.7941 - auc: 0.7841 - val_loss: 0.4386 - val_accuracy: 0.7677 - val_auc: 0.8962\n",
      "\n",
      "Starting Epoch 50...\n",
      "Epoch 50/50\n",
      "714/714 [==============================] - ETA: 0s - loss: 0.4526 - accuracy: 0.7956 - auc: 0.7840Completed Epoch 50, Loss: 0.4526, Val Loss: 0.4217\n",
      "714/714 [==============================] - 63s 80ms/step - loss: 0.4526 - accuracy: 0.7956 - auc: 0.7840 - val_loss: 0.4217 - val_accuracy: 0.8073 - val_auc: 0.8984\n"
     ]
    }
   ],
   "source": [
    "# Define checkpoint directory and create it if it doesn't exist\n",
    "checkpoint_dir = '/home/apyba3/PICAR-autopilot/MobNetV3Small_Kaggle/checkpoints'\n",
    "os.makedirs(checkpoint_dir, exist_ok=True)\n",
    "\n",
    "# Define checkpoint filepath\n",
    "checkpoint_filepath = os.path.join(checkpoint_dir, '50epochs_frozen_mobnetv3smallcheckpoint.keras')\n",
    "\n",
    "# Create a custom callback for model checkpointing\n",
    "class CustomModelCheckpoint(tf.keras.callbacks.Callback):\n",
    "    def __init__(self, filepath, monitor='val_loss', verbose=1, save_best_only=True, mode='min'):\n",
    "        super(CustomModelCheckpoint, self).__init__()\n",
    "        self.filepath = filepath\n",
    "        self.monitor = monitor\n",
    "        self.verbose = verbose\n",
    "        self.save_best_only = save_best_only\n",
    "        \n",
    "        # Initialize best value based on mode\n",
    "        self.mode = mode\n",
    "        if mode == 'min':\n",
    "            self.best = float('inf')\n",
    "            self.monitor_op = lambda current, best: current < best\n",
    "        else:  # 'max'\n",
    "            self.best = float('-inf')\n",
    "            self.monitor_op = lambda current, best: current > best\n",
    "            \n",
    "    def on_epoch_end(self, epoch, logs=None):\n",
    "        logs = logs or {}\n",
    "        current = logs.get(self.monitor)\n",
    "        \n",
    "        if current is None:\n",
    "            if self.verbose > 0:\n",
    "                print(f\"Warning: {self.monitor} not found in logs\")\n",
    "            return\n",
    "            \n",
    "        if self.save_best_only:\n",
    "            if self.monitor_op(current, self.best):\n",
    "                if self.verbose > 0:\n",
    "                    print(f\"\\nEpoch {epoch+1}: {self.monitor} improved from {self.best:.4f} to {current:.4f}\")\n",
    "                    print(f\"Saving model to {self.filepath}\")\n",
    "                self.best = current\n",
    "                \n",
    "                # Use direct model.save() without extra parameters\n",
    "                try:\n",
    "                    self.model.save(self.filepath)\n",
    "                except Exception as e:\n",
    "                    print(f\"Error saving model: {e}\")\n",
    "        else:\n",
    "            if self.verbose > 0:\n",
    "                print(f\"\\nEpoch {epoch+1}: saving model to {self.filepath}\")\n",
    "            try:\n",
    "                self.model.save(self.filepath)\n",
    "            except Exception as e:\n",
    "                print(f\"Error saving model: {e}\")\n",
    "\n",
    "# Create custom checkpoint callback\n",
    "custom_checkpoint = CustomModelCheckpoint(\n",
    "    filepath=checkpoint_filepath,\n",
    "    monitor='val_loss',\n",
    "    save_best_only=True,\n",
    "    mode='min',\n",
    "    verbose=1\n",
    ")\n",
    "\n",
    "# Define epoch callback \n",
    "epoch_callback = LambdaCallback(\n",
    "    on_epoch_begin=lambda epoch, logs: print(f\"\\nStarting Epoch {epoch + 1}...\"),\n",
    "    on_epoch_end=lambda epoch, logs: print(f\"Completed Epoch {epoch + 1}, Loss: {logs['loss']:.4f}, Val Loss: {logs['val_loss']:.4f}\")\n",
    ")\n",
    "\n",
    "# Training with callbacks\n",
    "history = model.fit(\n",
    "    train_dataset,\n",
    "    validation_data=val_dataset,\n",
    "    epochs=50,\n",
    "    callbacks=[custom_checkpoint, epoch_callback]\n",
    ")"
   ]
  },
  {
   "cell_type": "code",
   "execution_count": null,
   "metadata": {},
   "outputs": [],
   "source": [
    "# After training is complete\n",
    "import matplotlib.pyplot as plt\n",
    "import numpy as np\n",
    "\n",
    "def plot_loss_curves(history, save_path=None):\n",
    "    \"\"\"\n",
    "    Create a professional-looking loss curve plot with training and validation curves.\n",
    "    \n",
    "    Args:\n",
    "        history: The history object returned by model.fit()\n",
    "        save_path: Path to save the plot (without extension)\n",
    "    \"\"\"\n",
    "    # Create figure with appropriate size\n",
    "    plt.figure(figsize=(10, 6), dpi=300)\n",
    "    \n",
    "    # Plot training & validation loss on the same figure\n",
    "    epochs = range(1, len(history.history['loss']) + 1)\n",
    "    plt.plot(epochs, history.history['loss'], 'o-', color='blue', linewidth=2, \n",
    "            markersize=4, label='Training Loss')\n",
    "    plt.plot(epochs, history.history['val_loss'], 's-', color='red', linewidth=2, \n",
    "            markersize=4, label='Validation Loss')\n",
    "    \n",
    "    # Add title and labels\n",
    "    plt.title('Model Training Performance', fontsize=16, pad=15)\n",
    "    plt.ylabel('Loss', fontsize=14)\n",
    "    plt.xlabel('Epoch', fontsize=14)\n",
    "    \n",
    "    # Apply your specific styling with legend\n",
    "    plt.grid(True, linestyle='--', alpha=0.7)\n",
    "    plt.legend(fontsize=14, loc='lower right')  # Legend to distinguish between lines\n",
    "    plt.minorticks_on()\n",
    "    plt.tick_params(axis='both', which='minor', length=4, color='gray', labelsize=14)\n",
    "    plt.tick_params(axis='both', which='major', length=6, color='black', labelsize=14)\n",
    "    plt.tick_params(top=True, right=True, direction='in', length=6)\n",
    "    plt.tick_params(which='minor', top=True, right=True, direction='in', length=4)\n",
    "    \n",
    "    # Tighten layout\n",
    "    plt.tight_layout()\n",
    "    \n",
    "    # Save the plot in both formats if a path is provided\n",
    "    if save_path:\n",
    "        plt.savefig(f\"{save_path}.pdf\", bbox_inches='tight')\n",
    "        plt.savefig(f\"{save_path}.png\", bbox_inches='tight', dpi=300)\n",
    "        print(f\"Loss curves saved to {save_path}.pdf and {save_path}.png\")\n",
    "    \n",
    "    plt.show()\n",
    "\n",
    "# Example usage:\n",
    "# After training completes\n",
    "loss_plot_path = os.path.join(checkpoint_dir, 'loss_curves')\n",
    "plot_loss_curves(history, save_path=loss_plot_path)"
   ]
  },
  {
   "cell_type": "markdown",
   "metadata": {},
   "source": [
    "save the full model"
   ]
  },
  {
   "cell_type": "code",
   "execution_count": 33,
   "metadata": {},
   "outputs": [
    {
     "name": "stdout",
     "output_type": "stream",
     "text": [
      "Final model saved to /home/apyba3/PICAR-autopilot-1/autopilot/models/BenTyler_MLiSards/50epochs_frozen_mobnetv3small_classification_model.keras\n"
     ]
    }
   ],
   "source": [
    "# Save the final model\n",
    "model_path = '/home/apyba3/PICAR-autopilot-1/autopilot/models/BenTyler_MLiSards/50epochs_frozen_mobnetv3small_classification_model.keras'\n",
    "model.save(model_path)\n",
    "print(f\"Final model saved to {model_path}\")"
   ]
  },
  {
   "cell_type": "markdown",
   "metadata": {},
   "source": [
    "save model weights"
   ]
  },
  {
   "cell_type": "code",
   "execution_count": 34,
   "metadata": {
    "id": "FiHy6opSP2sQ"
   },
   "outputs": [],
   "source": [
    "model.save_weights('/home/apyba3/PICAR-autopilot-1/MobNetV3Small_Kaggle/weights/50epochs_frozentraining_classification_mobnetv3small.weights.keras')"
   ]
  },
  {
   "cell_type": "markdown",
   "metadata": {},
   "source": [
    "clear keras session"
   ]
  },
  {
   "cell_type": "code",
   "execution_count": 35,
   "metadata": {
    "id": "FpLHyw20P93U"
   },
   "outputs": [],
   "source": [
    "tf.keras.backend.clear_session() #Clear keras session"
   ]
  },
  {
   "cell_type": "markdown",
   "metadata": {
    "id": "ENHbUvQdvyFe"
   },
   "source": [
    "### 2d) fine-tuning"
   ]
  },
  {
   "cell_type": "markdown",
   "metadata": {
    "id": "h0ek_ytyw0KB"
   },
   "source": [
    "rebuild model after clearing keras session"
   ]
  },
  {
   "cell_type": "code",
   "execution_count": null,
   "metadata": {},
   "outputs": [
    {
     "name": "stdout",
     "output_type": "stream",
     "text": [
      "Model: \"sequential\"\n",
      "_________________________________________________________________\n",
      " Layer (type)                Output Shape              Param #   \n",
      "=================================================================\n",
      " MobilenetV3small (Function  (None, 7, 7, 576)         939120    \n",
      " al)                                                             \n",
      "                                                                 \n",
      " global_average_pooling2d (  (None, 576)               0         \n",
      " GlobalAveragePooling2D)                                         \n",
      "                                                                 \n",
      " dropout (Dropout)           (None, 576)               0         \n",
      "                                                                 \n",
      " dense (Dense)               (None, 256)               147712    \n",
      "                                                                 \n",
      " dropout_1 (Dropout)         (None, 256)               0         \n",
      "                                                                 \n",
      " dense_1 (Dense)             (None, 128)               32896     \n",
      "                                                                 \n",
      " dropout_2 (Dropout)         (None, 128)               0         \n",
      "                                                                 \n",
      " dense_2 (Dense)             (None, 64)                8256      \n",
      "                                                                 \n",
      " dropout_3 (Dropout)         (None, 64)                0         \n",
      "                                                                 \n",
      " dense_3 (Dense)             (None, 32)                2080      \n",
      "                                                                 \n",
      " dense_4 (Dense)             (None, 1)                 33        \n",
      "                                                                 \n",
      "=================================================================\n",
      "Total params: 1130097 (4.31 MB)\n",
      "Trainable params: 1117985 (4.26 MB)\n",
      "Non-trainable params: 12112 (47.31 KB)\n",
      "_________________________________________________________________\n",
      "Successfully loaded weights and prepared model for fine-tuning!\n"
     ]
    }
   ],
   "source": [
    "# Step 2: Rebuild the model in EXACTLY the same state as when weights were saved\n",
    "mobnetv3small = tf.keras.applications.MobileNetV3Small(\n",
    "    weights='imagenet',\n",
    "    include_top=False,\n",
    "    input_shape=input_shape\n",
    ")\n",
    "\n",
    "# Create model with the SAME architecture as when saving\n",
    "model = tf.keras.Sequential([\n",
    "  mobnetv3small,\n",
    "  tf.keras.layers.GlobalAveragePooling2D(),\n",
    "  tf.keras.layers.Dropout(dropoutrate),\n",
    "  tf.keras.layers.Dense(256, activation='relu'),\n",
    "  tf.keras.layers.Dropout(dropoutrate),\n",
    "  tf.keras.layers.Dense(128, activation='relu'),\n",
    "  tf.keras.layers.Dropout(dropoutrate),\n",
    "  tf.keras.layers.Dense(64, activation='relu'),\n",
    "  tf.keras.layers.Dropout(dropoutrate),\n",
    "  tf.keras.layers.Dense(32, activation='relu'),\n",
    "  tf.keras.layers.Dense(num_classes, activation='sigmoid')\n",
    "])\n",
    "\n",
    "# IMPORTANT: Set trainable to False BEFORE loading weights\n",
    "# This matches the state when weights were saved\n",
    "mobnetv3small.trainable = False\n",
    "\n",
    "# Step 3: Compile the model\n",
    "# The optimizer doesn't need to match, but having it compiled is important\n",
    "model.compile(\n",
    "    optimizer='adam',  # Doesn't need to match original\n",
    "    loss='binary_crossentropy',  # Use your original loss function\n",
    "    metrics=['accuracy']  # Use your original metrics\n",
    ")\n",
    "\n",
    "# Step 4: Load the weights\n",
    "weights_path = '/home/apyba3/PICAR-autopilot-1/MobNetV3Small_Kaggle/weights/50epochs_frozentraining_classification_mobnetv3small.weights.keras'\n",
    "model.load_weights(weights_path)\n",
    "\n",
    "# Step 5: NOW you can set trainable to True for fine-tuning\n",
    "mobnetv3small.trainable = True\n",
    "\n",
    "# Step 6: Re-compile with appropriate learning rate for fine-tuning\n",
    "model.compile(\n",
    "    optimizer=tf.keras.optimizers.Adam(learning_rate=0.0001),  # Lower learning rate for fine-tuning\n",
    "    loss='binary_crossentropy',\n",
    "    metrics=['accuracy']\n",
    ")\n",
    "\n",
    "# Verify model structure\n",
    "model.summary()\n",
    "\n",
    "print(\"Successfully loaded weights and prepared model for fine-tuning!\")"
   ]
  },
  {
   "cell_type": "markdown",
   "metadata": {
    "id": "XWDtRxBow89t"
   },
   "source": [
    "Initiate fine-tuning training"
   ]
  },
  {
   "cell_type": "code",
   "execution_count": 47,
   "metadata": {},
   "outputs": [
    {
     "name": "stdout",
     "output_type": "stream",
     "text": [
      "\n",
      "Starting Epoch 1...\n",
      "Epoch 1/20\n"
     ]
    },
    {
     "name": "stdout",
     "output_type": "stream",
     "text": [
      "714/714 [==============================] - ETA: 0s - loss: 0.1795 - accuracy: 0.9311\n",
      "Epoch 1: val_loss improved from inf to 0.5329\n",
      "Saving model to /home/apyba3/PICAR-autopilot/MobNetV3Small_Kaggle/checkpoints/finetuned_50epochs_mobnetv3small_classif_checkpoint.keras\n",
      "Completed Epoch 1, Loss: 0.1795, Val Loss: 0.5329\n",
      "714/714 [==============================] - 242s 331ms/step - loss: 0.1795 - accuracy: 0.9311 - val_loss: 0.5329 - val_accuracy: 0.7701\n",
      "\n",
      "Starting Epoch 2...\n",
      "Epoch 2/20\n",
      "714/714 [==============================] - ETA: 0s - loss: 0.1145 - accuracy: 0.9561Completed Epoch 2, Loss: 0.1145, Val Loss: 2.6340\n",
      "714/714 [==============================] - 241s 330ms/step - loss: 0.1145 - accuracy: 0.9561 - val_loss: 2.6340 - val_accuracy: 0.7460\n",
      "\n",
      "Starting Epoch 3...\n",
      "Epoch 3/20\n",
      "714/714 [==============================] - ETA: 0s - loss: 0.0885 - accuracy: 0.9658Completed Epoch 3, Loss: 0.0885, Val Loss: 4.6695\n",
      "714/714 [==============================] - 241s 329ms/step - loss: 0.0885 - accuracy: 0.9658 - val_loss: 4.6695 - val_accuracy: 0.7715\n",
      "\n",
      "Starting Epoch 4...\n",
      "Epoch 4/20\n",
      "714/714 [==============================] - ETA: 0s - loss: 0.0686 - accuracy: 0.9747Completed Epoch 4, Loss: 0.0686, Val Loss: 2.3777\n",
      "714/714 [==============================] - 240s 329ms/step - loss: 0.0686 - accuracy: 0.9747 - val_loss: 2.3777 - val_accuracy: 0.7519\n",
      "\n",
      "Starting Epoch 5...\n",
      "Epoch 5/20\n",
      "714/714 [==============================] - ETA: 0s - loss: 0.0529 - accuracy: 0.9800Completed Epoch 5, Loss: 0.0529, Val Loss: 3.2974\n",
      "714/714 [==============================] - 241s 329ms/step - loss: 0.0529 - accuracy: 0.9800 - val_loss: 3.2974 - val_accuracy: 0.7579\n",
      "\n",
      "Starting Epoch 6...\n",
      "Epoch 6/20\n",
      "714/714 [==============================] - ETA: 0s - loss: 0.0423 - accuracy: 0.9838Completed Epoch 6, Loss: 0.0423, Val Loss: 1.5592\n",
      "714/714 [==============================] - 242s 331ms/step - loss: 0.0423 - accuracy: 0.9838 - val_loss: 1.5592 - val_accuracy: 0.7694\n",
      "\n",
      "Starting Epoch 7...\n",
      "Epoch 7/20\n",
      "714/714 [==============================] - ETA: 0s - loss: 0.0335 - accuracy: 0.9871Completed Epoch 7, Loss: 0.0335, Val Loss: 1.3348\n",
      "714/714 [==============================] - 244s 334ms/step - loss: 0.0335 - accuracy: 0.9871 - val_loss: 1.3348 - val_accuracy: 0.7758\n",
      "\n",
      "Starting Epoch 8...\n",
      "Epoch 8/20\n",
      "714/714 [==============================] - ETA: 0s - loss: 0.0315 - accuracy: 0.9887Completed Epoch 8, Loss: 0.0315, Val Loss: 0.6284\n",
      "714/714 [==============================] - 241s 329ms/step - loss: 0.0315 - accuracy: 0.9887 - val_loss: 0.6284 - val_accuracy: 0.8297\n",
      "\n",
      "Starting Epoch 9...\n",
      "Epoch 9/20\n",
      "714/714 [==============================] - ETA: 0s - loss: 0.0273 - accuracy: 0.9893\n",
      "Epoch 9: val_loss improved from 0.5329 to 0.0989\n",
      "Saving model to /home/apyba3/PICAR-autopilot/MobNetV3Small_Kaggle/checkpoints/finetuned_50epochs_mobnetv3small_classif_checkpoint.keras\n",
      "Completed Epoch 9, Loss: 0.0273, Val Loss: 0.0989\n",
      "714/714 [==============================] - 241s 329ms/step - loss: 0.0273 - accuracy: 0.9893 - val_loss: 0.0989 - val_accuracy: 0.9636\n",
      "\n",
      "Starting Epoch 10...\n",
      "Epoch 10/20\n",
      "714/714 [==============================] - ETA: 0s - loss: 0.0181 - accuracy: 0.9934Completed Epoch 10, Loss: 0.0181, Val Loss: 0.1770\n",
      "714/714 [==============================] - 240s 328ms/step - loss: 0.0181 - accuracy: 0.9934 - val_loss: 0.1770 - val_accuracy: 0.9387\n",
      "\n",
      "Starting Epoch 11...\n",
      "Epoch 11/20\n",
      "714/714 [==============================] - ETA: 0s - loss: 0.0183 - accuracy: 0.9930\n",
      "Epoch 11: val_loss improved from 0.0989 to 0.0763\n",
      "Saving model to /home/apyba3/PICAR-autopilot/MobNetV3Small_Kaggle/checkpoints/finetuned_50epochs_mobnetv3small_classif_checkpoint.keras\n",
      "Completed Epoch 11, Loss: 0.0183, Val Loss: 0.0763\n",
      "714/714 [==============================] - 241s 330ms/step - loss: 0.0183 - accuracy: 0.9930 - val_loss: 0.0763 - val_accuracy: 0.9769\n",
      "\n",
      "Starting Epoch 12...\n",
      "Epoch 12/20\n",
      "714/714 [==============================] - ETA: 0s - loss: 0.0166 - accuracy: 0.9941Completed Epoch 12, Loss: 0.0166, Val Loss: 0.7760\n",
      "714/714 [==============================] - 241s 329ms/step - loss: 0.0166 - accuracy: 0.9941 - val_loss: 0.7760 - val_accuracy: 0.8959\n",
      "\n",
      "Starting Epoch 13...\n",
      "Epoch 13/20\n",
      "714/714 [==============================] - ETA: 0s - loss: 0.0129 - accuracy: 0.9954Completed Epoch 13, Loss: 0.0129, Val Loss: 0.1317\n",
      "714/714 [==============================] - 240s 329ms/step - loss: 0.0129 - accuracy: 0.9954 - val_loss: 0.1317 - val_accuracy: 0.9552\n",
      "\n",
      "Starting Epoch 14...\n",
      "Epoch 14/20\n",
      "714/714 [==============================] - ETA: 0s - loss: 0.0138 - accuracy: 0.9948Completed Epoch 14, Loss: 0.0138, Val Loss: 0.1778\n",
      "714/714 [==============================] - 240s 328ms/step - loss: 0.0138 - accuracy: 0.9948 - val_loss: 0.1778 - val_accuracy: 0.9390\n",
      "\n",
      "Starting Epoch 15...\n",
      "Epoch 15/20\n",
      "714/714 [==============================] - ETA: 0s - loss: 0.0158 - accuracy: 0.9949Completed Epoch 15, Loss: 0.0158, Val Loss: 2.4391\n",
      "714/714 [==============================] - 240s 328ms/step - loss: 0.0158 - accuracy: 0.9949 - val_loss: 2.4391 - val_accuracy: 0.7642\n",
      "\n",
      "Starting Epoch 16...\n",
      "Epoch 16/20\n",
      " 37/714 [>.............................] - ETA: 3:35 - loss: 0.0039 - accuracy: 0.9992"
     ]
    },
    {
     "ename": "KeyboardInterrupt",
     "evalue": "",
     "output_type": "error",
     "traceback": [
      "\u001b[0;31m---------------------------------------------------------------------------\u001b[0m",
      "\u001b[0;31mKeyboardInterrupt\u001b[0m                         Traceback (most recent call last)",
      "Cell \u001b[0;32mIn[47], line 25\u001b[0m\n\u001b[1;32m     19\u001b[0m epoch_callback \u001b[38;5;241m=\u001b[39m LambdaCallback(\n\u001b[1;32m     20\u001b[0m     on_epoch_begin\u001b[38;5;241m=\u001b[39m\u001b[38;5;28;01mlambda\u001b[39;00m epoch, logs: \u001b[38;5;28mprint\u001b[39m(\u001b[38;5;124mf\u001b[39m\u001b[38;5;124m\"\u001b[39m\u001b[38;5;130;01m\\n\u001b[39;00m\u001b[38;5;124mStarting Epoch \u001b[39m\u001b[38;5;132;01m{\u001b[39;00mepoch\u001b[38;5;250m \u001b[39m\u001b[38;5;241m+\u001b[39m\u001b[38;5;250m \u001b[39m\u001b[38;5;241m1\u001b[39m\u001b[38;5;132;01m}\u001b[39;00m\u001b[38;5;124m...\u001b[39m\u001b[38;5;124m\"\u001b[39m),\n\u001b[1;32m     21\u001b[0m     on_epoch_end\u001b[38;5;241m=\u001b[39m\u001b[38;5;28;01mlambda\u001b[39;00m epoch, logs: \u001b[38;5;28mprint\u001b[39m(\u001b[38;5;124mf\u001b[39m\u001b[38;5;124m\"\u001b[39m\u001b[38;5;124mCompleted Epoch \u001b[39m\u001b[38;5;132;01m{\u001b[39;00mepoch\u001b[38;5;250m \u001b[39m\u001b[38;5;241m+\u001b[39m\u001b[38;5;250m \u001b[39m\u001b[38;5;241m1\u001b[39m\u001b[38;5;132;01m}\u001b[39;00m\u001b[38;5;124m, Loss: \u001b[39m\u001b[38;5;132;01m{\u001b[39;00mlogs[\u001b[38;5;124m'\u001b[39m\u001b[38;5;124mloss\u001b[39m\u001b[38;5;124m'\u001b[39m]\u001b[38;5;132;01m:\u001b[39;00m\u001b[38;5;124m.4f\u001b[39m\u001b[38;5;132;01m}\u001b[39;00m\u001b[38;5;124m, Val Loss: \u001b[39m\u001b[38;5;132;01m{\u001b[39;00mlogs[\u001b[38;5;124m'\u001b[39m\u001b[38;5;124mval_loss\u001b[39m\u001b[38;5;124m'\u001b[39m]\u001b[38;5;132;01m:\u001b[39;00m\u001b[38;5;124m.4f\u001b[39m\u001b[38;5;132;01m}\u001b[39;00m\u001b[38;5;124m\"\u001b[39m)\n\u001b[1;32m     22\u001b[0m )\n\u001b[1;32m     24\u001b[0m \u001b[38;5;66;03m# Training with callbacks\u001b[39;00m\n\u001b[0;32m---> 25\u001b[0m history \u001b[38;5;241m=\u001b[39m \u001b[43mmodel\u001b[49m\u001b[38;5;241;43m.\u001b[39;49m\u001b[43mfit\u001b[49m\u001b[43m(\u001b[49m\n\u001b[1;32m     26\u001b[0m \u001b[43m    \u001b[49m\u001b[43mtrain_dataset\u001b[49m\u001b[43m,\u001b[49m\n\u001b[1;32m     27\u001b[0m \u001b[43m    \u001b[49m\u001b[43mvalidation_data\u001b[49m\u001b[38;5;241;43m=\u001b[39;49m\u001b[43mval_dataset\u001b[49m\u001b[43m,\u001b[49m\n\u001b[1;32m     28\u001b[0m \u001b[43m    \u001b[49m\u001b[43mepochs\u001b[49m\u001b[38;5;241;43m=\u001b[39;49m\u001b[38;5;241;43m20\u001b[39;49m\u001b[43m,\u001b[49m\n\u001b[1;32m     29\u001b[0m \u001b[43m    \u001b[49m\u001b[43mcallbacks\u001b[49m\u001b[38;5;241;43m=\u001b[39;49m\u001b[43m[\u001b[49m\u001b[43mcustom_checkpoint\u001b[49m\u001b[43m,\u001b[49m\u001b[43m \u001b[49m\u001b[43mepoch_callback\u001b[49m\u001b[43m]\u001b[49m\n\u001b[1;32m     30\u001b[0m \u001b[43m)\u001b[49m\n",
      "File \u001b[0;32m~/anaconda3/envs/car_env/lib/python3.8/site-packages/keras/src/utils/traceback_utils.py:65\u001b[0m, in \u001b[0;36mfilter_traceback.<locals>.error_handler\u001b[0;34m(*args, **kwargs)\u001b[0m\n\u001b[1;32m     63\u001b[0m filtered_tb \u001b[38;5;241m=\u001b[39m \u001b[38;5;28;01mNone\u001b[39;00m\n\u001b[1;32m     64\u001b[0m \u001b[38;5;28;01mtry\u001b[39;00m:\n\u001b[0;32m---> 65\u001b[0m     \u001b[38;5;28;01mreturn\u001b[39;00m \u001b[43mfn\u001b[49m\u001b[43m(\u001b[49m\u001b[38;5;241;43m*\u001b[39;49m\u001b[43margs\u001b[49m\u001b[43m,\u001b[49m\u001b[43m \u001b[49m\u001b[38;5;241;43m*\u001b[39;49m\u001b[38;5;241;43m*\u001b[39;49m\u001b[43mkwargs\u001b[49m\u001b[43m)\u001b[49m\n\u001b[1;32m     66\u001b[0m \u001b[38;5;28;01mexcept\u001b[39;00m \u001b[38;5;167;01mException\u001b[39;00m \u001b[38;5;28;01mas\u001b[39;00m e:\n\u001b[1;32m     67\u001b[0m     filtered_tb \u001b[38;5;241m=\u001b[39m _process_traceback_frames(e\u001b[38;5;241m.\u001b[39m__traceback__)\n",
      "File \u001b[0;32m~/anaconda3/envs/car_env/lib/python3.8/site-packages/keras/src/engine/training.py:1742\u001b[0m, in \u001b[0;36mModel.fit\u001b[0;34m(self, x, y, batch_size, epochs, verbose, callbacks, validation_split, validation_data, shuffle, class_weight, sample_weight, initial_epoch, steps_per_epoch, validation_steps, validation_batch_size, validation_freq, max_queue_size, workers, use_multiprocessing)\u001b[0m\n\u001b[1;32m   1734\u001b[0m \u001b[38;5;28;01mwith\u001b[39;00m tf\u001b[38;5;241m.\u001b[39mprofiler\u001b[38;5;241m.\u001b[39mexperimental\u001b[38;5;241m.\u001b[39mTrace(\n\u001b[1;32m   1735\u001b[0m     \u001b[38;5;124m\"\u001b[39m\u001b[38;5;124mtrain\u001b[39m\u001b[38;5;124m\"\u001b[39m,\n\u001b[1;32m   1736\u001b[0m     epoch_num\u001b[38;5;241m=\u001b[39mepoch,\n\u001b[0;32m   (...)\u001b[0m\n\u001b[1;32m   1739\u001b[0m     _r\u001b[38;5;241m=\u001b[39m\u001b[38;5;241m1\u001b[39m,\n\u001b[1;32m   1740\u001b[0m ):\n\u001b[1;32m   1741\u001b[0m     callbacks\u001b[38;5;241m.\u001b[39mon_train_batch_begin(step)\n\u001b[0;32m-> 1742\u001b[0m     tmp_logs \u001b[38;5;241m=\u001b[39m \u001b[38;5;28;43mself\u001b[39;49m\u001b[38;5;241;43m.\u001b[39;49m\u001b[43mtrain_function\u001b[49m\u001b[43m(\u001b[49m\u001b[43miterator\u001b[49m\u001b[43m)\u001b[49m\n\u001b[1;32m   1743\u001b[0m     \u001b[38;5;28;01mif\u001b[39;00m data_handler\u001b[38;5;241m.\u001b[39mshould_sync:\n\u001b[1;32m   1744\u001b[0m         context\u001b[38;5;241m.\u001b[39masync_wait()\n",
      "File \u001b[0;32m~/anaconda3/envs/car_env/lib/python3.8/site-packages/tensorflow/python/util/traceback_utils.py:150\u001b[0m, in \u001b[0;36mfilter_traceback.<locals>.error_handler\u001b[0;34m(*args, **kwargs)\u001b[0m\n\u001b[1;32m    148\u001b[0m filtered_tb \u001b[38;5;241m=\u001b[39m \u001b[38;5;28;01mNone\u001b[39;00m\n\u001b[1;32m    149\u001b[0m \u001b[38;5;28;01mtry\u001b[39;00m:\n\u001b[0;32m--> 150\u001b[0m   \u001b[38;5;28;01mreturn\u001b[39;00m \u001b[43mfn\u001b[49m\u001b[43m(\u001b[49m\u001b[38;5;241;43m*\u001b[39;49m\u001b[43margs\u001b[49m\u001b[43m,\u001b[49m\u001b[43m \u001b[49m\u001b[38;5;241;43m*\u001b[39;49m\u001b[38;5;241;43m*\u001b[39;49m\u001b[43mkwargs\u001b[49m\u001b[43m)\u001b[49m\n\u001b[1;32m    151\u001b[0m \u001b[38;5;28;01mexcept\u001b[39;00m \u001b[38;5;167;01mException\u001b[39;00m \u001b[38;5;28;01mas\u001b[39;00m e:\n\u001b[1;32m    152\u001b[0m   filtered_tb \u001b[38;5;241m=\u001b[39m _process_traceback_frames(e\u001b[38;5;241m.\u001b[39m__traceback__)\n",
      "File \u001b[0;32m~/anaconda3/envs/car_env/lib/python3.8/site-packages/tensorflow/python/eager/polymorphic_function/polymorphic_function.py:825\u001b[0m, in \u001b[0;36mFunction.__call__\u001b[0;34m(self, *args, **kwds)\u001b[0m\n\u001b[1;32m    822\u001b[0m compiler \u001b[38;5;241m=\u001b[39m \u001b[38;5;124m\"\u001b[39m\u001b[38;5;124mxla\u001b[39m\u001b[38;5;124m\"\u001b[39m \u001b[38;5;28;01mif\u001b[39;00m \u001b[38;5;28mself\u001b[39m\u001b[38;5;241m.\u001b[39m_jit_compile \u001b[38;5;28;01melse\u001b[39;00m \u001b[38;5;124m\"\u001b[39m\u001b[38;5;124mnonXla\u001b[39m\u001b[38;5;124m\"\u001b[39m\n\u001b[1;32m    824\u001b[0m \u001b[38;5;28;01mwith\u001b[39;00m OptionalXlaContext(\u001b[38;5;28mself\u001b[39m\u001b[38;5;241m.\u001b[39m_jit_compile):\n\u001b[0;32m--> 825\u001b[0m   result \u001b[38;5;241m=\u001b[39m \u001b[38;5;28;43mself\u001b[39;49m\u001b[38;5;241;43m.\u001b[39;49m\u001b[43m_call\u001b[49m\u001b[43m(\u001b[49m\u001b[38;5;241;43m*\u001b[39;49m\u001b[43margs\u001b[49m\u001b[43m,\u001b[49m\u001b[43m \u001b[49m\u001b[38;5;241;43m*\u001b[39;49m\u001b[38;5;241;43m*\u001b[39;49m\u001b[43mkwds\u001b[49m\u001b[43m)\u001b[49m\n\u001b[1;32m    827\u001b[0m new_tracing_count \u001b[38;5;241m=\u001b[39m \u001b[38;5;28mself\u001b[39m\u001b[38;5;241m.\u001b[39mexperimental_get_tracing_count()\n\u001b[1;32m    828\u001b[0m without_tracing \u001b[38;5;241m=\u001b[39m (tracing_count \u001b[38;5;241m==\u001b[39m new_tracing_count)\n",
      "File \u001b[0;32m~/anaconda3/envs/car_env/lib/python3.8/site-packages/tensorflow/python/eager/polymorphic_function/polymorphic_function.py:857\u001b[0m, in \u001b[0;36mFunction._call\u001b[0;34m(self, *args, **kwds)\u001b[0m\n\u001b[1;32m    854\u001b[0m   \u001b[38;5;28mself\u001b[39m\u001b[38;5;241m.\u001b[39m_lock\u001b[38;5;241m.\u001b[39mrelease()\n\u001b[1;32m    855\u001b[0m   \u001b[38;5;66;03m# In this case we have created variables on the first call, so we run the\u001b[39;00m\n\u001b[1;32m    856\u001b[0m   \u001b[38;5;66;03m# defunned version which is guaranteed to never create variables.\u001b[39;00m\n\u001b[0;32m--> 857\u001b[0m   \u001b[38;5;28;01mreturn\u001b[39;00m \u001b[38;5;28;43mself\u001b[39;49m\u001b[38;5;241;43m.\u001b[39;49m\u001b[43m_no_variable_creation_fn\u001b[49m\u001b[43m(\u001b[49m\u001b[38;5;241;43m*\u001b[39;49m\u001b[43margs\u001b[49m\u001b[43m,\u001b[49m\u001b[43m \u001b[49m\u001b[38;5;241;43m*\u001b[39;49m\u001b[38;5;241;43m*\u001b[39;49m\u001b[43mkwds\u001b[49m\u001b[43m)\u001b[49m  \u001b[38;5;66;03m# pylint: disable=not-callable\u001b[39;00m\n\u001b[1;32m    858\u001b[0m \u001b[38;5;28;01melif\u001b[39;00m \u001b[38;5;28mself\u001b[39m\u001b[38;5;241m.\u001b[39m_variable_creation_fn \u001b[38;5;129;01mis\u001b[39;00m \u001b[38;5;129;01mnot\u001b[39;00m \u001b[38;5;28;01mNone\u001b[39;00m:\n\u001b[1;32m    859\u001b[0m   \u001b[38;5;66;03m# Release the lock early so that multiple threads can perform the call\u001b[39;00m\n\u001b[1;32m    860\u001b[0m   \u001b[38;5;66;03m# in parallel.\u001b[39;00m\n\u001b[1;32m    861\u001b[0m   \u001b[38;5;28mself\u001b[39m\u001b[38;5;241m.\u001b[39m_lock\u001b[38;5;241m.\u001b[39mrelease()\n",
      "File \u001b[0;32m~/anaconda3/envs/car_env/lib/python3.8/site-packages/tensorflow/python/eager/polymorphic_function/tracing_compiler.py:148\u001b[0m, in \u001b[0;36mTracingCompiler.__call__\u001b[0;34m(self, *args, **kwargs)\u001b[0m\n\u001b[1;32m    145\u001b[0m \u001b[38;5;28;01mwith\u001b[39;00m \u001b[38;5;28mself\u001b[39m\u001b[38;5;241m.\u001b[39m_lock:\n\u001b[1;32m    146\u001b[0m   (concrete_function,\n\u001b[1;32m    147\u001b[0m    filtered_flat_args) \u001b[38;5;241m=\u001b[39m \u001b[38;5;28mself\u001b[39m\u001b[38;5;241m.\u001b[39m_maybe_define_function(args, kwargs)\n\u001b[0;32m--> 148\u001b[0m \u001b[38;5;28;01mreturn\u001b[39;00m \u001b[43mconcrete_function\u001b[49m\u001b[38;5;241;43m.\u001b[39;49m\u001b[43m_call_flat\u001b[49m\u001b[43m(\u001b[49m\n\u001b[1;32m    149\u001b[0m \u001b[43m    \u001b[49m\u001b[43mfiltered_flat_args\u001b[49m\u001b[43m,\u001b[49m\u001b[43m \u001b[49m\u001b[43mcaptured_inputs\u001b[49m\u001b[38;5;241;43m=\u001b[39;49m\u001b[43mconcrete_function\u001b[49m\u001b[38;5;241;43m.\u001b[39;49m\u001b[43mcaptured_inputs\u001b[49m\u001b[43m)\u001b[49m\n",
      "File \u001b[0;32m~/anaconda3/envs/car_env/lib/python3.8/site-packages/tensorflow/python/eager/polymorphic_function/monomorphic_function.py:1349\u001b[0m, in \u001b[0;36mConcreteFunction._call_flat\u001b[0;34m(self, args, captured_inputs)\u001b[0m\n\u001b[1;32m   1345\u001b[0m possible_gradient_type \u001b[38;5;241m=\u001b[39m gradients_util\u001b[38;5;241m.\u001b[39mPossibleTapeGradientTypes(args)\n\u001b[1;32m   1346\u001b[0m \u001b[38;5;28;01mif\u001b[39;00m (possible_gradient_type \u001b[38;5;241m==\u001b[39m gradients_util\u001b[38;5;241m.\u001b[39mPOSSIBLE_GRADIENT_TYPES_NONE\n\u001b[1;32m   1347\u001b[0m     \u001b[38;5;129;01mand\u001b[39;00m executing_eagerly):\n\u001b[1;32m   1348\u001b[0m   \u001b[38;5;66;03m# No tape is watching; skip to running the function.\u001b[39;00m\n\u001b[0;32m-> 1349\u001b[0m   \u001b[38;5;28;01mreturn\u001b[39;00m \u001b[38;5;28mself\u001b[39m\u001b[38;5;241m.\u001b[39m_build_call_outputs(\u001b[38;5;28;43mself\u001b[39;49m\u001b[38;5;241;43m.\u001b[39;49m\u001b[43m_inference_function\u001b[49m\u001b[43m(\u001b[49m\u001b[38;5;241;43m*\u001b[39;49m\u001b[43margs\u001b[49m\u001b[43m)\u001b[49m)\n\u001b[1;32m   1350\u001b[0m forward_backward \u001b[38;5;241m=\u001b[39m \u001b[38;5;28mself\u001b[39m\u001b[38;5;241m.\u001b[39m_select_forward_and_backward_functions(\n\u001b[1;32m   1351\u001b[0m     args,\n\u001b[1;32m   1352\u001b[0m     possible_gradient_type,\n\u001b[1;32m   1353\u001b[0m     executing_eagerly)\n\u001b[1;32m   1354\u001b[0m forward_function, args_with_tangents \u001b[38;5;241m=\u001b[39m forward_backward\u001b[38;5;241m.\u001b[39mforward()\n",
      "File \u001b[0;32m~/anaconda3/envs/car_env/lib/python3.8/site-packages/tensorflow/python/eager/polymorphic_function/atomic_function.py:196\u001b[0m, in \u001b[0;36mAtomicFunction.__call__\u001b[0;34m(self, *args)\u001b[0m\n\u001b[1;32m    194\u001b[0m \u001b[38;5;28;01mwith\u001b[39;00m record\u001b[38;5;241m.\u001b[39mstop_recording():\n\u001b[1;32m    195\u001b[0m   \u001b[38;5;28;01mif\u001b[39;00m \u001b[38;5;28mself\u001b[39m\u001b[38;5;241m.\u001b[39m_bound_context\u001b[38;5;241m.\u001b[39mexecuting_eagerly():\n\u001b[0;32m--> 196\u001b[0m     outputs \u001b[38;5;241m=\u001b[39m \u001b[38;5;28;43mself\u001b[39;49m\u001b[38;5;241;43m.\u001b[39;49m\u001b[43m_bound_context\u001b[49m\u001b[38;5;241;43m.\u001b[39;49m\u001b[43mcall_function\u001b[49m\u001b[43m(\u001b[49m\n\u001b[1;32m    197\u001b[0m \u001b[43m        \u001b[49m\u001b[38;5;28;43mself\u001b[39;49m\u001b[38;5;241;43m.\u001b[39;49m\u001b[43mname\u001b[49m\u001b[43m,\u001b[49m\n\u001b[1;32m    198\u001b[0m \u001b[43m        \u001b[49m\u001b[38;5;28;43mlist\u001b[39;49m\u001b[43m(\u001b[49m\u001b[43margs\u001b[49m\u001b[43m)\u001b[49m\u001b[43m,\u001b[49m\n\u001b[1;32m    199\u001b[0m \u001b[43m        \u001b[49m\u001b[38;5;28;43mlen\u001b[39;49m\u001b[43m(\u001b[49m\u001b[38;5;28;43mself\u001b[39;49m\u001b[38;5;241;43m.\u001b[39;49m\u001b[43mfunction_type\u001b[49m\u001b[38;5;241;43m.\u001b[39;49m\u001b[43mflat_outputs\u001b[49m\u001b[43m)\u001b[49m\u001b[43m,\u001b[49m\n\u001b[1;32m    200\u001b[0m \u001b[43m    \u001b[49m\u001b[43m)\u001b[49m\n\u001b[1;32m    201\u001b[0m   \u001b[38;5;28;01melse\u001b[39;00m:\n\u001b[1;32m    202\u001b[0m     outputs \u001b[38;5;241m=\u001b[39m make_call_op_in_graph(\u001b[38;5;28mself\u001b[39m, \u001b[38;5;28mlist\u001b[39m(args))\n",
      "File \u001b[0;32m~/anaconda3/envs/car_env/lib/python3.8/site-packages/tensorflow/python/eager/context.py:1457\u001b[0m, in \u001b[0;36mContext.call_function\u001b[0;34m(self, name, tensor_inputs, num_outputs)\u001b[0m\n\u001b[1;32m   1455\u001b[0m cancellation_context \u001b[38;5;241m=\u001b[39m cancellation\u001b[38;5;241m.\u001b[39mcontext()\n\u001b[1;32m   1456\u001b[0m \u001b[38;5;28;01mif\u001b[39;00m cancellation_context \u001b[38;5;129;01mis\u001b[39;00m \u001b[38;5;28;01mNone\u001b[39;00m:\n\u001b[0;32m-> 1457\u001b[0m   outputs \u001b[38;5;241m=\u001b[39m \u001b[43mexecute\u001b[49m\u001b[38;5;241;43m.\u001b[39;49m\u001b[43mexecute\u001b[49m\u001b[43m(\u001b[49m\n\u001b[1;32m   1458\u001b[0m \u001b[43m      \u001b[49m\u001b[43mname\u001b[49m\u001b[38;5;241;43m.\u001b[39;49m\u001b[43mdecode\u001b[49m\u001b[43m(\u001b[49m\u001b[38;5;124;43m\"\u001b[39;49m\u001b[38;5;124;43mutf-8\u001b[39;49m\u001b[38;5;124;43m\"\u001b[39;49m\u001b[43m)\u001b[49m\u001b[43m,\u001b[49m\n\u001b[1;32m   1459\u001b[0m \u001b[43m      \u001b[49m\u001b[43mnum_outputs\u001b[49m\u001b[38;5;241;43m=\u001b[39;49m\u001b[43mnum_outputs\u001b[49m\u001b[43m,\u001b[49m\n\u001b[1;32m   1460\u001b[0m \u001b[43m      \u001b[49m\u001b[43minputs\u001b[49m\u001b[38;5;241;43m=\u001b[39;49m\u001b[43mtensor_inputs\u001b[49m\u001b[43m,\u001b[49m\n\u001b[1;32m   1461\u001b[0m \u001b[43m      \u001b[49m\u001b[43mattrs\u001b[49m\u001b[38;5;241;43m=\u001b[39;49m\u001b[43mattrs\u001b[49m\u001b[43m,\u001b[49m\n\u001b[1;32m   1462\u001b[0m \u001b[43m      \u001b[49m\u001b[43mctx\u001b[49m\u001b[38;5;241;43m=\u001b[39;49m\u001b[38;5;28;43mself\u001b[39;49m\u001b[43m,\u001b[49m\n\u001b[1;32m   1463\u001b[0m \u001b[43m  \u001b[49m\u001b[43m)\u001b[49m\n\u001b[1;32m   1464\u001b[0m \u001b[38;5;28;01melse\u001b[39;00m:\n\u001b[1;32m   1465\u001b[0m   outputs \u001b[38;5;241m=\u001b[39m execute\u001b[38;5;241m.\u001b[39mexecute_with_cancellation(\n\u001b[1;32m   1466\u001b[0m       name\u001b[38;5;241m.\u001b[39mdecode(\u001b[38;5;124m\"\u001b[39m\u001b[38;5;124mutf-8\u001b[39m\u001b[38;5;124m\"\u001b[39m),\n\u001b[1;32m   1467\u001b[0m       num_outputs\u001b[38;5;241m=\u001b[39mnum_outputs,\n\u001b[0;32m   (...)\u001b[0m\n\u001b[1;32m   1471\u001b[0m       cancellation_manager\u001b[38;5;241m=\u001b[39mcancellation_context,\n\u001b[1;32m   1472\u001b[0m   )\n",
      "File \u001b[0;32m~/anaconda3/envs/car_env/lib/python3.8/site-packages/tensorflow/python/eager/execute.py:53\u001b[0m, in \u001b[0;36mquick_execute\u001b[0;34m(op_name, num_outputs, inputs, attrs, ctx, name)\u001b[0m\n\u001b[1;32m     51\u001b[0m \u001b[38;5;28;01mtry\u001b[39;00m:\n\u001b[1;32m     52\u001b[0m   ctx\u001b[38;5;241m.\u001b[39mensure_initialized()\n\u001b[0;32m---> 53\u001b[0m   tensors \u001b[38;5;241m=\u001b[39m \u001b[43mpywrap_tfe\u001b[49m\u001b[38;5;241;43m.\u001b[39;49m\u001b[43mTFE_Py_Execute\u001b[49m\u001b[43m(\u001b[49m\u001b[43mctx\u001b[49m\u001b[38;5;241;43m.\u001b[39;49m\u001b[43m_handle\u001b[49m\u001b[43m,\u001b[49m\u001b[43m \u001b[49m\u001b[43mdevice_name\u001b[49m\u001b[43m,\u001b[49m\u001b[43m \u001b[49m\u001b[43mop_name\u001b[49m\u001b[43m,\u001b[49m\n\u001b[1;32m     54\u001b[0m \u001b[43m                                      \u001b[49m\u001b[43minputs\u001b[49m\u001b[43m,\u001b[49m\u001b[43m \u001b[49m\u001b[43mattrs\u001b[49m\u001b[43m,\u001b[49m\u001b[43m \u001b[49m\u001b[43mnum_outputs\u001b[49m\u001b[43m)\u001b[49m\n\u001b[1;32m     55\u001b[0m \u001b[38;5;28;01mexcept\u001b[39;00m core\u001b[38;5;241m.\u001b[39m_NotOkStatusException \u001b[38;5;28;01mas\u001b[39;00m e:\n\u001b[1;32m     56\u001b[0m   \u001b[38;5;28;01mif\u001b[39;00m name \u001b[38;5;129;01mis\u001b[39;00m \u001b[38;5;129;01mnot\u001b[39;00m \u001b[38;5;28;01mNone\u001b[39;00m:\n",
      "\u001b[0;31mKeyboardInterrupt\u001b[0m: "
     ]
    }
   ],
   "source": [
    "# Define checkpoint directory and create it if it doesn't exist\n",
    "checkpoint_dir = '/home/apyba3/PICAR-autopilot/MobNetV3Small_Kaggle/checkpoints'\n",
    "os.makedirs(checkpoint_dir, exist_ok=True)\n",
    "\n",
    "# Define checkpoint filepath for the finetuned model\n",
    "checkpoint_filepath = os.path.join(checkpoint_dir, 'finetuned_50epochs_mobnetv3small_classif_checkpoint.keras')\n",
    "\n",
    "# Use the existing CustomModelCheckpoint class (no need to redefine it)\n",
    "# Just create a new instance with the updated filepath\n",
    "custom_checkpoint = CustomModelCheckpoint(\n",
    "    filepath=checkpoint_filepath,\n",
    "    monitor='val_loss',\n",
    "    save_best_only=True,\n",
    "    mode='min',\n",
    "    verbose=1\n",
    ")\n",
    "\n",
    "# Define epoch callback \n",
    "epoch_callback = LambdaCallback(\n",
    "    on_epoch_begin=lambda epoch, logs: print(f\"\\nStarting Epoch {epoch + 1}...\"),\n",
    "    on_epoch_end=lambda epoch, logs: print(f\"Completed Epoch {epoch + 1}, Loss: {logs['loss']:.4f}, Val Loss: {logs['val_loss']:.4f}\")\n",
    ")\n",
    "\n",
    "# Training with callbacks\n",
    "history = model.fit(\n",
    "    train_dataset,\n",
    "    validation_data=val_dataset,\n",
    "    epochs=20,\n",
    "    callbacks=[custom_checkpoint, epoch_callback]\n",
    ")"
   ]
  },
  {
   "cell_type": "markdown",
   "metadata": {},
   "source": [
    "save the model"
   ]
  },
  {
   "cell_type": "code",
   "execution_count": 48,
   "metadata": {},
   "outputs": [
    {
     "name": "stdout",
     "output_type": "stream",
     "text": [
      "Final model saved to /home/apyba3/PICAR-autopilot-1/autopilot/models/BenTyler_MLiSards/finetuned_50epochs_mobnetv3small_classification_model.keras\n"
     ]
    }
   ],
   "source": [
    "# Save the final model\n",
    "model_path = '/home/apyba3/PICAR-autopilot-1/autopilot/models/BenTyler_MLiSards/finetuned_50epochs_mobnetv3small_classification_model.keras'\n",
    "model.save(model_path)\n",
    "print(f\"Final model saved to {model_path}\")"
   ]
  },
  {
   "cell_type": "markdown",
   "metadata": {},
   "source": [
    "save the weights learned from fine tuning"
   ]
  },
  {
   "cell_type": "code",
   "execution_count": null,
   "metadata": {
    "id": "O14u6175RLjA"
   },
   "outputs": [
    {
     "ename": "",
     "evalue": "",
     "output_type": "error",
     "traceback": [
      "\u001b[1;31mThe Kernel crashed while executing code in the current cell or a previous cell. \n",
      "\u001b[1;31mPlease review the code in the cell(s) to identify a possible cause of the failure. \n",
      "\u001b[1;31mClick <a href='https://aka.ms/vscodeJupyterKernelCrash'>here</a> for more info. \n",
      "\u001b[1;31mView Jupyter <a href='command:jupyter.viewOutput'>log</a> for further details."
     ]
    }
   ],
   "source": [
    "model.save_weights('/home/apyba3/PICAR-autopilot/MobNetV3Small_Kaggle/weights/fintuning_training_mobnetv3small_classification_weights.weights.keras')"
   ]
  },
  {
   "cell_type": "markdown",
   "metadata": {
    "id": "GCbo4VcLxLgQ"
   },
   "source": [
    "# 3) CLASSIFICATION SPEED Test-Set Predictions\n",
    "\n",
    "a) load in test data\n",
    "\n",
    "b) convert test images to numerical RGB feature maps\n",
    "\n",
    "c) generate predictions on the test set\n",
    "\n",
    "d) correctly format the predictions into a pandas dataframe\n",
    "\n",
    "e) save predictions to a file inside the hpc (to then later send from hpc to my laptop)"
   ]
  },
  {
   "cell_type": "markdown",
   "metadata": {
    "id": "HnygDJsKxYhA"
   },
   "source": [
    "### 3a) load in test data"
   ]
  },
  {
   "cell_type": "code",
   "execution_count": null,
   "metadata": {
    "colab": {
     "base_uri": "https://localhost:8080/",
     "height": 238
    },
    "id": "W-e59lQQRXKK",
    "outputId": "aa8566ec-e472-47a6-c7a0-92266b567a62"
   },
   "outputs": [
    {
     "data": {
      "text/html": [
       "<div>\n",
       "<style scoped>\n",
       "    .dataframe tbody tr th:only-of-type {\n",
       "        vertical-align: middle;\n",
       "    }\n",
       "\n",
       "    .dataframe tbody tr th {\n",
       "        vertical-align: top;\n",
       "    }\n",
       "\n",
       "    .dataframe thead th {\n",
       "        text-align: right;\n",
       "    }\n",
       "</style>\n",
       "<table border=\"1\" class=\"dataframe\">\n",
       "  <thead>\n",
       "    <tr style=\"text-align: right;\">\n",
       "      <th></th>\n",
       "      <th>image_file_paths</th>\n",
       "    </tr>\n",
       "    <tr>\n",
       "      <th>image_id</th>\n",
       "      <th></th>\n",
       "    </tr>\n",
       "  </thead>\n",
       "  <tbody>\n",
       "    <tr>\n",
       "      <th>1</th>\n",
       "      <td>/home/apyba3/KAGGLEDATAmachine-learning-in-science-ii-2025/test_data/test_data/1.png</td>\n",
       "    </tr>\n",
       "    <tr>\n",
       "      <th>2</th>\n",
       "      <td>/home/apyba3/KAGGLEDATAmachine-learning-in-science-ii-2025/test_data/test_data/2.png</td>\n",
       "    </tr>\n",
       "    <tr>\n",
       "      <th>3</th>\n",
       "      <td>/home/apyba3/KAGGLEDATAmachine-learning-in-science-ii-2025/test_data/test_data/3.png</td>\n",
       "    </tr>\n",
       "    <tr>\n",
       "      <th>4</th>\n",
       "      <td>/home/apyba3/KAGGLEDATAmachine-learning-in-science-ii-2025/test_data/test_data/4.png</td>\n",
       "    </tr>\n",
       "    <tr>\n",
       "      <th>5</th>\n",
       "      <td>/home/apyba3/KAGGLEDATAmachine-learning-in-science-ii-2025/test_data/test_data/5.png</td>\n",
       "    </tr>\n",
       "  </tbody>\n",
       "</table>\n",
       "</div>"
      ],
      "text/plain": [
       "                                                                              image_file_paths\n",
       "image_id                                                                                      \n",
       "1         /home/apyba3/KAGGLEDATAmachine-learning-in-science-ii-2025/test_data/test_data/1.png\n",
       "2         /home/apyba3/KAGGLEDATAmachine-learning-in-science-ii-2025/test_data/test_data/2.png\n",
       "3         /home/apyba3/KAGGLEDATAmachine-learning-in-science-ii-2025/test_data/test_data/3.png\n",
       "4         /home/apyba3/KAGGLEDATAmachine-learning-in-science-ii-2025/test_data/test_data/4.png\n",
       "5         /home/apyba3/KAGGLEDATAmachine-learning-in-science-ii-2025/test_data/test_data/5.png"
      ]
     },
     "execution_count": 34,
     "metadata": {},
     "output_type": "execute_result"
    }
   ],
   "source": [
    "image_folder_path = '/home/apyba3/KAGGLEDATAmachine-learning-in-science-ii-2025/test_data/test_data'\n",
    "# image_folder_path = '/home/ppyt13/machine-learning-in-science-ii-2025/test_data/test_data' # tylers file path\n",
    "image_file_paths = [\n",
    "    os.path.join(image_folder_path, f)\n",
    "    for f in os.listdir(image_folder_path)\n",
    "    if f.lower().endswith(('.png', '.jpg', '.jpeg'))\n",
    "]\n",
    "\n",
    "image_file_paths.sort(key=lambda x: int(os.path.splitext(os.path.basename(x))[0])) # sorts the files in the right order (1.png, 2.png, 3.png, ...)\n",
    "\n",
    "imagefilepaths_df = pd.DataFrame(\n",
    "    image_file_paths,\n",
    "    columns=['image_file_paths'],\n",
    "    index=[int(os.path.splitext(os.path.basename(path))[0]) for path in image_file_paths]\n",
    ")\n",
    "\n",
    "imagefilepaths_df.index.name = 'image_id'\n",
    "imagefilepaths_df.head()"
   ]
  },
  {
   "cell_type": "markdown",
   "metadata": {
    "id": "t-9i5trTyDTf"
   },
   "source": [
    "### 3b) convert test images to numerical RGB feature maps"
   ]
  },
  {
   "cell_type": "code",
   "execution_count": null,
   "metadata": {
    "id": "3hT_c1s5TAR-"
   },
   "outputs": [],
   "source": [
    "def process_image_no_label(image_path, resized_shape=(224, 224)):\n",
    "    image = tf.io.read_file(image_path)\n",
    "    image = tf.image.decode_jpeg(image, channels=3)  # Use decode_png for PNG images\n",
    "    image = tf.image.resize(image, resized_shape)  # Resize to uniform shape\n",
    "    image = image / 255.0  # Normalize pixel values to [0,1]\n",
    "    return image\n",
    "\n",
    "test_dataset = tf.data.Dataset.from_tensor_slices((imagefilepaths_df[\"image_file_paths\"]))\n",
    "\n",
    "test_dataset = test_dataset.map(process_image_no_label, num_parallel_calls=tf.data.AUTOTUNE)\n",
    "test_dataset = test_dataset.batch(BATCH_SIZE)\n",
    "test_dataset = test_dataset.prefetch(tf.data.AUTOTUNE)"
   ]
  },
  {
   "cell_type": "markdown",
   "metadata": {
    "id": "gobnK7PhyLa2"
   },
   "source": [
    "### 3c) generate predictions on test set"
   ]
  },
  {
   "cell_type": "code",
   "execution_count": null,
   "metadata": {
    "colab": {
     "base_uri": "https://localhost:8080/"
    },
    "id": "NtqcOFr7TAXa",
    "outputId": "73b4c96b-51bf-4e1c-e1b6-e8cde1321984"
   },
   "outputs": [
    {
     "name": "stdout",
     "output_type": "stream",
     "text": [
      "\u001b[1m32/32\u001b[0m \u001b[32m━━━━━━━━━━━━━━━━━━━━\u001b[0m\u001b[37m\u001b[0m \u001b[1m5s\u001b[0m 111ms/step\n"
     ]
    }
   ],
   "source": [
    "predictions = model.predict(test_dataset)"
   ]
  },
  {
   "cell_type": "markdown",
   "metadata": {
    "id": "zT1LJxHTPeQT"
   },
   "source": [
    "### 3d) correctly format the predictions into a pandas dataframe"
   ]
  },
  {
   "cell_type": "code",
   "execution_count": null,
   "metadata": {
    "id": "pFVWGi04fza7"
   },
   "outputs": [],
   "source": [
    "predictions_df = pd.DataFrame(predictions, columns=['speed'])"
   ]
  },
  {
   "cell_type": "code",
   "execution_count": null,
   "metadata": {
    "colab": {
     "base_uri": "https://localhost:8080/",
     "height": 206
    },
    "id": "OnO0K1rReHOT",
    "outputId": "d9cebb2e-3d36-4c7a-b024-eabb646e3bbb"
   },
   "outputs": [
    {
     "data": {
      "text/html": [
       "<div>\n",
       "<style scoped>\n",
       "    .dataframe tbody tr th:only-of-type {\n",
       "        vertical-align: middle;\n",
       "    }\n",
       "\n",
       "    .dataframe tbody tr th {\n",
       "        vertical-align: top;\n",
       "    }\n",
       "\n",
       "    .dataframe thead th {\n",
       "        text-align: right;\n",
       "    }\n",
       "</style>\n",
       "<table border=\"1\" class=\"dataframe\">\n",
       "  <thead>\n",
       "    <tr style=\"text-align: right;\">\n",
       "      <th></th>\n",
       "      <th>speed</th>\n",
       "    </tr>\n",
       "  </thead>\n",
       "  <tbody>\n",
       "    <tr>\n",
       "      <th>0</th>\n",
       "      <td>1.370914e-25</td>\n",
       "    </tr>\n",
       "    <tr>\n",
       "      <th>1</th>\n",
       "      <td>1.000000e+00</td>\n",
       "    </tr>\n",
       "    <tr>\n",
       "      <th>2</th>\n",
       "      <td>9.999998e-01</td>\n",
       "    </tr>\n",
       "    <tr>\n",
       "      <th>3</th>\n",
       "      <td>1.000000e+00</td>\n",
       "    </tr>\n",
       "    <tr>\n",
       "      <th>4</th>\n",
       "      <td>9.998439e-01</td>\n",
       "    </tr>\n",
       "  </tbody>\n",
       "</table>\n",
       "</div>"
      ],
      "text/plain": [
       "          speed\n",
       "0  1.370914e-25\n",
       "1  1.000000e+00\n",
       "2  9.999998e-01\n",
       "3  1.000000e+00\n",
       "4  9.998439e-01"
      ]
     },
     "execution_count": 38,
     "metadata": {},
     "output_type": "execute_result"
    }
   ],
   "source": [
    "predictions_df.head()"
   ]
  },
  {
   "cell_type": "code",
   "execution_count": null,
   "metadata": {},
   "outputs": [],
   "source": [
    "predictions_df[predictions_df['speed'] > 0.5] = 1\n",
    "predictions_df[predictions_df['speed'] < 0.5] = 0\n",
    "\n",
    "predictions_df['speed'] = predictions_df['speed'].astype(int)"
   ]
  },
  {
   "cell_type": "code",
   "execution_count": null,
   "metadata": {},
   "outputs": [
    {
     "data": {
      "text/html": [
       "<div>\n",
       "<style scoped>\n",
       "    .dataframe tbody tr th:only-of-type {\n",
       "        vertical-align: middle;\n",
       "    }\n",
       "\n",
       "    .dataframe tbody tr th {\n",
       "        vertical-align: top;\n",
       "    }\n",
       "\n",
       "    .dataframe thead th {\n",
       "        text-align: right;\n",
       "    }\n",
       "</style>\n",
       "<table border=\"1\" class=\"dataframe\">\n",
       "  <thead>\n",
       "    <tr style=\"text-align: right;\">\n",
       "      <th></th>\n",
       "      <th>speed</th>\n",
       "    </tr>\n",
       "  </thead>\n",
       "  <tbody>\n",
       "    <tr>\n",
       "      <th>0</th>\n",
       "      <td>0</td>\n",
       "    </tr>\n",
       "    <tr>\n",
       "      <th>1</th>\n",
       "      <td>1</td>\n",
       "    </tr>\n",
       "    <tr>\n",
       "      <th>2</th>\n",
       "      <td>1</td>\n",
       "    </tr>\n",
       "    <tr>\n",
       "      <th>3</th>\n",
       "      <td>1</td>\n",
       "    </tr>\n",
       "    <tr>\n",
       "      <th>4</th>\n",
       "      <td>1</td>\n",
       "    </tr>\n",
       "  </tbody>\n",
       "</table>\n",
       "</div>"
      ],
      "text/plain": [
       "   speed\n",
       "0      0\n",
       "1      1\n",
       "2      1\n",
       "3      1\n",
       "4      1"
      ]
     },
     "execution_count": 40,
     "metadata": {},
     "output_type": "execute_result"
    }
   ],
   "source": [
    "predictions_df.head()"
   ]
  },
  {
   "cell_type": "code",
   "execution_count": null,
   "metadata": {
    "colab": {
     "base_uri": "https://localhost:8080/"
    },
    "id": "4CcRKL9KTAfs",
    "outputId": "277533cd-06aa-4709-d44e-9027cc7e9438"
   },
   "outputs": [
    {
     "data": {
      "text/plain": [
       "speed\n",
       "1    516\n",
       "0    504\n",
       "Name: count, dtype: int64"
      ]
     },
     "execution_count": 41,
     "metadata": {},
     "output_type": "execute_result"
    }
   ],
   "source": [
    "predictions_df['speed'].value_counts()"
   ]
  },
  {
   "cell_type": "markdown",
   "metadata": {
    "id": "oU-PhskZPaHD"
   },
   "source": [
    "### 3e) save predictions to a file inside the hpc (to then later send from hpc to my laptop)"
   ]
  },
  {
   "cell_type": "code",
   "execution_count": null,
   "metadata": {
    "id": "deXjPTO0TAiL"
   },
   "outputs": [],
   "source": [
    "predictions_df.to_csv('/home/apyba3/mobnetv3small_speedclassification_withvalidation_withpetrudata.csv')"
   ]
  },
  {
   "cell_type": "code",
   "execution_count": null,
   "metadata": {},
   "outputs": [],
   "source": []
  }
 ],
 "metadata": {
  "accelerator": "GPU",
  "colab": {
   "gpuType": "T4",
   "provenance": []
  },
  "kernelspec": {
   "display_name": "car_env",
   "language": "python",
   "name": "python3"
  },
  "language_info": {
   "codemirror_mode": {
    "name": "ipython",
    "version": 3
   },
   "file_extension": ".py",
   "mimetype": "text/x-python",
   "name": "python",
   "nbconvert_exporter": "python",
   "pygments_lexer": "ipython3",
   "version": "3.8.20"
  }
 },
 "nbformat": 4,
 "nbformat_minor": 4
}
