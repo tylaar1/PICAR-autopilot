{
 "cells": [
  {
   "cell_type": "markdown",
   "metadata": {
    "id": "-fhwRSFoj6C_"
   },
   "source": [
    "# SWITCH TO **`T4 GPU`** OR THE **`HPC`**"
   ]
  },
  {
   "cell_type": "markdown",
   "metadata": {
    "id": "g4V83PflfFkL"
   },
   "source": [
    "# Imports"
   ]
  },
  {
   "cell_type": "code",
   "execution_count": 30,
   "metadata": {
    "id": "kP6UczzNe1l2"
   },
   "outputs": [],
   "source": [
    "import os\n",
    "import pandas as pd\n",
    "import numpy as np\n",
    "import tensorflow as tf\n",
    "from keras.models import Sequential\n",
    "from keras.layers import Conv2D, MaxPooling2D, Flatten, Dense, Dropout\n",
    "from keras.preprocessing.image import load_img, img_to_array\n",
    "from sklearn.model_selection import train_test_split\n",
    "from sklearn.metrics import balanced_accuracy_score\n",
    "import matplotlib.pyplot as plt\n",
    "import re\n",
    "from keras.callbacks import ModelCheckpoint, LambdaCallback"
   ]
  },
  {
   "cell_type": "code",
   "execution_count": 31,
   "metadata": {
    "colab": {
     "base_uri": "https://localhost:8080/"
    },
    "id": "O24_U-m8q-xv",
    "outputId": "f2298893-2e7e-4b8f-cc38-0caeb1a6a670"
   },
   "outputs": [
    {
     "name": "stdout",
     "output_type": "stream",
     "text": [
      "Linux\n"
     ]
    }
   ],
   "source": [
    "import platform\n",
    "print(platform.system())"
   ]
  },
  {
   "cell_type": "code",
   "execution_count": 32,
   "metadata": {
    "id": "IF_vPVifaU9V"
   },
   "outputs": [],
   "source": [
    "# makes it so pd dfs aren't truncated\n",
    "\n",
    "pd.set_option('display.max_colwidth', None)\n",
    "pd.set_option('display.max_rows', None)\n",
    "pd.set_option('display.max_columns', None)"
   ]
  },
  {
   "cell_type": "code",
   "execution_count": 33,
   "metadata": {
    "id": "eocC68amnhEI"
   },
   "outputs": [],
   "source": [
    "# from google.colab import drive\n",
    "# drive.mount('/content/drive')"
   ]
  },
  {
   "cell_type": "markdown",
   "metadata": {
    "id": "-_MvRvYnfIM5"
   },
   "source": [
    "# 1) DATA PRE-PROCESSING\n",
    "\n",
    "a) Load in kaggle data labels + image file paths\n",
    "\n",
    "b) combine kaggle data labels and image file paths into one dataframe\n",
    "\n",
    "c) load in the extra 486 image file paths\n",
    "\n",
    "d) extract the speed and angle labels from the file path names\n",
    "\n",
    "e) store that extra data in a pandas df and do the value normalisation\n",
    "\n",
    "f) merge the kaggle and extra data dfs\n",
    "\n",
    "g) EDA\n",
    "\n",
    "h) convert the images to numerical RGB feature maps\n",
    "\n",
    "i) split data into training-validation sets\n",
    "\n",
    "j) data augmentation applied to training set"
   ]
  },
  {
   "cell_type": "markdown",
   "metadata": {
    "id": "HU3TvBZ5hfhX"
   },
   "source": [
    "### 1a) load in kaggle data labels + image file paths"
   ]
  },
  {
   "cell_type": "code",
   "execution_count": 34,
   "metadata": {
    "id": "ZiNf_BxOfEH-"
   },
   "outputs": [],
   "source": [
    "# labels_file_path = '/content/drive/MyDrive/machine-learning-in-science-ii-2025/training_norm.csv' # tylers file path\n",
    "labels_file_path = '/home/apyba3/KAGGLEDATAmachine-learning-in-science-ii-2025/training_norm.csv' # ben hpc file path (mlis2 cluster)\n",
    "# labels_file_path = '/home/ppytr13/machine-learning-in-science-ii-2025/training_norm.csv' # tyler hpc file path (mlis2 cluster)\n",
    "labels_df = pd.read_csv(labels_file_path, index_col='image_id')"
   ]
  },
  {
   "cell_type": "code",
   "execution_count": 35,
   "metadata": {
    "id": "nOXmN--gb-Q9"
   },
   "outputs": [],
   "source": [
    "image_folder_path = '/home/apyba3/KAGGLEDATAmachine-learning-in-science-ii-2025/training_data/training_data' # OG data ben hpc file path (mlis2 cluster)\n",
    "# image_folder_path = '/home/ppytr13/machine-learning-in-science-ii-2025//training_data/training_data'\n",
    "# image_folder_path = '/content/drive/MyDrive/machine-learning-in-science-ii-2025/training_data/training_data' # tylers file path\n",
    "image_file_paths = [\n",
    "    os.path.join(image_folder_path, f)\n",
    "    for f in os.listdir(image_folder_path)\n",
    "    if f.lower().endswith(('.png', '.jpg', '.jpeg'))\n",
    "]\n",
    "\n",
    "image_file_paths.sort(key=lambda x: int(os.path.splitext(os.path.basename(x))[0])) # sorts the files in the right order (1.png, 2.png, 3.png, ...)\n",
    "\n",
    "imagefilepaths_df = pd.DataFrame(\n",
    "    image_file_paths,\n",
    "    columns=['image_file_paths'],\n",
    "    index=[int(os.path.splitext(os.path.basename(path))[0]) for path in image_file_paths]\n",
    ")\n",
    "\n",
    "imagefilepaths_df.index.name = 'image_id'"
   ]
  },
  {
   "cell_type": "markdown",
   "metadata": {
    "id": "0oeuvmeZaGSC"
   },
   "source": [
    "Checking labels dataframe"
   ]
  },
  {
   "cell_type": "code",
   "execution_count": 36,
   "metadata": {
    "colab": {
     "base_uri": "https://localhost:8080/"
    },
    "id": "2pi13TZ2aFhO",
    "outputId": "fc675bb2-271b-48fd-a6c3-43834afb4500"
   },
   "outputs": [
    {
     "data": {
      "text/html": [
       "<div>\n",
       "<style scoped>\n",
       "    .dataframe tbody tr th:only-of-type {\n",
       "        vertical-align: middle;\n",
       "    }\n",
       "\n",
       "    .dataframe tbody tr th {\n",
       "        vertical-align: top;\n",
       "    }\n",
       "\n",
       "    .dataframe thead th {\n",
       "        text-align: right;\n",
       "    }\n",
       "</style>\n",
       "<table border=\"1\" class=\"dataframe\">\n",
       "  <thead>\n",
       "    <tr style=\"text-align: right;\">\n",
       "      <th></th>\n",
       "      <th>angle</th>\n",
       "      <th>speed</th>\n",
       "    </tr>\n",
       "    <tr>\n",
       "      <th>image_id</th>\n",
       "      <th></th>\n",
       "      <th></th>\n",
       "    </tr>\n",
       "  </thead>\n",
       "  <tbody>\n",
       "    <tr>\n",
       "      <th>1</th>\n",
       "      <td>0.4375</td>\n",
       "      <td>0.0</td>\n",
       "    </tr>\n",
       "    <tr>\n",
       "      <th>2</th>\n",
       "      <td>0.8125</td>\n",
       "      <td>1.0</td>\n",
       "    </tr>\n",
       "    <tr>\n",
       "      <th>3</th>\n",
       "      <td>0.4375</td>\n",
       "      <td>1.0</td>\n",
       "    </tr>\n",
       "    <tr>\n",
       "      <th>4</th>\n",
       "      <td>0.6250</td>\n",
       "      <td>1.0</td>\n",
       "    </tr>\n",
       "    <tr>\n",
       "      <th>5</th>\n",
       "      <td>0.5000</td>\n",
       "      <td>0.0</td>\n",
       "    </tr>\n",
       "  </tbody>\n",
       "</table>\n",
       "</div>"
      ],
      "text/plain": [
       "           angle  speed\n",
       "image_id               \n",
       "1         0.4375    0.0\n",
       "2         0.8125    1.0\n",
       "3         0.4375    1.0\n",
       "4         0.6250    1.0\n",
       "5         0.5000    0.0"
      ]
     },
     "execution_count": 36,
     "metadata": {},
     "output_type": "execute_result"
    }
   ],
   "source": [
    "labels_df.head()"
   ]
  },
  {
   "cell_type": "markdown",
   "metadata": {
    "id": "puEjGoOJaRS4"
   },
   "source": [
    "Checking image file paths dataframe - as you can see the file paths are ordered correctly (1.png, 2.png, 3.png, ...)"
   ]
  },
  {
   "cell_type": "code",
   "execution_count": 37,
   "metadata": {
    "colab": {
     "base_uri": "https://localhost:8080/"
    },
    "id": "a1suFSK7aWKH",
    "outputId": "c3cc2d29-d759-48ff-b92c-77dbd178f295"
   },
   "outputs": [
    {
     "data": {
      "text/html": [
       "<div>\n",
       "<style scoped>\n",
       "    .dataframe tbody tr th:only-of-type {\n",
       "        vertical-align: middle;\n",
       "    }\n",
       "\n",
       "    .dataframe tbody tr th {\n",
       "        vertical-align: top;\n",
       "    }\n",
       "\n",
       "    .dataframe thead th {\n",
       "        text-align: right;\n",
       "    }\n",
       "</style>\n",
       "<table border=\"1\" class=\"dataframe\">\n",
       "  <thead>\n",
       "    <tr style=\"text-align: right;\">\n",
       "      <th></th>\n",
       "      <th>image_file_paths</th>\n",
       "    </tr>\n",
       "    <tr>\n",
       "      <th>image_id</th>\n",
       "      <th></th>\n",
       "    </tr>\n",
       "  </thead>\n",
       "  <tbody>\n",
       "    <tr>\n",
       "      <th>1</th>\n",
       "      <td>/home/apyba3/KAGGLEDATAmachine-learning-in-science-ii-2025/training_data/training_data/1.png</td>\n",
       "    </tr>\n",
       "    <tr>\n",
       "      <th>2</th>\n",
       "      <td>/home/apyba3/KAGGLEDATAmachine-learning-in-science-ii-2025/training_data/training_data/2.png</td>\n",
       "    </tr>\n",
       "    <tr>\n",
       "      <th>3</th>\n",
       "      <td>/home/apyba3/KAGGLEDATAmachine-learning-in-science-ii-2025/training_data/training_data/3.png</td>\n",
       "    </tr>\n",
       "    <tr>\n",
       "      <th>4</th>\n",
       "      <td>/home/apyba3/KAGGLEDATAmachine-learning-in-science-ii-2025/training_data/training_data/4.png</td>\n",
       "    </tr>\n",
       "    <tr>\n",
       "      <th>5</th>\n",
       "      <td>/home/apyba3/KAGGLEDATAmachine-learning-in-science-ii-2025/training_data/training_data/5.png</td>\n",
       "    </tr>\n",
       "  </tbody>\n",
       "</table>\n",
       "</div>"
      ],
      "text/plain": [
       "                                                                                      image_file_paths\n",
       "image_id                                                                                              \n",
       "1         /home/apyba3/KAGGLEDATAmachine-learning-in-science-ii-2025/training_data/training_data/1.png\n",
       "2         /home/apyba3/KAGGLEDATAmachine-learning-in-science-ii-2025/training_data/training_data/2.png\n",
       "3         /home/apyba3/KAGGLEDATAmachine-learning-in-science-ii-2025/training_data/training_data/3.png\n",
       "4         /home/apyba3/KAGGLEDATAmachine-learning-in-science-ii-2025/training_data/training_data/4.png\n",
       "5         /home/apyba3/KAGGLEDATAmachine-learning-in-science-ii-2025/training_data/training_data/5.png"
      ]
     },
     "execution_count": 37,
     "metadata": {},
     "output_type": "execute_result"
    }
   ],
   "source": [
    "imagefilepaths_df.head()"
   ]
  },
  {
   "cell_type": "markdown",
   "metadata": {
    "id": "CjDdyYd6cMBE"
   },
   "source": [
    "### 1b) Combine the kaggle labels and image file paths into one dataframe"
   ]
  },
  {
   "cell_type": "code",
   "execution_count": 38,
   "metadata": {
    "id": "6NdbonzPcLKB"
   },
   "outputs": [],
   "source": [
    "kaggle_df = pd.merge(labels_df, imagefilepaths_df, on='image_id', how='inner')\n",
    "kaggle_df['speed'] = kaggle_df['speed'].round(6) # to get rid of floating point errors"
   ]
  },
  {
   "cell_type": "code",
   "execution_count": 39,
   "metadata": {
    "colab": {
     "base_uri": "https://localhost:8080/"
    },
    "id": "-VstirIAdAZi",
    "outputId": "c03ff707-9e8d-4c3a-8965-f795919ace21"
   },
   "outputs": [
    {
     "data": {
      "text/html": [
       "<div>\n",
       "<style scoped>\n",
       "    .dataframe tbody tr th:only-of-type {\n",
       "        vertical-align: middle;\n",
       "    }\n",
       "\n",
       "    .dataframe tbody tr th {\n",
       "        vertical-align: top;\n",
       "    }\n",
       "\n",
       "    .dataframe thead th {\n",
       "        text-align: right;\n",
       "    }\n",
       "</style>\n",
       "<table border=\"1\" class=\"dataframe\">\n",
       "  <thead>\n",
       "    <tr style=\"text-align: right;\">\n",
       "      <th></th>\n",
       "      <th>angle</th>\n",
       "      <th>speed</th>\n",
       "      <th>image_file_paths</th>\n",
       "    </tr>\n",
       "    <tr>\n",
       "      <th>image_id</th>\n",
       "      <th></th>\n",
       "      <th></th>\n",
       "      <th></th>\n",
       "    </tr>\n",
       "  </thead>\n",
       "  <tbody>\n",
       "    <tr>\n",
       "      <th>13794</th>\n",
       "      <td>0.6250</td>\n",
       "      <td>1.0</td>\n",
       "      <td>/home/apyba3/KAGGLEDATAmachine-learning-in-science-ii-2025/training_data/training_data/13794.png</td>\n",
       "    </tr>\n",
       "    <tr>\n",
       "      <th>13795</th>\n",
       "      <td>0.4375</td>\n",
       "      <td>1.0</td>\n",
       "      <td>/home/apyba3/KAGGLEDATAmachine-learning-in-science-ii-2025/training_data/training_data/13795.png</td>\n",
       "    </tr>\n",
       "    <tr>\n",
       "      <th>13796</th>\n",
       "      <td>0.5625</td>\n",
       "      <td>0.0</td>\n",
       "      <td>/home/apyba3/KAGGLEDATAmachine-learning-in-science-ii-2025/training_data/training_data/13796.png</td>\n",
       "    </tr>\n",
       "    <tr>\n",
       "      <th>13797</th>\n",
       "      <td>0.6250</td>\n",
       "      <td>0.0</td>\n",
       "      <td>/home/apyba3/KAGGLEDATAmachine-learning-in-science-ii-2025/training_data/training_data/13797.png</td>\n",
       "    </tr>\n",
       "    <tr>\n",
       "      <th>13798</th>\n",
       "      <td>0.6875</td>\n",
       "      <td>1.0</td>\n",
       "      <td>/home/apyba3/KAGGLEDATAmachine-learning-in-science-ii-2025/training_data/training_data/13798.png</td>\n",
       "    </tr>\n",
       "  </tbody>\n",
       "</table>\n",
       "</div>"
      ],
      "text/plain": [
       "           angle  speed  \\\n",
       "image_id                  \n",
       "13794     0.6250    1.0   \n",
       "13795     0.4375    1.0   \n",
       "13796     0.5625    0.0   \n",
       "13797     0.6250    0.0   \n",
       "13798     0.6875    1.0   \n",
       "\n",
       "                                                                                          image_file_paths  \n",
       "image_id                                                                                                    \n",
       "13794     /home/apyba3/KAGGLEDATAmachine-learning-in-science-ii-2025/training_data/training_data/13794.png  \n",
       "13795     /home/apyba3/KAGGLEDATAmachine-learning-in-science-ii-2025/training_data/training_data/13795.png  \n",
       "13796     /home/apyba3/KAGGLEDATAmachine-learning-in-science-ii-2025/training_data/training_data/13796.png  \n",
       "13797     /home/apyba3/KAGGLEDATAmachine-learning-in-science-ii-2025/training_data/training_data/13797.png  \n",
       "13798     /home/apyba3/KAGGLEDATAmachine-learning-in-science-ii-2025/training_data/training_data/13798.png  "
      ]
     },
     "execution_count": 39,
     "metadata": {},
     "output_type": "execute_result"
    }
   ],
   "source": [
    "kaggle_df.tail()"
   ]
  },
  {
   "cell_type": "code",
   "execution_count": 40,
   "metadata": {
    "colab": {
     "base_uri": "https://localhost:8080/"
    },
    "id": "8MgNoL8nfBm2",
    "outputId": "924e7562-25a4-4223-8305-c3fd02452846"
   },
   "outputs": [
    {
     "data": {
      "text/html": [
       "<div>\n",
       "<style scoped>\n",
       "    .dataframe tbody tr th:only-of-type {\n",
       "        vertical-align: middle;\n",
       "    }\n",
       "\n",
       "    .dataframe tbody tr th {\n",
       "        vertical-align: top;\n",
       "    }\n",
       "\n",
       "    .dataframe thead th {\n",
       "        text-align: right;\n",
       "    }\n",
       "</style>\n",
       "<table border=\"1\" class=\"dataframe\">\n",
       "  <thead>\n",
       "    <tr style=\"text-align: right;\">\n",
       "      <th></th>\n",
       "      <th>angle</th>\n",
       "      <th>speed</th>\n",
       "      <th>image_file_paths</th>\n",
       "    </tr>\n",
       "    <tr>\n",
       "      <th>image_id</th>\n",
       "      <th></th>\n",
       "      <th></th>\n",
       "      <th></th>\n",
       "    </tr>\n",
       "  </thead>\n",
       "  <tbody>\n",
       "    <tr>\n",
       "      <th>3139</th>\n",
       "      <td>0.750</td>\n",
       "      <td>1.0</td>\n",
       "      <td>/home/apyba3/KAGGLEDATAmachine-learning-in-science-ii-2025/training_data/training_data/3139.png</td>\n",
       "    </tr>\n",
       "    <tr>\n",
       "      <th>3140</th>\n",
       "      <td>0.875</td>\n",
       "      <td>1.0</td>\n",
       "      <td>/home/apyba3/KAGGLEDATAmachine-learning-in-science-ii-2025/training_data/training_data/3140.png</td>\n",
       "    </tr>\n",
       "    <tr>\n",
       "      <th>3142</th>\n",
       "      <td>0.625</td>\n",
       "      <td>0.0</td>\n",
       "      <td>/home/apyba3/KAGGLEDATAmachine-learning-in-science-ii-2025/training_data/training_data/3142.png</td>\n",
       "    </tr>\n",
       "    <tr>\n",
       "      <th>3143</th>\n",
       "      <td>0.625</td>\n",
       "      <td>1.0</td>\n",
       "      <td>/home/apyba3/KAGGLEDATAmachine-learning-in-science-ii-2025/training_data/training_data/3143.png</td>\n",
       "    </tr>\n",
       "  </tbody>\n",
       "</table>\n",
       "</div>"
      ],
      "text/plain": [
       "          angle  speed  \\\n",
       "image_id                 \n",
       "3139      0.750    1.0   \n",
       "3140      0.875    1.0   \n",
       "3142      0.625    0.0   \n",
       "3143      0.625    1.0   \n",
       "\n",
       "                                                                                         image_file_paths  \n",
       "image_id                                                                                                   \n",
       "3139      /home/apyba3/KAGGLEDATAmachine-learning-in-science-ii-2025/training_data/training_data/3139.png  \n",
       "3140      /home/apyba3/KAGGLEDATAmachine-learning-in-science-ii-2025/training_data/training_data/3140.png  \n",
       "3142      /home/apyba3/KAGGLEDATAmachine-learning-in-science-ii-2025/training_data/training_data/3142.png  \n",
       "3143      /home/apyba3/KAGGLEDATAmachine-learning-in-science-ii-2025/training_data/training_data/3143.png  "
      ]
     },
     "execution_count": 40,
     "metadata": {},
     "output_type": "execute_result"
    }
   ],
   "source": [
    "kaggle_df.loc[3139:3143]"
   ]
  },
  {
   "cell_type": "markdown",
   "metadata": {
    "id": "U7PCxqJbmXE6"
   },
   "source": [
    "The above cell shows that:\n",
    "\n",
    " 1) the image files and labels match (see image_id and the number at the end of the file path)\n",
    "\n",
    " 2) the missing rows in labels_df (image_id: 3141, 3999, 4895, 8285, 10171) have been taken care of"
   ]
  },
  {
   "cell_type": "markdown",
   "metadata": {
    "id": "zOEWqBUYX6DL"
   },
   "source": [
    "### 1c) load in the extra 486 labels image file paths"
   ]
  },
  {
   "cell_type": "code",
   "execution_count": 41,
   "metadata": {
    "id": "wvsDiCCLOvvs"
   },
   "outputs": [],
   "source": [
    "extradata_folder_path = '/home/apyba3/petru_data'\n",
    "\n",
    "extradata_file_paths = [\n",
    "    os.path.join(extradata_folder_path, f)\n",
    "    for f in os.listdir(extradata_folder_path)\n",
    "    if f.lower().endswith(('.png', '.jpg', '.jpeg'))\n",
    "]"
   ]
  },
  {
   "cell_type": "markdown",
   "metadata": {
    "id": "I4ofcGILO4et"
   },
   "source": [
    "### 1d) extract the speed and angle labels from the file path names"
   ]
  },
  {
   "cell_type": "markdown",
   "metadata": {
    "id": "fFsEI4MBRf2l"
   },
   "source": [
    "image file path name follows the pattern: `randomnumber_angle_speed`"
   ]
  },
  {
   "cell_type": "code",
   "execution_count": 42,
   "metadata": {
    "id": "mY5-HDp-PJY9"
   },
   "outputs": [],
   "source": [
    "# Regex pattern to extract angle and speed values\n",
    "pattern = r'(\\d+)_([\\d]+)_([\\d]+)\\.png'\n",
    "\n",
    "angle_value = []\n",
    "speed_value = []\n",
    "\n",
    "# Loop through file paths and extract angle and speed values\n",
    "for file_path in extradata_file_paths:\n",
    "    match = re.search(pattern, file_path)\n",
    "    if match:\n",
    "        # Extract random number, angle, and speed values\n",
    "        random_number = match.group(1)\n",
    "        angle_value.append(int(match.group(2)))\n",
    "        speed_value.append(int(match.group(3)))"
   ]
  },
  {
   "cell_type": "markdown",
   "metadata": {
    "id": "4F8qIQJ8Y3t8"
   },
   "source": [
    "checking it has stored the labels correctly (check if the angle_value order matches that of the file path)"
   ]
  },
  {
   "cell_type": "code",
   "execution_count": 43,
   "metadata": {
    "colab": {
     "base_uri": "https://localhost:8080/"
    },
    "id": "Mf1bChw_OvsT",
    "outputId": "bdf648d9-3ab3-403e-c977-0c938ae1bf18"
   },
   "outputs": [
    {
     "name": "stdout",
     "output_type": "stream",
     "text": [
      "[95, 100, 80]\n",
      "['/home/apyba3/petru_data/1712918428740_95_0.png', '/home/apyba3/petru_data/1712923220525_100_50.png', '/home/apyba3/petru_data/1712923068961_80_35.png']\n"
     ]
    }
   ],
   "source": [
    "print(angle_value[:3])\n",
    "print(extradata_file_paths[:3])"
   ]
  },
  {
   "cell_type": "markdown",
   "metadata": {
    "id": "XyvljUTBZP0E"
   },
   "source": [
    "### 1e) store that extra data in a pandas df and do the value normalisation"
   ]
  },
  {
   "cell_type": "code",
   "execution_count": 44,
   "metadata": {
    "colab": {
     "base_uri": "https://localhost:8080/"
    },
    "id": "Tse95lu1OvnY",
    "outputId": "90ed60a7-5f9c-4901-f7ed-7442d739ccfb"
   },
   "outputs": [
    {
     "data": {
      "text/html": [
       "<div>\n",
       "<style scoped>\n",
       "    .dataframe tbody tr th:only-of-type {\n",
       "        vertical-align: middle;\n",
       "    }\n",
       "\n",
       "    .dataframe tbody tr th {\n",
       "        vertical-align: top;\n",
       "    }\n",
       "\n",
       "    .dataframe thead th {\n",
       "        text-align: right;\n",
       "    }\n",
       "</style>\n",
       "<table border=\"1\" class=\"dataframe\">\n",
       "  <thead>\n",
       "    <tr style=\"text-align: right;\">\n",
       "      <th></th>\n",
       "      <th>angle</th>\n",
       "      <th>speed</th>\n",
       "      <th>image_file_paths</th>\n",
       "    </tr>\n",
       "    <tr>\n",
       "      <th>image_id</th>\n",
       "      <th></th>\n",
       "      <th></th>\n",
       "      <th></th>\n",
       "    </tr>\n",
       "  </thead>\n",
       "  <tbody>\n",
       "    <tr>\n",
       "      <th>13799</th>\n",
       "      <td>0.5625</td>\n",
       "      <td>0</td>\n",
       "      <td>/home/apyba3/petru_data/1712918428740_95_0.png</td>\n",
       "    </tr>\n",
       "    <tr>\n",
       "      <th>13800</th>\n",
       "      <td>0.6250</td>\n",
       "      <td>1</td>\n",
       "      <td>/home/apyba3/petru_data/1712923220525_100_50.png</td>\n",
       "    </tr>\n",
       "    <tr>\n",
       "      <th>13801</th>\n",
       "      <td>0.3750</td>\n",
       "      <td>1</td>\n",
       "      <td>/home/apyba3/petru_data/1712923068961_80_35.png</td>\n",
       "    </tr>\n",
       "    <tr>\n",
       "      <th>13802</th>\n",
       "      <td>0.6875</td>\n",
       "      <td>0</td>\n",
       "      <td>/home/apyba3/petru_data/1712921566265_105_0.png</td>\n",
       "    </tr>\n",
       "    <tr>\n",
       "      <th>13803</th>\n",
       "      <td>0.2500</td>\n",
       "      <td>1</td>\n",
       "      <td>/home/apyba3/petru_data/1712915924250_70_35.png</td>\n",
       "    </tr>\n",
       "  </tbody>\n",
       "</table>\n",
       "</div>"
      ],
      "text/plain": [
       "           angle  speed                                  image_file_paths\n",
       "image_id                                                                 \n",
       "13799     0.5625      0    /home/apyba3/petru_data/1712918428740_95_0.png\n",
       "13800     0.6250      1  /home/apyba3/petru_data/1712923220525_100_50.png\n",
       "13801     0.3750      1   /home/apyba3/petru_data/1712923068961_80_35.png\n",
       "13802     0.6875      0   /home/apyba3/petru_data/1712921566265_105_0.png\n",
       "13803     0.2500      1   /home/apyba3/petru_data/1712915924250_70_35.png"
      ]
     },
     "execution_count": 44,
     "metadata": {},
     "output_type": "execute_result"
    }
   ],
   "source": [
    "extradata_df = pd.DataFrame({\n",
    "    'angle': angle_value,\n",
    "    'speed': speed_value,\n",
    "    'image_file_paths': extradata_file_paths\n",
    "})\n",
    "\n",
    "# conversions (see kaggle data section)\n",
    "extradata_df.loc[extradata_df['speed'] > 0, 'speed'] = 1\n",
    "extradata_df['speed'] = pd.to_numeric(extradata_df['speed'], errors='coerce').fillna(0).astype(int)\n",
    "\n",
    "extradata_df['angle'] = (extradata_df['angle'] - 50)/80\n",
    "\n",
    "extradata_df.index = pd.RangeIndex(start=13799, stop=13799 + len(extradata_df), step=1)\n",
    "extradata_df.index.name = 'image_id'\n",
    "\n",
    "extradata_df.head()"
   ]
  },
  {
   "cell_type": "markdown",
   "metadata": {
    "id": "qv0MwDKsbOef"
   },
   "source": [
    "### 1f) merge the kaggle and extra data dfs"
   ]
  },
  {
   "cell_type": "code",
   "execution_count": 45,
   "metadata": {
    "colab": {
     "base_uri": "https://localhost:8080/"
    },
    "id": "8ZMZPUn4b3Kc",
    "outputId": "86bd34db-0b48-442e-b5b2-5ff322d0764b"
   },
   "outputs": [
    {
     "data": {
      "text/html": [
       "<div>\n",
       "<style scoped>\n",
       "    .dataframe tbody tr th:only-of-type {\n",
       "        vertical-align: middle;\n",
       "    }\n",
       "\n",
       "    .dataframe tbody tr th {\n",
       "        vertical-align: top;\n",
       "    }\n",
       "\n",
       "    .dataframe thead th {\n",
       "        text-align: right;\n",
       "    }\n",
       "</style>\n",
       "<table border=\"1\" class=\"dataframe\">\n",
       "  <thead>\n",
       "    <tr style=\"text-align: right;\">\n",
       "      <th></th>\n",
       "      <th>angle</th>\n",
       "      <th>speed</th>\n",
       "      <th>image_file_paths</th>\n",
       "    </tr>\n",
       "    <tr>\n",
       "      <th>image_id</th>\n",
       "      <th></th>\n",
       "      <th></th>\n",
       "      <th></th>\n",
       "    </tr>\n",
       "  </thead>\n",
       "  <tbody>\n",
       "    <tr>\n",
       "      <th>13797</th>\n",
       "      <td>0.6250</td>\n",
       "      <td>0.0</td>\n",
       "      <td>/home/apyba3/KAGGLEDATAmachine-learning-in-science-ii-2025/training_data/training_data/13797.png</td>\n",
       "    </tr>\n",
       "    <tr>\n",
       "      <th>13798</th>\n",
       "      <td>0.6875</td>\n",
       "      <td>1.0</td>\n",
       "      <td>/home/apyba3/KAGGLEDATAmachine-learning-in-science-ii-2025/training_data/training_data/13798.png</td>\n",
       "    </tr>\n",
       "    <tr>\n",
       "      <th>13799</th>\n",
       "      <td>0.5625</td>\n",
       "      <td>0.0</td>\n",
       "      <td>/home/apyba3/petru_data/1712918428740_95_0.png</td>\n",
       "    </tr>\n",
       "    <tr>\n",
       "      <th>13800</th>\n",
       "      <td>0.6250</td>\n",
       "      <td>1.0</td>\n",
       "      <td>/home/apyba3/petru_data/1712923220525_100_50.png</td>\n",
       "    </tr>\n",
       "  </tbody>\n",
       "</table>\n",
       "</div>"
      ],
      "text/plain": [
       "           angle  speed  \\\n",
       "image_id                  \n",
       "13797     0.6250    0.0   \n",
       "13798     0.6875    1.0   \n",
       "13799     0.5625    0.0   \n",
       "13800     0.6250    1.0   \n",
       "\n",
       "                                                                                          image_file_paths  \n",
       "image_id                                                                                                    \n",
       "13797     /home/apyba3/KAGGLEDATAmachine-learning-in-science-ii-2025/training_data/training_data/13797.png  \n",
       "13798     /home/apyba3/KAGGLEDATAmachine-learning-in-science-ii-2025/training_data/training_data/13798.png  \n",
       "13799                                                       /home/apyba3/petru_data/1712918428740_95_0.png  \n",
       "13800                                                     /home/apyba3/petru_data/1712923220525_100_50.png  "
      ]
     },
     "execution_count": 45,
     "metadata": {},
     "output_type": "execute_result"
    }
   ],
   "source": [
    "merged_df = pd.concat([kaggle_df, extradata_df])\n",
    "merged_df.loc[13797:13800]"
   ]
  },
  {
   "cell_type": "markdown",
   "metadata": {
    "id": "h3OKLcn9u0Pz"
   },
   "source": [
    "### 1g) EDA - angle column"
   ]
  },
  {
   "cell_type": "code",
   "execution_count": 46,
   "metadata": {
    "colab": {
     "base_uri": "https://localhost:8080/"
    },
    "id": "IWQCQrR-oCps",
    "outputId": "88bb4558-2c8a-482b-de5d-8f7876ed9bc2"
   },
   "outputs": [
    {
     "data": {
      "text/plain": [
       "angle\n",
       "0.5000    2172\n",
       "0.7500    2172\n",
       "0.6875    2049\n",
       "0.6250    2000\n",
       "0.5625    1644\n",
       "0.4375    1520\n",
       "0.8125    1162\n",
       "0.3750     447\n",
       "0.8750     308\n",
       "0.3125     229\n",
       "0.1875     119\n",
       "0.2500     118\n",
       "0.1250     114\n",
       "0.0000      75\n",
       "0.9375      74\n",
       "0.0625      38\n",
       "1.0000      38\n",
       "Name: count, dtype: int64"
      ]
     },
     "execution_count": 46,
     "metadata": {},
     "output_type": "execute_result"
    }
   ],
   "source": [
    "merged_df.value_counts('angle')"
   ]
  },
  {
   "cell_type": "markdown",
   "metadata": {
    "id": "K4pZ65pYvdqb"
   },
   "source": [
    "note: imbalance datset"
   ]
  },
  {
   "cell_type": "markdown",
   "metadata": {
    "id": "zMZq41-RkLz0"
   },
   "source": [
    "we want to remove the row containing the erroneous 1.428571 speed value"
   ]
  },
  {
   "cell_type": "code",
   "execution_count": 47,
   "metadata": {
    "id": "TDMqIiOLSKGX"
   },
   "outputs": [],
   "source": [
    "cleaned_df = merged_df[merged_df['angle'] != 1.428571]"
   ]
  },
  {
   "cell_type": "markdown",
   "metadata": {
    "id": "Di6F6km_DBmj"
   },
   "source": [
    "### 1h) convert images to numerical RGB feature maps"
   ]
  },
  {
   "cell_type": "code",
   "execution_count": 48,
   "metadata": {},
   "outputs": [],
   "source": [
    "BATCH_SIZE = 32"
   ]
  },
  {
   "cell_type": "code",
   "execution_count": 49,
   "metadata": {
    "id": "oeeBTruNCQ96"
   },
   "outputs": [],
   "source": [
    "def process_image(image_path, label, resized_shape=(224, 224)):\n",
    "    image = tf.io.read_file(image_path)\n",
    "    image = tf.image.decode_jpeg(image, channels=3)\n",
    "    image = tf.image.resize(image, resized_shape)\n",
    "    image = image / 255.0  # Normalise pixel values to [0,1]\n",
    "    return image, label\n",
    "\n",
    "dataset = tf.data.Dataset.from_tensor_slices((cleaned_df[\"image_file_paths\"], cleaned_df[\"angle\"])) # Convert pd df into a tf ds\n",
    "\n",
    "dataset = dataset.map(process_image, num_parallel_calls=tf.data.AUTOTUNE)\n",
    "\n",
    "dataset = dataset.cache()\n",
    "dataset = dataset.shuffle(len(cleaned_df))\n",
    "dataset = dataset.batch(BATCH_SIZE)\n",
    "dataset = dataset.prefetch(tf.data.AUTOTUNE)"
   ]
  },
  {
   "cell_type": "markdown",
   "metadata": {
    "id": "pUOlsWQeVlyC"
   },
   "source": [
    "lets check and see if what we have done works"
   ]
  },
  {
   "cell_type": "code",
   "execution_count": 50,
   "metadata": {
    "colab": {
     "base_uri": "https://localhost:8080/"
    },
    "id": "jBTNjNhMVk2g",
    "outputId": "b00f1443-c179-43a2-e6fd-7cc90ff698f3"
   },
   "outputs": [
    {
     "name": "stderr",
     "output_type": "stream",
     "text": [
      "2025-05-01 08:02:02.389135: I tensorflow/core/kernels/data/shuffle_dataset_op.cc:422] Filling up shuffle buffer (this may take a while): 6412 of 14279\n"
     ]
    },
    {
     "name": "stdout",
     "output_type": "stream",
     "text": [
      "(32, 224, 224, 3) (32,)\n"
     ]
    },
    {
     "name": "stderr",
     "output_type": "stream",
     "text": [
      "2025-05-01 08:02:07.397798: I tensorflow/core/kernels/data/shuffle_dataset_op.cc:450] Shuffle buffer filled.\n"
     ]
    }
   ],
   "source": [
    "for images, labels in dataset.take(1):\n",
    "    print(images.shape, labels.shape)"
   ]
  },
  {
   "cell_type": "markdown",
   "metadata": {
    "id": "Md6U_i84SiK5"
   },
   "source": [
    "### 1i) Splitting data into training and validation sets (test set is already provided in kaggle data)"
   ]
  },
  {
   "cell_type": "code",
   "execution_count": 51,
   "metadata": {
    "id": "yYlssPh5dxaO"
   },
   "outputs": [],
   "source": [
    "# 80-20 split\n",
    "\n",
    "dataset_size = tf.data.experimental.cardinality(dataset).numpy()\n",
    "train_size = int(0.8 * dataset_size)\n",
    "\n",
    "train_dataset = dataset.take(train_size)\n",
    "val_dataset = dataset.skip(train_size)"
   ]
  },
  {
   "cell_type": "code",
   "execution_count": 52,
   "metadata": {
    "colab": {
     "base_uri": "https://localhost:8080/"
    },
    "id": "qPUE6rd8cgQN",
    "outputId": "a418b177-e08d-481c-d272-b9b7494882d2"
   },
   "outputs": [
    {
     "name": "stdout",
     "output_type": "stream",
     "text": [
      "Train size: 357, validation size: 90\n"
     ]
    }
   ],
   "source": [
    "print(f\"Train size: {train_size}, validation size: {dataset_size - train_size}\")"
   ]
  },
  {
   "cell_type": "markdown",
   "metadata": {
    "id": "0ujsjhMPSw4f"
   },
   "source": [
    "### 1j) Data Augmentation applied to training set\n",
    "\n",
    "- Random Brightness Adjustment\n",
    "- Random Contrast Adjustment\n",
    "- Random Hue Adjustment\n",
    "- Random Saturation Adjustment\n",
    "\n"
   ]
  },
  {
   "cell_type": "code",
   "execution_count": 53,
   "metadata": {
    "id": "T9r811eWsYfe"
   },
   "outputs": [],
   "source": [
    "def augment_image(image, label):\n",
    "  seed = (6, 9)\n",
    "  image = tf.image.stateless_random_brightness(image, 0.2, seed)\n",
    "  image = tf.image.stateless_random_contrast(image, 0.8, 1.2, seed)\n",
    "  image = tf.image.stateless_random_hue(image, 0.2, seed)\n",
    "  image = tf.image.stateless_random_saturation(image, 0.8, 1.2, seed)\n",
    "  return image, label\n",
    "\n",
    "# Create a dataset of augmented images from the original train_dataset\n",
    "augmented_dataset = train_dataset.map(augment_image, num_parallel_calls=tf.data.AUTOTUNE)\n",
    "\n",
    "# Concatenate the original and augmented datasets\n",
    "train_dataset = train_dataset.concatenate(augmented_dataset)\n",
    "\n",
    "# Shuffle the combined dataset\n",
    "train_dataset = train_dataset.shuffle(buffer_size=len(cleaned_df))"
   ]
  },
  {
   "cell_type": "markdown",
   "metadata": {
    "id": "ZOqizFg7rvKq"
   },
   "source": [
    "count how many images are in the training set - 22016 with no extradata and 80-20 split"
   ]
  },
  {
   "cell_type": "code",
   "execution_count": 54,
   "metadata": {
    "colab": {
     "base_uri": "https://localhost:8080/"
    },
    "id": "gjlyfjAxLsrC",
    "outputId": "14dc79ee-e1b4-4c37-bfb1-b6525bc586c0"
   },
   "outputs": [
    {
     "name": "stdout",
     "output_type": "stream",
     "text": [
      "Total number of images in train_dataset: 22848\n"
     ]
    }
   ],
   "source": [
    "total_images = 0\n",
    "for image_batch, _ in train_dataset:\n",
    "    total_images += image_batch.shape[0]  # Add the batch size\n",
    "\n",
    "print(f\"Total number of images in train_dataset: {total_images}\")"
   ]
  },
  {
   "cell_type": "markdown",
   "metadata": {
    "id": "HEdi-dUCTND1"
   },
   "source": [
    "checking to see if whats been done was successful or needs debugging"
   ]
  },
  {
   "cell_type": "code",
   "execution_count": 55,
   "metadata": {
    "colab": {
     "base_uri": "https://localhost:8080/"
    },
    "id": "OeboVhsQKGFS",
    "outputId": "b9c6bb08-d7ce-4951-b621-6775a6ee3bdf"
   },
   "outputs": [
    {
     "name": "stdout",
     "output_type": "stream",
     "text": [
      "image shape:  (224, 224, 3)\n",
      "label: 0.75\n",
      "image shape:  (224, 224, 3)\n",
      "label: 0.4375\n",
      "image shape:  (224, 224, 3)\n",
      "label: 0.5\n",
      "image shape:  (224, 224, 3)\n",
      "label: 0.8125\n",
      "image shape:  (224, 224, 3)\n",
      "label: 0.8125\n",
      "image shape:  (224, 224, 3)\n",
      "label: 0.6875\n",
      "image shape:  (224, 224, 3)\n",
      "label: 0.75\n",
      "image shape:  (224, 224, 3)\n",
      "label: 0.625\n",
      "image shape:  (224, 224, 3)\n",
      "label: 0.75\n",
      "image shape:  (224, 224, 3)\n",
      "label: 0.75\n"
     ]
    },
    {
     "data": {
      "image/png": "[encoded data removed]",
      "text/plain": [
       "<Figure size 640x480 with 10 Axes>"
      ]
     },
     "metadata": {},
     "output_type": "display_data"
    }
   ],
   "source": [
    "f, axarr = plt.subplots(1,10)\n",
    "\n",
    "i = 0\n",
    "for image_batch, label_batch in train_dataset.take(1):  # Take one batch\n",
    "    for image in image_batch:  # Iterate through images in the batch\n",
    "        if i < 10:  # Only display the first 5 images\n",
    "            print('image shape: ', np.shape(image))\n",
    "            tf.print('label:', label_batch[i])  # Print label for the corresponding image\n",
    "            axarr[i].imshow(image)\n",
    "            axarr[i].axis('off')\n",
    "            i += 1\n",
    "        else:\n",
    "            break  # Stop after displaying 5 images\n",
    "plt.show()"
   ]
  },
  {
   "cell_type": "markdown",
   "metadata": {
    "id": "cmetmzNHTWzU"
   },
   "source": [
    "# 2) Model Building -  Transfer Learning"
   ]
  },
  {
   "cell_type": "markdown",
   "metadata": {
    "id": "48RHLVshdX5L"
   },
   "source": [
    "### 2a) Set up model architecture"
   ]
  },
  {
   "cell_type": "code",
   "execution_count": 56,
   "metadata": {
    "id": "aHjqXG1jSnCr"
   },
   "outputs": [],
   "source": [
    "dropoutrate = 0.2\n",
    "input_shape = (224,224,3)"
   ]
  },
  {
   "cell_type": "code",
   "execution_count": 57,
   "metadata": {
    "colab": {
     "base_uri": "https://localhost:8080/",
     "height": 527
    },
    "id": "ZPso3wBuN9L3",
    "outputId": "ef11a9ff-7117-4836-dd78-9bcadac15995"
   },
   "outputs": [
    {
     "name": "stdout",
     "output_type": "stream",
     "text": [
      "Model: \"sequential\"\n",
      "_________________________________________________________________\n",
      " Layer (type)                Output Shape              Param #   \n",
      "=================================================================\n",
      " MobilenetV3small (Function  (None, 7, 7, 576)         939120    \n",
      " al)                                                             \n",
      "                                                                 \n",
      " global_average_pooling2d (  (None, 576)               0         \n",
      " GlobalAveragePooling2D)                                         \n",
      "                                                                 \n",
      " dropout (Dropout)           (None, 576)               0         \n",
      "                                                                 \n",
      " dense (Dense)               (None, 256)               147712    \n",
      "                                                                 \n",
      " dropout_1 (Dropout)         (None, 256)               0         \n",
      "                                                                 \n",
      " dense_1 (Dense)             (None, 128)               32896     \n",
      "                                                                 \n",
      " dropout_2 (Dropout)         (None, 128)               0         \n",
      "                                                                 \n",
      " dense_2 (Dense)             (None, 64)                8256      \n",
      "                                                                 \n",
      " dropout_3 (Dropout)         (None, 64)                0         \n",
      "                                                                 \n",
      " dense_3 (Dense)             (None, 32)                2080      \n",
      "                                                                 \n",
      " dense_4 (Dense)             (None, 1)                 33        \n",
      "                                                                 \n",
      "=================================================================\n",
      "Total params: 1130097 (4.31 MB)\n",
      "Trainable params: 190977 (746.00 KB)\n",
      "Non-trainable params: 939120 (3.58 MB)\n",
      "_________________________________________________________________\n"
     ]
    }
   ],
   "source": [
    "mobnetv3small = tf.keras.applications.MobileNetV3Small(\n",
    "    weights = 'imagenet',\n",
    "    include_top = False,\n",
    "    input_shape = input_shape\n",
    ")\n",
    "\n",
    "model = tf.keras.Sequential([\n",
    "  mobnetv3small,\n",
    "  tf.keras.layers.GlobalAveragePooling2D(),\n",
    "  tf.keras.layers.Dropout(dropoutrate),\n",
    "  tf.keras.layers.Dense(256, activation='relu'),\n",
    "  tf.keras.layers.Dropout(dropoutrate),\n",
    "  tf.keras.layers.Dense(128, activation='relu'),\n",
    "  tf.keras.layers.Dropout(dropoutrate),\n",
    "  tf.keras.layers.Dense(64, activation='relu'),\n",
    "  tf.keras.layers.Dropout(dropoutrate),\n",
    "  tf.keras.layers.Dense(32, activation='relu'),\n",
    "  tf.keras.layers.Dense(1, activation='linear')\n",
    "])\n",
    "\n",
    "mobnetv3small.trainable = False  # freeze mobnetv3small layers\n",
    "\n",
    "model.summary()"
   ]
  },
  {
   "cell_type": "markdown",
   "metadata": {},
   "source": [
    "compile the model"
   ]
  },
  {
   "cell_type": "code",
   "execution_count": null,
   "metadata": {
    "id": "Ca0JFQuuN8oI"
   },
   "outputs": [],
   "source": [
    "model.compile(\n",
    "    optimizer=tf.keras.optimizers.Adam(learning_rate=0.001),\n",
    "    loss=tf.keras.losses.MeanSquaredError(),\n",
    ")"
   ]
  },
  {
   "cell_type": "markdown",
   "metadata": {},
   "source": [
    "### 2c) train the model with the mobnetv3small layers frozen"
   ]
  },
  {
   "cell_type": "code",
   "execution_count": 59,
   "metadata": {
    "colab": {
     "base_uri": "https://localhost:8080/",
     "height": 1000
    },
    "id": "WPTNOtr7WjLS",
    "outputId": "63cf5fac-6100-43db-dadd-47da686c9712"
   },
   "outputs": [
    {
     "name": "stdout",
     "output_type": "stream",
     "text": [
      "\n",
      "Starting Epoch 1...\n",
      "Epoch 1/50\n",
      "714/714 [==============================] - ETA: 0s - loss: 0.0285\n",
      "Epoch 1: val_loss improved from inf to 0.0265\n",
      "Saving model to /home/apyba3/PICAR-autopilot/MobNetV3Small_Kaggle/checkpoints/50epochs_frozen_mobnetv3small_regression_checkpoint.keras\n",
      "Completed Epoch 1, Loss: 0.0285, Val Loss: 0.0265\n",
      "714/714 [==============================] - 68s 83ms/step - loss: 0.0285 - val_loss: 0.0265\n",
      "\n",
      "Starting Epoch 2...\n",
      "Epoch 2/50\n",
      "714/714 [==============================] - ETA: 0s - loss: 0.0192\n",
      "Epoch 2: val_loss improved from 0.0265 to 0.0193\n",
      "Saving model to /home/apyba3/PICAR-autopilot/MobNetV3Small_Kaggle/checkpoints/50epochs_frozen_mobnetv3small_regression_checkpoint.keras\n",
      "Completed Epoch 2, Loss: 0.0192, Val Loss: 0.0193\n",
      "714/714 [==============================] - 62s 82ms/step - loss: 0.0192 - val_loss: 0.0193\n",
      "\n",
      "Starting Epoch 3...\n",
      "Epoch 3/50\n",
      "714/714 [==============================] - ETA: 0s - loss: 0.0178\n",
      "Epoch 3: val_loss improved from 0.0193 to 0.0173\n",
      "Saving model to /home/apyba3/PICAR-autopilot/MobNetV3Small_Kaggle/checkpoints/50epochs_frozen_mobnetv3small_regression_checkpoint.keras\n",
      "Completed Epoch 3, Loss: 0.0178, Val Loss: 0.0173\n",
      "714/714 [==============================] - 61s 80ms/step - loss: 0.0178 - val_loss: 0.0173\n",
      "\n",
      "Starting Epoch 4...\n",
      "Epoch 4/50\n",
      "714/714 [==============================] - ETA: 0s - loss: 0.0172\n",
      "Epoch 4: val_loss improved from 0.0173 to 0.0147\n",
      "Saving model to /home/apyba3/PICAR-autopilot/MobNetV3Small_Kaggle/checkpoints/50epochs_frozen_mobnetv3small_regression_checkpoint.keras\n",
      "Completed Epoch 4, Loss: 0.0172, Val Loss: 0.0147\n",
      "714/714 [==============================] - 61s 81ms/step - loss: 0.0172 - val_loss: 0.0147\n",
      "\n",
      "Starting Epoch 5...\n",
      "Epoch 5/50\n",
      "714/714 [==============================] - ETA: 0s - loss: 0.0162\n",
      "Epoch 5: val_loss improved from 0.0147 to 0.0144\n",
      "Saving model to /home/apyba3/PICAR-autopilot/MobNetV3Small_Kaggle/checkpoints/50epochs_frozen_mobnetv3small_regression_checkpoint.keras\n",
      "Completed Epoch 5, Loss: 0.0162, Val Loss: 0.0144\n",
      "714/714 [==============================] - 61s 80ms/step - loss: 0.0162 - val_loss: 0.0144\n",
      "\n",
      "Starting Epoch 6...\n",
      "Epoch 6/50\n",
      "714/714 [==============================] - ETA: 0s - loss: 0.0157Completed Epoch 6, Loss: 0.0157, Val Loss: 0.0153\n",
      "714/714 [==============================] - 61s 80ms/step - loss: 0.0157 - val_loss: 0.0153\n",
      "\n",
      "Starting Epoch 7...\n",
      "Epoch 7/50\n",
      "714/714 [==============================] - ETA: 0s - loss: 0.0157\n",
      "Epoch 7: val_loss improved from 0.0144 to 0.0133\n",
      "Saving model to /home/apyba3/PICAR-autopilot/MobNetV3Small_Kaggle/checkpoints/50epochs_frozen_mobnetv3small_regression_checkpoint.keras\n",
      "Completed Epoch 7, Loss: 0.0157, Val Loss: 0.0133\n",
      "714/714 [==============================] - 61s 81ms/step - loss: 0.0157 - val_loss: 0.0133\n",
      "\n",
      "Starting Epoch 8...\n",
      "Epoch 8/50\n",
      "714/714 [==============================] - ETA: 0s - loss: 0.0155\n",
      "Epoch 8: val_loss improved from 0.0133 to 0.0126\n",
      "Saving model to /home/apyba3/PICAR-autopilot/MobNetV3Small_Kaggle/checkpoints/50epochs_frozen_mobnetv3small_regression_checkpoint.keras\n",
      "Completed Epoch 8, Loss: 0.0155, Val Loss: 0.0126\n",
      "714/714 [==============================] - 61s 80ms/step - loss: 0.0155 - val_loss: 0.0126\n",
      "\n",
      "Starting Epoch 9...\n",
      "Epoch 9/50\n",
      "714/714 [==============================] - ETA: 0s - loss: 0.0151Completed Epoch 9, Loss: 0.0151, Val Loss: 0.0142\n",
      "714/714 [==============================] - 60s 79ms/step - loss: 0.0151 - val_loss: 0.0142\n",
      "\n",
      "Starting Epoch 10...\n",
      "Epoch 10/50\n",
      "714/714 [==============================] - ETA: 0s - loss: 0.0151Completed Epoch 10, Loss: 0.0151, Val Loss: 0.0145\n",
      "714/714 [==============================] - 60s 79ms/step - loss: 0.0151 - val_loss: 0.0145\n",
      "\n",
      "Starting Epoch 11...\n",
      "Epoch 11/50\n",
      "714/714 [==============================] - ETA: 0s - loss: 0.0154Completed Epoch 11, Loss: 0.0154, Val Loss: 0.0134\n",
      "714/714 [==============================] - 61s 80ms/step - loss: 0.0154 - val_loss: 0.0134\n",
      "\n",
      "Starting Epoch 12...\n",
      "Epoch 12/50\n",
      "714/714 [==============================] - ETA: 0s - loss: 0.0152Completed Epoch 12, Loss: 0.0152, Val Loss: 0.0130\n",
      "714/714 [==============================] - 60s 79ms/step - loss: 0.0152 - val_loss: 0.0130\n",
      "\n",
      "Starting Epoch 13...\n",
      "Epoch 13/50\n",
      "714/714 [==============================] - ETA: 0s - loss: 0.0144\n",
      "Epoch 13: val_loss improved from 0.0126 to 0.0125\n",
      "Saving model to /home/apyba3/PICAR-autopilot/MobNetV3Small_Kaggle/checkpoints/50epochs_frozen_mobnetv3small_regression_checkpoint.keras\n",
      "Completed Epoch 13, Loss: 0.0144, Val Loss: 0.0125\n",
      "714/714 [==============================] - 61s 80ms/step - loss: 0.0144 - val_loss: 0.0125\n",
      "\n",
      "Starting Epoch 14...\n",
      "Epoch 14/50\n",
      "714/714 [==============================] - ETA: 0s - loss: 0.0147Completed Epoch 14, Loss: 0.0147, Val Loss: 0.0127\n",
      "714/714 [==============================] - 61s 80ms/step - loss: 0.0147 - val_loss: 0.0127\n",
      "\n",
      "Starting Epoch 15...\n",
      "Epoch 15/50\n",
      "714/714 [==============================] - ETA: 0s - loss: 0.0146\n",
      "Epoch 15: val_loss improved from 0.0125 to 0.0112\n",
      "Saving model to /home/apyba3/PICAR-autopilot/MobNetV3Small_Kaggle/checkpoints/50epochs_frozen_mobnetv3small_regression_checkpoint.keras\n",
      "Completed Epoch 15, Loss: 0.0146, Val Loss: 0.0112\n",
      "714/714 [==============================] - 61s 80ms/step - loss: 0.0146 - val_loss: 0.0112\n",
      "\n",
      "Starting Epoch 16...\n",
      "Epoch 16/50\n",
      "714/714 [==============================] - ETA: 0s - loss: 0.0146Completed Epoch 16, Loss: 0.0146, Val Loss: 0.0121\n",
      "714/714 [==============================] - 61s 80ms/step - loss: 0.0146 - val_loss: 0.0121\n",
      "\n",
      "Starting Epoch 17...\n",
      "Epoch 17/50\n",
      "714/714 [==============================] - ETA: 0s - loss: 0.0150Completed Epoch 17, Loss: 0.0150, Val Loss: 0.0145\n",
      "714/714 [==============================] - 61s 80ms/step - loss: 0.0150 - val_loss: 0.0145\n",
      "\n",
      "Starting Epoch 18...\n",
      "Epoch 18/50\n",
      "714/714 [==============================] - ETA: 0s - loss: 0.0142Completed Epoch 18, Loss: 0.0142, Val Loss: 0.0151\n",
      "714/714 [==============================] - 61s 80ms/step - loss: 0.0142 - val_loss: 0.0151\n",
      "\n",
      "Starting Epoch 19...\n",
      "Epoch 19/50\n",
      "714/714 [==============================] - ETA: 0s - loss: 0.0144Completed Epoch 19, Loss: 0.0144, Val Loss: 0.0118\n",
      "714/714 [==============================] - 61s 80ms/step - loss: 0.0144 - val_loss: 0.0118\n",
      "\n",
      "Starting Epoch 20...\n",
      "Epoch 20/50\n",
      "714/714 [==============================] - ETA: 0s - loss: 0.0143Completed Epoch 20, Loss: 0.0143, Val Loss: 0.0152\n",
      "714/714 [==============================] - 60s 80ms/step - loss: 0.0143 - val_loss: 0.0152\n",
      "\n",
      "Starting Epoch 21...\n",
      "Epoch 21/50\n",
      "714/714 [==============================] - ETA: 0s - loss: 0.0144Completed Epoch 21, Loss: 0.0144, Val Loss: 0.0125\n",
      "714/714 [==============================] - 60s 79ms/step - loss: 0.0144 - val_loss: 0.0125\n",
      "\n",
      "Starting Epoch 22...\n",
      "Epoch 22/50\n",
      "714/714 [==============================] - ETA: 0s - loss: 0.0147\n",
      "Epoch 22: val_loss improved from 0.0112 to 0.0109\n",
      "Saving model to /home/apyba3/PICAR-autopilot/MobNetV3Small_Kaggle/checkpoints/50epochs_frozen_mobnetv3small_regression_checkpoint.keras\n",
      "Completed Epoch 22, Loss: 0.0147, Val Loss: 0.0109\n",
      "714/714 [==============================] - 61s 80ms/step - loss: 0.0147 - val_loss: 0.0109\n",
      "\n",
      "Starting Epoch 23...\n",
      "Epoch 23/50\n",
      "714/714 [==============================] - ETA: 0s - loss: 0.0140Completed Epoch 23, Loss: 0.0140, Val Loss: 0.0124\n",
      "714/714 [==============================] - 61s 80ms/step - loss: 0.0140 - val_loss: 0.0124\n",
      "\n",
      "Starting Epoch 24...\n",
      "Epoch 24/50\n",
      "714/714 [==============================] - ETA: 0s - loss: 0.0142Completed Epoch 24, Loss: 0.0142, Val Loss: 0.0120\n",
      "714/714 [==============================] - 60s 80ms/step - loss: 0.0142 - val_loss: 0.0120\n",
      "\n",
      "Starting Epoch 25...\n",
      "Epoch 25/50\n",
      "714/714 [==============================] - ETA: 0s - loss: 0.0142Completed Epoch 25, Loss: 0.0142, Val Loss: 0.0111\n",
      "714/714 [==============================] - 61s 80ms/step - loss: 0.0142 - val_loss: 0.0111\n",
      "\n",
      "Starting Epoch 26...\n",
      "Epoch 26/50\n",
      "714/714 [==============================] - ETA: 0s - loss: 0.0140Completed Epoch 26, Loss: 0.0140, Val Loss: 0.0117\n",
      "714/714 [==============================] - 60s 80ms/step - loss: 0.0140 - val_loss: 0.0117\n",
      "\n",
      "Starting Epoch 27...\n",
      "Epoch 27/50\n",
      "714/714 [==============================] - ETA: 0s - loss: 0.0142Completed Epoch 27, Loss: 0.0142, Val Loss: 0.0128\n",
      "714/714 [==============================] - 60s 80ms/step - loss: 0.0142 - val_loss: 0.0128\n",
      "\n",
      "Starting Epoch 28...\n",
      "Epoch 28/50\n",
      "714/714 [==============================] - ETA: 0s - loss: 0.0140Completed Epoch 28, Loss: 0.0140, Val Loss: 0.0118\n",
      "714/714 [==============================] - 61s 80ms/step - loss: 0.0140 - val_loss: 0.0118\n",
      "\n",
      "Starting Epoch 29...\n",
      "Epoch 29/50\n",
      "714/714 [==============================] - ETA: 0s - loss: 0.0148Completed Epoch 29, Loss: 0.0148, Val Loss: 0.0142\n",
      "714/714 [==============================] - 61s 80ms/step - loss: 0.0148 - val_loss: 0.0142\n",
      "\n",
      "Starting Epoch 30...\n",
      "Epoch 30/50\n",
      "714/714 [==============================] - ETA: 0s - loss: 0.0148Completed Epoch 30, Loss: 0.0148, Val Loss: 0.0121\n",
      "714/714 [==============================] - 61s 80ms/step - loss: 0.0148 - val_loss: 0.0121\n",
      "\n",
      "Starting Epoch 31...\n",
      "Epoch 31/50\n",
      "714/714 [==============================] - ETA: 0s - loss: 0.0143Completed Epoch 31, Loss: 0.0143, Val Loss: 0.0115\n",
      "714/714 [==============================] - 60s 80ms/step - loss: 0.0143 - val_loss: 0.0115\n",
      "\n",
      "Starting Epoch 32...\n",
      "Epoch 32/50\n",
      "714/714 [==============================] - ETA: 0s - loss: 0.0139Completed Epoch 32, Loss: 0.0139, Val Loss: 0.0134\n",
      "714/714 [==============================] - 61s 80ms/step - loss: 0.0139 - val_loss: 0.0134\n",
      "\n",
      "Starting Epoch 33...\n",
      "Epoch 33/50\n",
      "714/714 [==============================] - ETA: 0s - loss: 0.0139Completed Epoch 33, Loss: 0.0139, Val Loss: 0.0113\n",
      "714/714 [==============================] - 61s 80ms/step - loss: 0.0139 - val_loss: 0.0113\n",
      "\n",
      "Starting Epoch 34...\n",
      "Epoch 34/50\n",
      "714/714 [==============================] - ETA: 0s - loss: 0.0139Completed Epoch 34, Loss: 0.0139, Val Loss: 0.0128\n",
      "714/714 [==============================] - 60s 79ms/step - loss: 0.0139 - val_loss: 0.0128\n",
      "\n",
      "Starting Epoch 35...\n",
      "Epoch 35/50\n",
      "714/714 [==============================] - ETA: 0s - loss: 0.0137Completed Epoch 35, Loss: 0.0137, Val Loss: 0.0115\n",
      "714/714 [==============================] - 60s 80ms/step - loss: 0.0137 - val_loss: 0.0115\n",
      "\n",
      "Starting Epoch 36...\n",
      "Epoch 36/50\n",
      "714/714 [==============================] - ETA: 0s - loss: 0.0141Completed Epoch 36, Loss: 0.0141, Val Loss: 0.0145\n",
      "714/714 [==============================] - 60s 80ms/step - loss: 0.0141 - val_loss: 0.0145\n",
      "\n",
      "Starting Epoch 37...\n",
      "Epoch 37/50\n",
      "714/714 [==============================] - ETA: 0s - loss: 0.0137Completed Epoch 37, Loss: 0.0137, Val Loss: 0.0124\n",
      "714/714 [==============================] - 60s 80ms/step - loss: 0.0137 - val_loss: 0.0124\n",
      "\n",
      "Starting Epoch 38...\n",
      "Epoch 38/50\n",
      "714/714 [==============================] - ETA: 0s - loss: 0.0135Completed Epoch 38, Loss: 0.0135, Val Loss: 0.0125\n",
      "714/714 [==============================] - 61s 80ms/step - loss: 0.0135 - val_loss: 0.0125\n",
      "\n",
      "Starting Epoch 39...\n",
      "Epoch 39/50\n",
      "714/714 [==============================] - ETA: 0s - loss: 0.0136Completed Epoch 39, Loss: 0.0136, Val Loss: 0.0115\n",
      "714/714 [==============================] - 61s 80ms/step - loss: 0.0136 - val_loss: 0.0115\n",
      "\n",
      "Starting Epoch 40...\n",
      "Epoch 40/50\n",
      "714/714 [==============================] - ETA: 0s - loss: 0.0135Completed Epoch 40, Loss: 0.0135, Val Loss: 0.0131\n",
      "714/714 [==============================] - 60s 79ms/step - loss: 0.0135 - val_loss: 0.0131\n",
      "\n",
      "Starting Epoch 41...\n",
      "Epoch 41/50\n",
      "714/714 [==============================] - ETA: 0s - loss: 0.0135Completed Epoch 41, Loss: 0.0135, Val Loss: 0.0120\n",
      "714/714 [==============================] - 61s 80ms/step - loss: 0.0135 - val_loss: 0.0120\n",
      "\n",
      "Starting Epoch 42...\n",
      "Epoch 42/50\n",
      "714/714 [==============================] - ETA: 0s - loss: 0.0135Completed Epoch 42, Loss: 0.0135, Val Loss: 0.0116\n",
      "714/714 [==============================] - 60s 80ms/step - loss: 0.0135 - val_loss: 0.0116\n",
      "\n",
      "Starting Epoch 43...\n",
      "Epoch 43/50\n",
      "714/714 [==============================] - ETA: 0s - loss: 0.0133Completed Epoch 43, Loss: 0.0133, Val Loss: 0.0136\n",
      "714/714 [==============================] - 60s 80ms/step - loss: 0.0133 - val_loss: 0.0136\n",
      "\n",
      "Starting Epoch 44...\n",
      "Epoch 44/50\n",
      "714/714 [==============================] - ETA: 0s - loss: 0.0136Completed Epoch 44, Loss: 0.0136, Val Loss: 0.0122\n",
      "714/714 [==============================] - 60s 79ms/step - loss: 0.0136 - val_loss: 0.0122\n",
      "\n",
      "Starting Epoch 45...\n",
      "Epoch 45/50\n",
      "714/714 [==============================] - ETA: 0s - loss: 0.0139Completed Epoch 45, Loss: 0.0139, Val Loss: 0.0118\n",
      "714/714 [==============================] - 60s 80ms/step - loss: 0.0139 - val_loss: 0.0118\n",
      "\n",
      "Starting Epoch 46...\n",
      "Epoch 46/50\n",
      "714/714 [==============================] - ETA: 0s - loss: 0.0135Completed Epoch 46, Loss: 0.0135, Val Loss: 0.0128\n",
      "714/714 [==============================] - 60s 80ms/step - loss: 0.0135 - val_loss: 0.0128\n",
      "\n",
      "Starting Epoch 47...\n",
      "Epoch 47/50\n",
      "714/714 [==============================] - ETA: 0s - loss: 0.0134Completed Epoch 47, Loss: 0.0134, Val Loss: 0.0115\n",
      "714/714 [==============================] - 61s 80ms/step - loss: 0.0134 - val_loss: 0.0115\n",
      "\n",
      "Starting Epoch 48...\n",
      "Epoch 48/50\n",
      "714/714 [==============================] - ETA: 0s - loss: 0.0133Completed Epoch 48, Loss: 0.0133, Val Loss: 0.0132\n",
      "714/714 [==============================] - 61s 80ms/step - loss: 0.0133 - val_loss: 0.0132\n",
      "\n",
      "Starting Epoch 49...\n",
      "Epoch 49/50\n",
      "714/714 [==============================] - ETA: 0s - loss: 0.0132Completed Epoch 49, Loss: 0.0132, Val Loss: 0.0134\n",
      "714/714 [==============================] - 61s 80ms/step - loss: 0.0132 - val_loss: 0.0134\n",
      "\n",
      "Starting Epoch 50...\n",
      "Epoch 50/50\n",
      "714/714 [==============================] - ETA: 0s - loss: 0.0132Completed Epoch 50, Loss: 0.0132, Val Loss: 0.0128\n",
      "714/714 [==============================] - 60s 80ms/step - loss: 0.0132 - val_loss: 0.0128\n"
     ]
    }
   ],
   "source": [
    "# Define checkpoint directory and create it if it doesn't exist\n",
    "checkpoint_dir = '/home/apyba3/PICAR-autopilot/MobNetV3Small_Kaggle/checkpoints'\n",
    "os.makedirs(checkpoint_dir, exist_ok=True)\n",
    "\n",
    "# Define checkpoint filepath for the regression model\n",
    "checkpoint_filepath = os.path.join(checkpoint_dir, '50epochs_frozen_mobnetv3small_regression_checkpoint.keras')\n",
    "\n",
    "# Create a custom callback for model checkpointing\n",
    "class CustomModelCheckpoint(tf.keras.callbacks.Callback):\n",
    "    def __init__(self, filepath, monitor='val_loss', verbose=1, save_best_only=True, mode='min'):\n",
    "        super(CustomModelCheckpoint, self).__init__()\n",
    "        self.filepath = filepath\n",
    "        self.monitor = monitor\n",
    "        self.verbose = verbose\n",
    "        self.save_best_only = save_best_only\n",
    "        \n",
    "        # Initialize best value based on mode\n",
    "        self.mode = mode\n",
    "        if mode == 'min':\n",
    "            self.best = float('inf')\n",
    "            self.monitor_op = lambda current, best: current < best\n",
    "        else:  # 'max'\n",
    "            self.best = float('-inf')\n",
    "            self.monitor_op = lambda current, best: current > best\n",
    "            \n",
    "    def on_epoch_end(self, epoch, logs=None):\n",
    "        logs = logs or {}\n",
    "        current = logs.get(self.monitor)\n",
    "        \n",
    "        if current is None:\n",
    "            if self.verbose > 0:\n",
    "                print(f\"Warning: {self.monitor} not found in logs\")\n",
    "            return\n",
    "            \n",
    "        if self.save_best_only:\n",
    "            if self.monitor_op(current, self.best):\n",
    "                if self.verbose > 0:\n",
    "                    print(f\"\\nEpoch {epoch+1}: {self.monitor} improved from {self.best:.4f} to {current:.4f}\")\n",
    "                    print(f\"Saving model to {self.filepath}\")\n",
    "                self.best = current\n",
    "                \n",
    "                # Use direct model.save() without extra parameters\n",
    "                try:\n",
    "                    self.model.save(self.filepath)\n",
    "                except Exception as e:\n",
    "                    print(f\"Error saving model: {e}\")\n",
    "        else:\n",
    "            if self.verbose > 0:\n",
    "                print(f\"\\nEpoch {epoch+1}: saving model to {self.filepath}\")\n",
    "            try:\n",
    "                self.model.save(self.filepath)\n",
    "            except Exception as e:\n",
    "                print(f\"Error saving model: {e}\")\n",
    "\n",
    "# Create custom checkpoint callback\n",
    "custom_checkpoint = CustomModelCheckpoint(\n",
    "    filepath=checkpoint_filepath,\n",
    "    monitor='val_loss',\n",
    "    save_best_only=True,\n",
    "    mode='min',\n",
    "    verbose=1\n",
    ")\n",
    "\n",
    "# Define epoch callback \n",
    "epoch_callback = LambdaCallback(\n",
    "    on_epoch_begin=lambda epoch, logs: print(f\"\\nStarting Epoch {epoch + 1}...\"),\n",
    "    on_epoch_end=lambda epoch, logs: print(f\"Completed Epoch {epoch + 1}, Loss: {logs['loss']:.4f}, Val Loss: {logs['val_loss']:.4f}\")\n",
    ")\n",
    "\n",
    "# Training with callbacks\n",
    "# Note: Removed batch_size parameter since it should be in the dataset definition\n",
    "history = model.fit(\n",
    "    train_dataset,\n",
    "    validation_data=val_dataset,\n",
    "    epochs=50,\n",
    "    callbacks=[custom_checkpoint, epoch_callback]\n",
    ")"
   ]
  },
  {
   "cell_type": "markdown",
   "metadata": {},
   "source": [
    "save full model"
   ]
  },
  {
   "cell_type": "code",
   "execution_count": 60,
   "metadata": {},
   "outputs": [
    {
     "name": "stdout",
     "output_type": "stream",
     "text": [
      "Final model saved to /home/apyba3/PICAR-autopilot-1/autopilot/models/BenTyler_MLiSards/regression50epochs_frozen_mobnetv3small_model.keras\n"
     ]
    }
   ],
   "source": [
    "# Save the final model\n",
    "model_path = '/home/apyba3/PICAR-autopilot-1/autopilot/models/BenTyler_MLiSards/regression50epochs_frozen_mobnetv3small_model.keras'\n",
    "model.save(model_path)\n",
    "print(f\"Final model saved to {model_path}\")"
   ]
  },
  {
   "cell_type": "markdown",
   "metadata": {},
   "source": [
    "save model weights"
   ]
  },
  {
   "cell_type": "code",
   "execution_count": 61,
   "metadata": {},
   "outputs": [],
   "source": [
    "frozenweights_filepath = '/home/apyba3/PICAR-autopilot-1/MobNetV3Small_Kaggle/weights/regression50epochs_frozentraining_mobnetv3small.weights.keras'"
   ]
  },
  {
   "cell_type": "code",
   "execution_count": 62,
   "metadata": {
    "id": "FiHy6opSP2sQ"
   },
   "outputs": [],
   "source": [
    "model.save_weights(frozenweights_filepath)"
   ]
  },
  {
   "cell_type": "markdown",
   "metadata": {},
   "source": [
    "clear keras session"
   ]
  },
  {
   "cell_type": "code",
   "execution_count": 63,
   "metadata": {
    "id": "FpLHyw20P93U"
   },
   "outputs": [],
   "source": [
    "tf.keras.backend.clear_session() #Clear keras session"
   ]
  },
  {
   "cell_type": "markdown",
   "metadata": {
    "id": "ENHbUvQdvyFe"
   },
   "source": [
    "### 2d) fine-tuning"
   ]
  },
  {
   "cell_type": "markdown",
   "metadata": {
    "id": "h0ek_ytyw0KB"
   },
   "source": [
    "rebuild model after clearing keras session"
   ]
  },
  {
   "cell_type": "code",
   "execution_count": 64,
   "metadata": {},
   "outputs": [
    {
     "name": "stdout",
     "output_type": "stream",
     "text": [
      "Model: \"sequential\"\n",
      "_________________________________________________________________\n",
      " Layer (type)                Output Shape              Param #   \n",
      "=================================================================\n",
      " MobilenetV3small (Function  (None, 7, 7, 576)         939120    \n",
      " al)                                                             \n",
      "                                                                 \n",
      " global_average_pooling2d (  (None, 576)               0         \n",
      " GlobalAveragePooling2D)                                         \n",
      "                                                                 \n",
      " dropout (Dropout)           (None, 576)               0         \n",
      "                                                                 \n",
      " dense (Dense)               (None, 256)               147712    \n",
      "                                                                 \n",
      " dropout_1 (Dropout)         (None, 256)               0         \n",
      "                                                                 \n",
      " dense_1 (Dense)             (None, 128)               32896     \n",
      "                                                                 \n",
      " dropout_2 (Dropout)         (None, 128)               0         \n",
      "                                                                 \n",
      " dense_2 (Dense)             (None, 64)                8256      \n",
      "                                                                 \n",
      " dropout_3 (Dropout)         (None, 64)                0         \n",
      "                                                                 \n",
      " dense_3 (Dense)             (None, 32)                2080      \n",
      "                                                                 \n",
      " dense_4 (Dense)             (None, 1)                 33        \n",
      "                                                                 \n",
      "=================================================================\n",
      "Total params: 1130097 (4.31 MB)\n",
      "Trainable params: 1117985 (4.26 MB)\n",
      "Non-trainable params: 12112 (47.31 KB)\n",
      "_________________________________________________________________\n"
     ]
    }
   ],
   "source": [
    "# Rebuild the model with the SAME frozen state as when weights were saved\n",
    "mobnetv3small = tf.keras.applications.MobileNetV3Small(\n",
    "    weights='imagenet',\n",
    "    include_top=False,\n",
    "    input_shape=input_shape\n",
    ")\n",
    "\n",
    "model = tf.keras.Sequential([\n",
    "  mobnetv3small,\n",
    "  tf.keras.layers.GlobalAveragePooling2D(),\n",
    "  tf.keras.layers.Dropout(dropoutrate),\n",
    "  tf.keras.layers.Dense(256, activation='relu'),\n",
    "  tf.keras.layers.Dropout(dropoutrate),\n",
    "  tf.keras.layers.Dense(128, activation='relu'),\n",
    "  tf.keras.layers.Dropout(dropoutrate),\n",
    "  tf.keras.layers.Dense(64, activation='relu'),\n",
    "  tf.keras.layers.Dropout(dropoutrate),\n",
    "  tf.keras.layers.Dense(32, activation='relu'),\n",
    "  tf.keras.layers.Dense(1, activation='linear')\n",
    "])\n",
    "\n",
    "# IMPORTANT: Set to False BEFORE loading weights\n",
    "mobnetv3small.trainable = False\n",
    "\n",
    "# Compile the model first (important for weight loading)\n",
    "model.compile(\n",
    "    optimizer=tf.keras.optimizers.Adam(learning_rate=0.001),  # This can match original compile\n",
    "    loss=tf.keras.losses.MeanSquaredError(),\n",
    ")\n",
    "\n",
    "# Load weights while the model has the same trainable state as during saving\n",
    "# frozenweights_filepath = '/home/apyba3/PICAR-autopilot-1/MobNetV3Small_Kaggle/weights/regression50epochs_frozentraining_mobnetv3small.weights.keras'\n",
    "model.load_weights(frozenweights_filepath)\n",
    "\n",
    "# ONLY NOW change the trainable state for fine-tuning\n",
    "mobnetv3small.trainable = True\n",
    "\n",
    "# Re-compile with a lower learning rate for fine-tuning\n",
    "model.compile(\n",
    "    optimizer=tf.keras.optimizers.Adam(learning_rate=0.0001),  # Lower learning rate for fine-tuning\n",
    "    loss=tf.keras.losses.MeanSquaredError(),\n",
    ")\n",
    "\n",
    "model.summary()"
   ]
  },
  {
   "cell_type": "markdown",
   "metadata": {
    "id": "XWDtRxBow89t"
   },
   "source": [
    "Initiate fine-tuning training"
   ]
  },
  {
   "cell_type": "code",
   "execution_count": 65,
   "metadata": {},
   "outputs": [
    {
     "name": "stdout",
     "output_type": "stream",
     "text": [
      "\n",
      "Starting Epoch 1...\n",
      "Epoch 1/20\n"
     ]
    },
    {
     "name": "stdout",
     "output_type": "stream",
     "text": [
      "714/714 [==============================] - ETA: 0s - loss: 0.2999\n",
      "Epoch 1: val_loss improved from inf to 0.0308\n",
      "Saving model to /home/apyba3/PICAR-autopilot/MobNetV3Small_Kaggle/checkpoints/finetuned_50epochs_mobnetv3small_regression_checkpoint.keras\n",
      "Completed Epoch 1, Loss: 0.2999, Val Loss: 0.0308\n",
      "714/714 [==============================] - 252s 337ms/step - loss: 0.2999 - val_loss: 0.0308\n",
      "\n",
      "Starting Epoch 2...\n",
      "Epoch 2/20\n",
      "714/714 [==============================] - ETA: 0s - loss: 0.0305\n",
      "Epoch 2: val_loss improved from 0.0308 to 0.0258\n",
      "Saving model to /home/apyba3/PICAR-autopilot/MobNetV3Small_Kaggle/checkpoints/finetuned_50epochs_mobnetv3small_regression_checkpoint.keras\n",
      "Completed Epoch 2, Loss: 0.0305, Val Loss: 0.0258\n",
      "714/714 [==============================] - 241s 332ms/step - loss: 0.0305 - val_loss: 0.0258\n",
      "\n",
      "Starting Epoch 3...\n",
      "Epoch 3/20\n",
      "714/714 [==============================] - ETA: 0s - loss: 0.0257Completed Epoch 3, Loss: 0.0257, Val Loss: 0.0293\n",
      "714/714 [==============================] - 240s 331ms/step - loss: 0.0257 - val_loss: 0.0293\n",
      "\n",
      "Starting Epoch 4...\n",
      "Epoch 4/20\n",
      "714/714 [==============================] - ETA: 0s - loss: 0.0245Completed Epoch 4, Loss: 0.0245, Val Loss: 0.0964\n",
      "714/714 [==============================] - 240s 331ms/step - loss: 0.0245 - val_loss: 0.0964\n",
      "\n",
      "Starting Epoch 5...\n",
      "Epoch 5/20\n",
      "714/714 [==============================] - ETA: 0s - loss: 0.0207Completed Epoch 5, Loss: 0.0207, Val Loss: 0.0390\n",
      "714/714 [==============================] - 240s 331ms/step - loss: 0.0207 - val_loss: 0.0390\n",
      "\n",
      "Starting Epoch 6...\n",
      "Epoch 6/20\n",
      "714/714 [==============================] - ETA: 0s - loss: 0.0161Completed Epoch 6, Loss: 0.0161, Val Loss: 0.0670\n",
      "714/714 [==============================] - 239s 330ms/step - loss: 0.0161 - val_loss: 0.0670\n",
      "\n",
      "Starting Epoch 7...\n",
      "Epoch 7/20\n",
      "714/714 [==============================] - ETA: 0s - loss: 0.0134Completed Epoch 7, Loss: 0.0134, Val Loss: 0.0383\n",
      "714/714 [==============================] - 239s 330ms/step - loss: 0.0134 - val_loss: 0.0383\n",
      "\n",
      "Starting Epoch 8...\n",
      "Epoch 8/20\n",
      "714/714 [==============================] - ETA: 0s - loss: 0.0110\n",
      "Epoch 8: val_loss improved from 0.0258 to 0.0147\n",
      "Saving model to /home/apyba3/PICAR-autopilot/MobNetV3Small_Kaggle/checkpoints/finetuned_50epochs_mobnetv3small_regression_checkpoint.keras\n",
      "Completed Epoch 8, Loss: 0.0110, Val Loss: 0.0147\n",
      "714/714 [==============================] - 240s 330ms/step - loss: 0.0110 - val_loss: 0.0147\n",
      "\n",
      "Starting Epoch 9...\n",
      "Epoch 9/20\n",
      "714/714 [==============================] - ETA: 0s - loss: 0.0091Completed Epoch 9, Loss: 0.0091, Val Loss: 0.0228\n",
      "714/714 [==============================] - 239s 330ms/step - loss: 0.0091 - val_loss: 0.0228\n",
      "\n",
      "Starting Epoch 10...\n",
      "Epoch 10/20\n",
      "714/714 [==============================] - ETA: 0s - loss: 0.0083Completed Epoch 10, Loss: 0.0083, Val Loss: 0.0150\n",
      "714/714 [==============================] - 239s 330ms/step - loss: 0.0083 - val_loss: 0.0150\n",
      "\n",
      "Starting Epoch 11...\n",
      "Epoch 11/20\n",
      "714/714 [==============================] - ETA: 0s - loss: 0.0074\n",
      "Epoch 11: val_loss improved from 0.0147 to 0.0092\n",
      "Saving model to /home/apyba3/PICAR-autopilot/MobNetV3Small_Kaggle/checkpoints/finetuned_50epochs_mobnetv3small_regression_checkpoint.keras\n",
      "Completed Epoch 11, Loss: 0.0074, Val Loss: 0.0092\n",
      "714/714 [==============================] - 239s 330ms/step - loss: 0.0074 - val_loss: 0.0092\n",
      "\n",
      "Starting Epoch 12...\n",
      "Epoch 12/20\n",
      "714/714 [==============================] - ETA: 0s - loss: 0.0068Completed Epoch 12, Loss: 0.0068, Val Loss: 0.0092\n",
      "714/714 [==============================] - 239s 330ms/step - loss: 0.0068 - val_loss: 0.0092\n",
      "\n",
      "Starting Epoch 13...\n",
      "Epoch 13/20\n",
      "714/714 [==============================] - ETA: 0s - loss: 0.0065\n",
      "Epoch 13: val_loss improved from 0.0092 to 0.0091\n",
      "Saving model to /home/apyba3/PICAR-autopilot/MobNetV3Small_Kaggle/checkpoints/finetuned_50epochs_mobnetv3small_regression_checkpoint.keras\n",
      "Completed Epoch 13, Loss: 0.0065, Val Loss: 0.0091\n",
      "714/714 [==============================] - 240s 330ms/step - loss: 0.0065 - val_loss: 0.0091\n",
      "\n",
      "Starting Epoch 14...\n",
      "Epoch 14/20\n",
      "714/714 [==============================] - ETA: 0s - loss: 0.0060\n",
      "Epoch 14: val_loss improved from 0.0091 to 0.0080\n",
      "Saving model to /home/apyba3/PICAR-autopilot/MobNetV3Small_Kaggle/checkpoints/finetuned_50epochs_mobnetv3small_regression_checkpoint.keras\n",
      "Completed Epoch 14, Loss: 0.0060, Val Loss: 0.0080\n",
      "714/714 [==============================] - 240s 330ms/step - loss: 0.0060 - val_loss: 0.0080\n",
      "\n",
      "Starting Epoch 15...\n",
      "Epoch 15/20\n",
      "714/714 [==============================] - ETA: 0s - loss: 0.0057Completed Epoch 15, Loss: 0.0057, Val Loss: 0.0094\n",
      "714/714 [==============================] - 239s 330ms/step - loss: 0.0057 - val_loss: 0.0094\n",
      "\n",
      "Starting Epoch 16...\n",
      "Epoch 16/20\n",
      "  1/714 [..............................] - ETA: 47:24 - loss: 0.0080"
     ]
    },
    {
     "ename": "KeyboardInterrupt",
     "evalue": "",
     "output_type": "error",
     "traceback": [
      "\u001b[0;31m---------------------------------------------------------------------------\u001b[0m",
      "\u001b[0;31mKeyboardInterrupt\u001b[0m                         Traceback (most recent call last)",
      "Cell \u001b[0;32mIn[65], line 26\u001b[0m\n\u001b[1;32m     19\u001b[0m epoch_callback \u001b[38;5;241m=\u001b[39m LambdaCallback(\n\u001b[1;32m     20\u001b[0m     on_epoch_begin\u001b[38;5;241m=\u001b[39m\u001b[38;5;28;01mlambda\u001b[39;00m epoch, logs: \u001b[38;5;28mprint\u001b[39m(\u001b[38;5;124mf\u001b[39m\u001b[38;5;124m\"\u001b[39m\u001b[38;5;130;01m\\n\u001b[39;00m\u001b[38;5;124mStarting Epoch \u001b[39m\u001b[38;5;132;01m{\u001b[39;00mepoch\u001b[38;5;250m \u001b[39m\u001b[38;5;241m+\u001b[39m\u001b[38;5;250m \u001b[39m\u001b[38;5;241m1\u001b[39m\u001b[38;5;132;01m}\u001b[39;00m\u001b[38;5;124m...\u001b[39m\u001b[38;5;124m\"\u001b[39m),\n\u001b[1;32m     21\u001b[0m     on_epoch_end\u001b[38;5;241m=\u001b[39m\u001b[38;5;28;01mlambda\u001b[39;00m epoch, logs: \u001b[38;5;28mprint\u001b[39m(\u001b[38;5;124mf\u001b[39m\u001b[38;5;124m\"\u001b[39m\u001b[38;5;124mCompleted Epoch \u001b[39m\u001b[38;5;132;01m{\u001b[39;00mepoch\u001b[38;5;250m \u001b[39m\u001b[38;5;241m+\u001b[39m\u001b[38;5;250m \u001b[39m\u001b[38;5;241m1\u001b[39m\u001b[38;5;132;01m}\u001b[39;00m\u001b[38;5;124m, Loss: \u001b[39m\u001b[38;5;132;01m{\u001b[39;00mlogs[\u001b[38;5;124m'\u001b[39m\u001b[38;5;124mloss\u001b[39m\u001b[38;5;124m'\u001b[39m]\u001b[38;5;132;01m:\u001b[39;00m\u001b[38;5;124m.4f\u001b[39m\u001b[38;5;132;01m}\u001b[39;00m\u001b[38;5;124m, Val Loss: \u001b[39m\u001b[38;5;132;01m{\u001b[39;00mlogs[\u001b[38;5;124m'\u001b[39m\u001b[38;5;124mval_loss\u001b[39m\u001b[38;5;124m'\u001b[39m]\u001b[38;5;132;01m:\u001b[39;00m\u001b[38;5;124m.4f\u001b[39m\u001b[38;5;132;01m}\u001b[39;00m\u001b[38;5;124m\"\u001b[39m)\n\u001b[1;32m     22\u001b[0m )\n\u001b[1;32m     24\u001b[0m \u001b[38;5;66;03m# Training with callbacks\u001b[39;00m\n\u001b[1;32m     25\u001b[0m \u001b[38;5;66;03m# Note: Removed batch_size parameter since it should be in the dataset definition\u001b[39;00m\n\u001b[0;32m---> 26\u001b[0m history \u001b[38;5;241m=\u001b[39m \u001b[43mmodel\u001b[49m\u001b[38;5;241;43m.\u001b[39;49m\u001b[43mfit\u001b[49m\u001b[43m(\u001b[49m\n\u001b[1;32m     27\u001b[0m \u001b[43m    \u001b[49m\u001b[43mtrain_dataset\u001b[49m\u001b[43m,\u001b[49m\n\u001b[1;32m     28\u001b[0m \u001b[43m    \u001b[49m\u001b[43mvalidation_data\u001b[49m\u001b[38;5;241;43m=\u001b[39;49m\u001b[43mval_dataset\u001b[49m\u001b[43m,\u001b[49m\n\u001b[1;32m     29\u001b[0m \u001b[43m    \u001b[49m\u001b[43mepochs\u001b[49m\u001b[38;5;241;43m=\u001b[39;49m\u001b[38;5;241;43m20\u001b[39;49m\u001b[43m,\u001b[49m\n\u001b[1;32m     30\u001b[0m \u001b[43m    \u001b[49m\u001b[43mcallbacks\u001b[49m\u001b[38;5;241;43m=\u001b[39;49m\u001b[43m[\u001b[49m\u001b[43mcustom_checkpoint\u001b[49m\u001b[43m,\u001b[49m\u001b[43m \u001b[49m\u001b[43mepoch_callback\u001b[49m\u001b[43m]\u001b[49m\n\u001b[1;32m     31\u001b[0m \u001b[43m)\u001b[49m\n",
      "File \u001b[0;32m~/anaconda3/envs/car_env/lib/python3.8/site-packages/keras/src/utils/traceback_utils.py:65\u001b[0m, in \u001b[0;36mfilter_traceback.<locals>.error_handler\u001b[0;34m(*args, **kwargs)\u001b[0m\n\u001b[1;32m     63\u001b[0m filtered_tb \u001b[38;5;241m=\u001b[39m \u001b[38;5;28;01mNone\u001b[39;00m\n\u001b[1;32m     64\u001b[0m \u001b[38;5;28;01mtry\u001b[39;00m:\n\u001b[0;32m---> 65\u001b[0m     \u001b[38;5;28;01mreturn\u001b[39;00m \u001b[43mfn\u001b[49m\u001b[43m(\u001b[49m\u001b[38;5;241;43m*\u001b[39;49m\u001b[43margs\u001b[49m\u001b[43m,\u001b[49m\u001b[43m \u001b[49m\u001b[38;5;241;43m*\u001b[39;49m\u001b[38;5;241;43m*\u001b[39;49m\u001b[43mkwargs\u001b[49m\u001b[43m)\u001b[49m\n\u001b[1;32m     66\u001b[0m \u001b[38;5;28;01mexcept\u001b[39;00m \u001b[38;5;167;01mException\u001b[39;00m \u001b[38;5;28;01mas\u001b[39;00m e:\n\u001b[1;32m     67\u001b[0m     filtered_tb \u001b[38;5;241m=\u001b[39m _process_traceback_frames(e\u001b[38;5;241m.\u001b[39m__traceback__)\n",
      "File \u001b[0;32m~/anaconda3/envs/car_env/lib/python3.8/site-packages/keras/src/engine/training.py:1742\u001b[0m, in \u001b[0;36mModel.fit\u001b[0;34m(self, x, y, batch_size, epochs, verbose, callbacks, validation_split, validation_data, shuffle, class_weight, sample_weight, initial_epoch, steps_per_epoch, validation_steps, validation_batch_size, validation_freq, max_queue_size, workers, use_multiprocessing)\u001b[0m\n\u001b[1;32m   1734\u001b[0m \u001b[38;5;28;01mwith\u001b[39;00m tf\u001b[38;5;241m.\u001b[39mprofiler\u001b[38;5;241m.\u001b[39mexperimental\u001b[38;5;241m.\u001b[39mTrace(\n\u001b[1;32m   1735\u001b[0m     \u001b[38;5;124m\"\u001b[39m\u001b[38;5;124mtrain\u001b[39m\u001b[38;5;124m\"\u001b[39m,\n\u001b[1;32m   1736\u001b[0m     epoch_num\u001b[38;5;241m=\u001b[39mepoch,\n\u001b[0;32m   (...)\u001b[0m\n\u001b[1;32m   1739\u001b[0m     _r\u001b[38;5;241m=\u001b[39m\u001b[38;5;241m1\u001b[39m,\n\u001b[1;32m   1740\u001b[0m ):\n\u001b[1;32m   1741\u001b[0m     callbacks\u001b[38;5;241m.\u001b[39mon_train_batch_begin(step)\n\u001b[0;32m-> 1742\u001b[0m     tmp_logs \u001b[38;5;241m=\u001b[39m \u001b[38;5;28;43mself\u001b[39;49m\u001b[38;5;241;43m.\u001b[39;49m\u001b[43mtrain_function\u001b[49m\u001b[43m(\u001b[49m\u001b[43miterator\u001b[49m\u001b[43m)\u001b[49m\n\u001b[1;32m   1743\u001b[0m     \u001b[38;5;28;01mif\u001b[39;00m data_handler\u001b[38;5;241m.\u001b[39mshould_sync:\n\u001b[1;32m   1744\u001b[0m         context\u001b[38;5;241m.\u001b[39masync_wait()\n",
      "File \u001b[0;32m~/anaconda3/envs/car_env/lib/python3.8/site-packages/tensorflow/python/util/traceback_utils.py:150\u001b[0m, in \u001b[0;36mfilter_traceback.<locals>.error_handler\u001b[0;34m(*args, **kwargs)\u001b[0m\n\u001b[1;32m    148\u001b[0m filtered_tb \u001b[38;5;241m=\u001b[39m \u001b[38;5;28;01mNone\u001b[39;00m\n\u001b[1;32m    149\u001b[0m \u001b[38;5;28;01mtry\u001b[39;00m:\n\u001b[0;32m--> 150\u001b[0m   \u001b[38;5;28;01mreturn\u001b[39;00m \u001b[43mfn\u001b[49m\u001b[43m(\u001b[49m\u001b[38;5;241;43m*\u001b[39;49m\u001b[43margs\u001b[49m\u001b[43m,\u001b[49m\u001b[43m \u001b[49m\u001b[38;5;241;43m*\u001b[39;49m\u001b[38;5;241;43m*\u001b[39;49m\u001b[43mkwargs\u001b[49m\u001b[43m)\u001b[49m\n\u001b[1;32m    151\u001b[0m \u001b[38;5;28;01mexcept\u001b[39;00m \u001b[38;5;167;01mException\u001b[39;00m \u001b[38;5;28;01mas\u001b[39;00m e:\n\u001b[1;32m    152\u001b[0m   filtered_tb \u001b[38;5;241m=\u001b[39m _process_traceback_frames(e\u001b[38;5;241m.\u001b[39m__traceback__)\n",
      "File \u001b[0;32m~/anaconda3/envs/car_env/lib/python3.8/site-packages/tensorflow/python/eager/polymorphic_function/polymorphic_function.py:825\u001b[0m, in \u001b[0;36mFunction.__call__\u001b[0;34m(self, *args, **kwds)\u001b[0m\n\u001b[1;32m    822\u001b[0m compiler \u001b[38;5;241m=\u001b[39m \u001b[38;5;124m\"\u001b[39m\u001b[38;5;124mxla\u001b[39m\u001b[38;5;124m\"\u001b[39m \u001b[38;5;28;01mif\u001b[39;00m \u001b[38;5;28mself\u001b[39m\u001b[38;5;241m.\u001b[39m_jit_compile \u001b[38;5;28;01melse\u001b[39;00m \u001b[38;5;124m\"\u001b[39m\u001b[38;5;124mnonXla\u001b[39m\u001b[38;5;124m\"\u001b[39m\n\u001b[1;32m    824\u001b[0m \u001b[38;5;28;01mwith\u001b[39;00m OptionalXlaContext(\u001b[38;5;28mself\u001b[39m\u001b[38;5;241m.\u001b[39m_jit_compile):\n\u001b[0;32m--> 825\u001b[0m   result \u001b[38;5;241m=\u001b[39m \u001b[38;5;28;43mself\u001b[39;49m\u001b[38;5;241;43m.\u001b[39;49m\u001b[43m_call\u001b[49m\u001b[43m(\u001b[49m\u001b[38;5;241;43m*\u001b[39;49m\u001b[43margs\u001b[49m\u001b[43m,\u001b[49m\u001b[43m \u001b[49m\u001b[38;5;241;43m*\u001b[39;49m\u001b[38;5;241;43m*\u001b[39;49m\u001b[43mkwds\u001b[49m\u001b[43m)\u001b[49m\n\u001b[1;32m    827\u001b[0m new_tracing_count \u001b[38;5;241m=\u001b[39m \u001b[38;5;28mself\u001b[39m\u001b[38;5;241m.\u001b[39mexperimental_get_tracing_count()\n\u001b[1;32m    828\u001b[0m without_tracing \u001b[38;5;241m=\u001b[39m (tracing_count \u001b[38;5;241m==\u001b[39m new_tracing_count)\n",
      "File \u001b[0;32m~/anaconda3/envs/car_env/lib/python3.8/site-packages/tensorflow/python/eager/polymorphic_function/polymorphic_function.py:857\u001b[0m, in \u001b[0;36mFunction._call\u001b[0;34m(self, *args, **kwds)\u001b[0m\n\u001b[1;32m    854\u001b[0m   \u001b[38;5;28mself\u001b[39m\u001b[38;5;241m.\u001b[39m_lock\u001b[38;5;241m.\u001b[39mrelease()\n\u001b[1;32m    855\u001b[0m   \u001b[38;5;66;03m# In this case we have created variables on the first call, so we run the\u001b[39;00m\n\u001b[1;32m    856\u001b[0m   \u001b[38;5;66;03m# defunned version which is guaranteed to never create variables.\u001b[39;00m\n\u001b[0;32m--> 857\u001b[0m   \u001b[38;5;28;01mreturn\u001b[39;00m \u001b[38;5;28;43mself\u001b[39;49m\u001b[38;5;241;43m.\u001b[39;49m\u001b[43m_no_variable_creation_fn\u001b[49m\u001b[43m(\u001b[49m\u001b[38;5;241;43m*\u001b[39;49m\u001b[43margs\u001b[49m\u001b[43m,\u001b[49m\u001b[43m \u001b[49m\u001b[38;5;241;43m*\u001b[39;49m\u001b[38;5;241;43m*\u001b[39;49m\u001b[43mkwds\u001b[49m\u001b[43m)\u001b[49m  \u001b[38;5;66;03m# pylint: disable=not-callable\u001b[39;00m\n\u001b[1;32m    858\u001b[0m \u001b[38;5;28;01melif\u001b[39;00m \u001b[38;5;28mself\u001b[39m\u001b[38;5;241m.\u001b[39m_variable_creation_fn \u001b[38;5;129;01mis\u001b[39;00m \u001b[38;5;129;01mnot\u001b[39;00m \u001b[38;5;28;01mNone\u001b[39;00m:\n\u001b[1;32m    859\u001b[0m   \u001b[38;5;66;03m# Release the lock early so that multiple threads can perform the call\u001b[39;00m\n\u001b[1;32m    860\u001b[0m   \u001b[38;5;66;03m# in parallel.\u001b[39;00m\n\u001b[1;32m    861\u001b[0m   \u001b[38;5;28mself\u001b[39m\u001b[38;5;241m.\u001b[39m_lock\u001b[38;5;241m.\u001b[39mrelease()\n",
      "File \u001b[0;32m~/anaconda3/envs/car_env/lib/python3.8/site-packages/tensorflow/python/eager/polymorphic_function/tracing_compiler.py:148\u001b[0m, in \u001b[0;36mTracingCompiler.__call__\u001b[0;34m(self, *args, **kwargs)\u001b[0m\n\u001b[1;32m    145\u001b[0m \u001b[38;5;28;01mwith\u001b[39;00m \u001b[38;5;28mself\u001b[39m\u001b[38;5;241m.\u001b[39m_lock:\n\u001b[1;32m    146\u001b[0m   (concrete_function,\n\u001b[1;32m    147\u001b[0m    filtered_flat_args) \u001b[38;5;241m=\u001b[39m \u001b[38;5;28mself\u001b[39m\u001b[38;5;241m.\u001b[39m_maybe_define_function(args, kwargs)\n\u001b[0;32m--> 148\u001b[0m \u001b[38;5;28;01mreturn\u001b[39;00m \u001b[43mconcrete_function\u001b[49m\u001b[38;5;241;43m.\u001b[39;49m\u001b[43m_call_flat\u001b[49m\u001b[43m(\u001b[49m\n\u001b[1;32m    149\u001b[0m \u001b[43m    \u001b[49m\u001b[43mfiltered_flat_args\u001b[49m\u001b[43m,\u001b[49m\u001b[43m \u001b[49m\u001b[43mcaptured_inputs\u001b[49m\u001b[38;5;241;43m=\u001b[39;49m\u001b[43mconcrete_function\u001b[49m\u001b[38;5;241;43m.\u001b[39;49m\u001b[43mcaptured_inputs\u001b[49m\u001b[43m)\u001b[49m\n",
      "File \u001b[0;32m~/anaconda3/envs/car_env/lib/python3.8/site-packages/tensorflow/python/eager/polymorphic_function/monomorphic_function.py:1349\u001b[0m, in \u001b[0;36mConcreteFunction._call_flat\u001b[0;34m(self, args, captured_inputs)\u001b[0m\n\u001b[1;32m   1345\u001b[0m possible_gradient_type \u001b[38;5;241m=\u001b[39m gradients_util\u001b[38;5;241m.\u001b[39mPossibleTapeGradientTypes(args)\n\u001b[1;32m   1346\u001b[0m \u001b[38;5;28;01mif\u001b[39;00m (possible_gradient_type \u001b[38;5;241m==\u001b[39m gradients_util\u001b[38;5;241m.\u001b[39mPOSSIBLE_GRADIENT_TYPES_NONE\n\u001b[1;32m   1347\u001b[0m     \u001b[38;5;129;01mand\u001b[39;00m executing_eagerly):\n\u001b[1;32m   1348\u001b[0m   \u001b[38;5;66;03m# No tape is watching; skip to running the function.\u001b[39;00m\n\u001b[0;32m-> 1349\u001b[0m   \u001b[38;5;28;01mreturn\u001b[39;00m \u001b[38;5;28mself\u001b[39m\u001b[38;5;241m.\u001b[39m_build_call_outputs(\u001b[38;5;28;43mself\u001b[39;49m\u001b[38;5;241;43m.\u001b[39;49m\u001b[43m_inference_function\u001b[49m\u001b[43m(\u001b[49m\u001b[38;5;241;43m*\u001b[39;49m\u001b[43margs\u001b[49m\u001b[43m)\u001b[49m)\n\u001b[1;32m   1350\u001b[0m forward_backward \u001b[38;5;241m=\u001b[39m \u001b[38;5;28mself\u001b[39m\u001b[38;5;241m.\u001b[39m_select_forward_and_backward_functions(\n\u001b[1;32m   1351\u001b[0m     args,\n\u001b[1;32m   1352\u001b[0m     possible_gradient_type,\n\u001b[1;32m   1353\u001b[0m     executing_eagerly)\n\u001b[1;32m   1354\u001b[0m forward_function, args_with_tangents \u001b[38;5;241m=\u001b[39m forward_backward\u001b[38;5;241m.\u001b[39mforward()\n",
      "File \u001b[0;32m~/anaconda3/envs/car_env/lib/python3.8/site-packages/tensorflow/python/eager/polymorphic_function/atomic_function.py:196\u001b[0m, in \u001b[0;36mAtomicFunction.__call__\u001b[0;34m(self, *args)\u001b[0m\n\u001b[1;32m    194\u001b[0m \u001b[38;5;28;01mwith\u001b[39;00m record\u001b[38;5;241m.\u001b[39mstop_recording():\n\u001b[1;32m    195\u001b[0m   \u001b[38;5;28;01mif\u001b[39;00m \u001b[38;5;28mself\u001b[39m\u001b[38;5;241m.\u001b[39m_bound_context\u001b[38;5;241m.\u001b[39mexecuting_eagerly():\n\u001b[0;32m--> 196\u001b[0m     outputs \u001b[38;5;241m=\u001b[39m \u001b[38;5;28;43mself\u001b[39;49m\u001b[38;5;241;43m.\u001b[39;49m\u001b[43m_bound_context\u001b[49m\u001b[38;5;241;43m.\u001b[39;49m\u001b[43mcall_function\u001b[49m\u001b[43m(\u001b[49m\n\u001b[1;32m    197\u001b[0m \u001b[43m        \u001b[49m\u001b[38;5;28;43mself\u001b[39;49m\u001b[38;5;241;43m.\u001b[39;49m\u001b[43mname\u001b[49m\u001b[43m,\u001b[49m\n\u001b[1;32m    198\u001b[0m \u001b[43m        \u001b[49m\u001b[38;5;28;43mlist\u001b[39;49m\u001b[43m(\u001b[49m\u001b[43margs\u001b[49m\u001b[43m)\u001b[49m\u001b[43m,\u001b[49m\n\u001b[1;32m    199\u001b[0m \u001b[43m        \u001b[49m\u001b[38;5;28;43mlen\u001b[39;49m\u001b[43m(\u001b[49m\u001b[38;5;28;43mself\u001b[39;49m\u001b[38;5;241;43m.\u001b[39;49m\u001b[43mfunction_type\u001b[49m\u001b[38;5;241;43m.\u001b[39;49m\u001b[43mflat_outputs\u001b[49m\u001b[43m)\u001b[49m\u001b[43m,\u001b[49m\n\u001b[1;32m    200\u001b[0m \u001b[43m    \u001b[49m\u001b[43m)\u001b[49m\n\u001b[1;32m    201\u001b[0m   \u001b[38;5;28;01melse\u001b[39;00m:\n\u001b[1;32m    202\u001b[0m     outputs \u001b[38;5;241m=\u001b[39m make_call_op_in_graph(\u001b[38;5;28mself\u001b[39m, \u001b[38;5;28mlist\u001b[39m(args))\n",
      "File \u001b[0;32m~/anaconda3/envs/car_env/lib/python3.8/site-packages/tensorflow/python/eager/context.py:1457\u001b[0m, in \u001b[0;36mContext.call_function\u001b[0;34m(self, name, tensor_inputs, num_outputs)\u001b[0m\n\u001b[1;32m   1455\u001b[0m cancellation_context \u001b[38;5;241m=\u001b[39m cancellation\u001b[38;5;241m.\u001b[39mcontext()\n\u001b[1;32m   1456\u001b[0m \u001b[38;5;28;01mif\u001b[39;00m cancellation_context \u001b[38;5;129;01mis\u001b[39;00m \u001b[38;5;28;01mNone\u001b[39;00m:\n\u001b[0;32m-> 1457\u001b[0m   outputs \u001b[38;5;241m=\u001b[39m \u001b[43mexecute\u001b[49m\u001b[38;5;241;43m.\u001b[39;49m\u001b[43mexecute\u001b[49m\u001b[43m(\u001b[49m\n\u001b[1;32m   1458\u001b[0m \u001b[43m      \u001b[49m\u001b[43mname\u001b[49m\u001b[38;5;241;43m.\u001b[39;49m\u001b[43mdecode\u001b[49m\u001b[43m(\u001b[49m\u001b[38;5;124;43m\"\u001b[39;49m\u001b[38;5;124;43mutf-8\u001b[39;49m\u001b[38;5;124;43m\"\u001b[39;49m\u001b[43m)\u001b[49m\u001b[43m,\u001b[49m\n\u001b[1;32m   1459\u001b[0m \u001b[43m      \u001b[49m\u001b[43mnum_outputs\u001b[49m\u001b[38;5;241;43m=\u001b[39;49m\u001b[43mnum_outputs\u001b[49m\u001b[43m,\u001b[49m\n\u001b[1;32m   1460\u001b[0m \u001b[43m      \u001b[49m\u001b[43minputs\u001b[49m\u001b[38;5;241;43m=\u001b[39;49m\u001b[43mtensor_inputs\u001b[49m\u001b[43m,\u001b[49m\n\u001b[1;32m   1461\u001b[0m \u001b[43m      \u001b[49m\u001b[43mattrs\u001b[49m\u001b[38;5;241;43m=\u001b[39;49m\u001b[43mattrs\u001b[49m\u001b[43m,\u001b[49m\n\u001b[1;32m   1462\u001b[0m \u001b[43m      \u001b[49m\u001b[43mctx\u001b[49m\u001b[38;5;241;43m=\u001b[39;49m\u001b[38;5;28;43mself\u001b[39;49m\u001b[43m,\u001b[49m\n\u001b[1;32m   1463\u001b[0m \u001b[43m  \u001b[49m\u001b[43m)\u001b[49m\n\u001b[1;32m   1464\u001b[0m \u001b[38;5;28;01melse\u001b[39;00m:\n\u001b[1;32m   1465\u001b[0m   outputs \u001b[38;5;241m=\u001b[39m execute\u001b[38;5;241m.\u001b[39mexecute_with_cancellation(\n\u001b[1;32m   1466\u001b[0m       name\u001b[38;5;241m.\u001b[39mdecode(\u001b[38;5;124m\"\u001b[39m\u001b[38;5;124mutf-8\u001b[39m\u001b[38;5;124m\"\u001b[39m),\n\u001b[1;32m   1467\u001b[0m       num_outputs\u001b[38;5;241m=\u001b[39mnum_outputs,\n\u001b[0;32m   (...)\u001b[0m\n\u001b[1;32m   1471\u001b[0m       cancellation_manager\u001b[38;5;241m=\u001b[39mcancellation_context,\n\u001b[1;32m   1472\u001b[0m   )\n",
      "File \u001b[0;32m~/anaconda3/envs/car_env/lib/python3.8/site-packages/tensorflow/python/eager/execute.py:53\u001b[0m, in \u001b[0;36mquick_execute\u001b[0;34m(op_name, num_outputs, inputs, attrs, ctx, name)\u001b[0m\n\u001b[1;32m     51\u001b[0m \u001b[38;5;28;01mtry\u001b[39;00m:\n\u001b[1;32m     52\u001b[0m   ctx\u001b[38;5;241m.\u001b[39mensure_initialized()\n\u001b[0;32m---> 53\u001b[0m   tensors \u001b[38;5;241m=\u001b[39m \u001b[43mpywrap_tfe\u001b[49m\u001b[38;5;241;43m.\u001b[39;49m\u001b[43mTFE_Py_Execute\u001b[49m\u001b[43m(\u001b[49m\u001b[43mctx\u001b[49m\u001b[38;5;241;43m.\u001b[39;49m\u001b[43m_handle\u001b[49m\u001b[43m,\u001b[49m\u001b[43m \u001b[49m\u001b[43mdevice_name\u001b[49m\u001b[43m,\u001b[49m\u001b[43m \u001b[49m\u001b[43mop_name\u001b[49m\u001b[43m,\u001b[49m\n\u001b[1;32m     54\u001b[0m \u001b[43m                                      \u001b[49m\u001b[43minputs\u001b[49m\u001b[43m,\u001b[49m\u001b[43m \u001b[49m\u001b[43mattrs\u001b[49m\u001b[43m,\u001b[49m\u001b[43m \u001b[49m\u001b[43mnum_outputs\u001b[49m\u001b[43m)\u001b[49m\n\u001b[1;32m     55\u001b[0m \u001b[38;5;28;01mexcept\u001b[39;00m core\u001b[38;5;241m.\u001b[39m_NotOkStatusException \u001b[38;5;28;01mas\u001b[39;00m e:\n\u001b[1;32m     56\u001b[0m   \u001b[38;5;28;01mif\u001b[39;00m name \u001b[38;5;129;01mis\u001b[39;00m \u001b[38;5;129;01mnot\u001b[39;00m \u001b[38;5;28;01mNone\u001b[39;00m:\n",
      "\u001b[0;31mKeyboardInterrupt\u001b[0m: "
     ]
    }
   ],
   "source": [
    "# Define checkpoint directory and create it if it doesn't exist\n",
    "checkpoint_dir = '/home/apyba3/PICAR-autopilot/MobNetV3Small_Kaggle/checkpoints'\n",
    "os.makedirs(checkpoint_dir, exist_ok=True)\n",
    "\n",
    "# Define checkpoint filepath for the finetuned regression model\n",
    "checkpoint_filepath = os.path.join(checkpoint_dir, 'finetuned_50epochs_mobnetv3small_regression_checkpoint.keras')\n",
    "\n",
    "# Create custom checkpoint callback\n",
    "# Using the CustomModelCheckpoint class already defined\n",
    "custom_checkpoint = CustomModelCheckpoint(\n",
    "    filepath=checkpoint_filepath,\n",
    "    monitor='val_loss',\n",
    "    save_best_only=True,\n",
    "    mode='min',\n",
    "    verbose=1\n",
    ")\n",
    "\n",
    "# Define epoch callback \n",
    "epoch_callback = LambdaCallback(\n",
    "    on_epoch_begin=lambda epoch, logs: print(f\"\\nStarting Epoch {epoch + 1}...\"),\n",
    "    on_epoch_end=lambda epoch, logs: print(f\"Completed Epoch {epoch + 1}, Loss: {logs['loss']:.4f}, Val Loss: {logs['val_loss']:.4f}\")\n",
    ")\n",
    "\n",
    "# Training with callbacks\n",
    "# Note: Removed batch_size parameter since it should be in the dataset definition\n",
    "history = model.fit(\n",
    "    train_dataset,\n",
    "    validation_data=val_dataset,\n",
    "    epochs=20,\n",
    "    callbacks=[custom_checkpoint, epoch_callback]\n",
    ")"
   ]
  },
  {
   "cell_type": "markdown",
   "metadata": {},
   "source": [
    "save final model"
   ]
  },
  {
   "cell_type": "code",
   "execution_count": 66,
   "metadata": {},
   "outputs": [
    {
     "name": "stdout",
     "output_type": "stream",
     "text": [
      "Final model saved to /home/apyba3/PICAR-autopilot-1/autopilot/models/BenTyler_MLiSards/regression_finetuned_50epochs_mobnetv3small_model.keras\n"
     ]
    }
   ],
   "source": [
    "# Save the final model\n",
    "model_path = '/home/apyba3/PICAR-autopilot-1/autopilot/models/BenTyler_MLiSards/regression_finetuned_50epochs_mobnetv3small_model.keras'\n",
    "model.save(model_path)\n",
    "print(f\"Final model saved to {model_path}\")"
   ]
  },
  {
   "cell_type": "markdown",
   "metadata": {},
   "source": [
    "save the weights learned from fine tuning"
   ]
  },
  {
   "cell_type": "code",
   "execution_count": 67,
   "metadata": {
    "id": "O14u6175RLjA"
   },
   "outputs": [],
   "source": [
    "model.save_weights('/home/apyba3/PICAR-autopilot/MobNetV3Small_Kaggle/weights/regressionfintuning_50epochs_mobnetv3small_weights.weights.keras')"
   ]
  },
  {
   "cell_type": "markdown",
   "metadata": {
    "id": "GCbo4VcLxLgQ"
   },
   "source": [
    "# 3) Test-Set Predictions\n",
    "\n",
    "a) load in test data\n",
    "\n",
    "b) convert test images to numerical RGB feature maps\n",
    "\n",
    "c) generate predictions on the test set\n",
    "\n",
    "d) correctly format the predictions into a pandas dataframe\n",
    "\n",
    "e) save predictions to a file inside the hpc (to then later send from hpc to my laptop)"
   ]
  },
  {
   "cell_type": "markdown",
   "metadata": {
    "id": "HnygDJsKxYhA"
   },
   "source": [
    "### 3a) load in test data"
   ]
  },
  {
   "cell_type": "code",
   "execution_count": null,
   "metadata": {
    "colab": {
     "base_uri": "https://localhost:8080/",
     "height": 238
    },
    "id": "W-e59lQQRXKK",
    "outputId": "aa8566ec-e472-47a6-c7a0-92266b567a62"
   },
   "outputs": [
    {
     "data": {
      "text/html": [
       "<div>\n",
       "<style scoped>\n",
       "    .dataframe tbody tr th:only-of-type {\n",
       "        vertical-align: middle;\n",
       "    }\n",
       "\n",
       "    .dataframe tbody tr th {\n",
       "        vertical-align: top;\n",
       "    }\n",
       "\n",
       "    .dataframe thead th {\n",
       "        text-align: right;\n",
       "    }\n",
       "</style>\n",
       "<table border=\"1\" class=\"dataframe\">\n",
       "  <thead>\n",
       "    <tr style=\"text-align: right;\">\n",
       "      <th></th>\n",
       "      <th>image_file_paths</th>\n",
       "    </tr>\n",
       "    <tr>\n",
       "      <th>image_id</th>\n",
       "      <th></th>\n",
       "    </tr>\n",
       "  </thead>\n",
       "  <tbody>\n",
       "    <tr>\n",
       "      <th>1</th>\n",
       "      <td>/home/apyba3/KAGGLEDATAmachine-learning-in-science-ii-2025/test_data/test_data/1.png</td>\n",
       "    </tr>\n",
       "    <tr>\n",
       "      <th>2</th>\n",
       "      <td>/home/apyba3/KAGGLEDATAmachine-learning-in-science-ii-2025/test_data/test_data/2.png</td>\n",
       "    </tr>\n",
       "    <tr>\n",
       "      <th>3</th>\n",
       "      <td>/home/apyba3/KAGGLEDATAmachine-learning-in-science-ii-2025/test_data/test_data/3.png</td>\n",
       "    </tr>\n",
       "    <tr>\n",
       "      <th>4</th>\n",
       "      <td>/home/apyba3/KAGGLEDATAmachine-learning-in-science-ii-2025/test_data/test_data/4.png</td>\n",
       "    </tr>\n",
       "    <tr>\n",
       "      <th>5</th>\n",
       "      <td>/home/apyba3/KAGGLEDATAmachine-learning-in-science-ii-2025/test_data/test_data/5.png</td>\n",
       "    </tr>\n",
       "  </tbody>\n",
       "</table>\n",
       "</div>"
      ],
      "text/plain": [
       "                                                                              image_file_paths\n",
       "image_id                                                                                      \n",
       "1         /home/apyba3/KAGGLEDATAmachine-learning-in-science-ii-2025/test_data/test_data/1.png\n",
       "2         /home/apyba3/KAGGLEDATAmachine-learning-in-science-ii-2025/test_data/test_data/2.png\n",
       "3         /home/apyba3/KAGGLEDATAmachine-learning-in-science-ii-2025/test_data/test_data/3.png\n",
       "4         /home/apyba3/KAGGLEDATAmachine-learning-in-science-ii-2025/test_data/test_data/4.png\n",
       "5         /home/apyba3/KAGGLEDATAmachine-learning-in-science-ii-2025/test_data/test_data/5.png"
      ]
     },
     "execution_count": 33,
     "metadata": {},
     "output_type": "execute_result"
    }
   ],
   "source": [
    "image_folder_path = '/home/apyba3/KAGGLEDATAmachine-learning-in-science-ii-2025/test_data/test_data'\n",
    "# image_folder_path = '/home/ppyt13/machine-learning-in-science-ii-2025/test_data/test_data' # tylers file path\n",
    "image_file_paths = [\n",
    "    os.path.join(image_folder_path, f)\n",
    "    for f in os.listdir(image_folder_path)\n",
    "    if f.lower().endswith(('.png', '.jpg', '.jpeg'))\n",
    "]\n",
    "\n",
    "image_file_paths.sort(key=lambda x: int(os.path.splitext(os.path.basename(x))[0])) # sorts the files in the right order (1.png, 2.png, 3.png, ...)\n",
    "\n",
    "imagefilepaths_df = pd.DataFrame(\n",
    "    image_file_paths,\n",
    "    columns=['image_file_paths'],\n",
    "    index=[int(os.path.splitext(os.path.basename(path))[0]) for path in image_file_paths]\n",
    ")\n",
    "\n",
    "imagefilepaths_df.index.name = 'image_id'\n",
    "imagefilepaths_df.head()"
   ]
  },
  {
   "cell_type": "markdown",
   "metadata": {
    "id": "t-9i5trTyDTf"
   },
   "source": [
    "### 3b) convert test images to numerical RGB feature maps"
   ]
  },
  {
   "cell_type": "code",
   "execution_count": null,
   "metadata": {
    "id": "3hT_c1s5TAR-"
   },
   "outputs": [],
   "source": [
    "def process_image_no_label(image_path, resized_shape=(224, 224)):\n",
    "    image = tf.io.read_file(image_path)\n",
    "    image = tf.image.decode_jpeg(image, channels=3)  # Use decode_png for PNG images\n",
    "    image = tf.image.resize(image, resized_shape)  # Resize to uniform shape\n",
    "    image = image / 255.0  # Normalize pixel values to [0,1]\n",
    "    return image\n",
    "\n",
    "test_dataset = tf.data.Dataset.from_tensor_slices((imagefilepaths_df[\"image_file_paths\"]))\n",
    "\n",
    "test_dataset = test_dataset.map(process_image_no_label, num_parallel_calls=tf.data.AUTOTUNE)\n",
    "test_dataset = test_dataset.batch(BATCH_SIZE)\n",
    "test_dataset = test_dataset.prefetch(tf.data.AUTOTUNE)"
   ]
  },
  {
   "cell_type": "markdown",
   "metadata": {
    "id": "gobnK7PhyLa2"
   },
   "source": [
    "### 3c) generate predictions on test set"
   ]
  },
  {
   "cell_type": "code",
   "execution_count": null,
   "metadata": {
    "colab": {
     "base_uri": "https://localhost:8080/"
    },
    "id": "NtqcOFr7TAXa",
    "outputId": "73b4c96b-51bf-4e1c-e1b6-e8cde1321984"
   },
   "outputs": [
    {
     "name": "stdout",
     "output_type": "stream",
     "text": [
      "\u001b[1m32/32\u001b[0m \u001b[32m━━━━━━━━━━━━━━━━━━━━\u001b[0m\u001b[37m\u001b[0m \u001b[1m4s\u001b[0m 110ms/step\n"
     ]
    }
   ],
   "source": [
    "predictions = model.predict(test_dataset)"
   ]
  },
  {
   "cell_type": "markdown",
   "metadata": {
    "id": "zT1LJxHTPeQT"
   },
   "source": [
    "### 3d) correctly format the predictions into a pandas dataframe"
   ]
  },
  {
   "cell_type": "code",
   "execution_count": null,
   "metadata": {
    "id": "pFVWGi04fza7"
   },
   "outputs": [],
   "source": [
    "predictions_df = pd.DataFrame(predictions, columns=['angle'])"
   ]
  },
  {
   "cell_type": "code",
   "execution_count": null,
   "metadata": {
    "colab": {
     "base_uri": "https://localhost:8080/",
     "height": 206
    },
    "id": "OnO0K1rReHOT",
    "outputId": "d9cebb2e-3d36-4c7a-b024-eabb646e3bbb"
   },
   "outputs": [
    {
     "data": {
      "text/html": [
       "<div>\n",
       "<style scoped>\n",
       "    .dataframe tbody tr th:only-of-type {\n",
       "        vertical-align: middle;\n",
       "    }\n",
       "\n",
       "    .dataframe tbody tr th {\n",
       "        vertical-align: top;\n",
       "    }\n",
       "\n",
       "    .dataframe thead th {\n",
       "        text-align: right;\n",
       "    }\n",
       "</style>\n",
       "<table border=\"1\" class=\"dataframe\">\n",
       "  <thead>\n",
       "    <tr style=\"text-align: right;\">\n",
       "      <th></th>\n",
       "      <th>angle</th>\n",
       "    </tr>\n",
       "  </thead>\n",
       "  <tbody>\n",
       "    <tr>\n",
       "      <th>0</th>\n",
       "      <td>0.573428</td>\n",
       "    </tr>\n",
       "    <tr>\n",
       "      <th>1</th>\n",
       "      <td>0.732077</td>\n",
       "    </tr>\n",
       "    <tr>\n",
       "      <th>2</th>\n",
       "      <td>0.188098</td>\n",
       "    </tr>\n",
       "    <tr>\n",
       "      <th>3</th>\n",
       "      <td>0.196967</td>\n",
       "    </tr>\n",
       "    <tr>\n",
       "      <th>4</th>\n",
       "      <td>0.169281</td>\n",
       "    </tr>\n",
       "  </tbody>\n",
       "</table>\n",
       "</div>"
      ],
      "text/plain": [
       "      angle\n",
       "0  0.573428\n",
       "1  0.732077\n",
       "2  0.188098\n",
       "3  0.196967\n",
       "4  0.169281"
      ]
     },
     "execution_count": 37,
     "metadata": {},
     "output_type": "execute_result"
    }
   ],
   "source": [
    "predictions_df.head()"
   ]
  },
  {
   "cell_type": "code",
   "execution_count": null,
   "metadata": {
    "colab": {
     "base_uri": "https://localhost:8080/"
    },
    "id": "4CcRKL9KTAfs",
    "outputId": "277533cd-06aa-4709-d44e-9027cc7e9438"
   },
   "outputs": [
    {
     "data": {
      "text/plain": [
       "angle\n",
       "0.254174    1\n",
       "0.573428    1\n",
       "0.732077    1\n",
       "0.188098    1\n",
       "0.196967    1\n",
       "0.169281    1\n",
       "0.660120    1\n",
       "0.653696    1\n",
       "0.743585    1\n",
       "0.631948    1\n",
       "0.566528    1\n",
       "0.581694    1\n",
       "0.715047    1\n",
       "0.448052    1\n",
       "0.543990    1\n",
       "0.228387    1\n",
       "0.558458    1\n",
       "0.557174    1\n",
       "0.724658    1\n",
       "0.452504    1\n",
       "0.128574    1\n",
       "0.850488    1\n",
       "0.225213    1\n",
       "0.224168    1\n",
       "0.731123    1\n",
       "0.689312    1\n",
       "0.674881    1\n",
       "0.631100    1\n",
       "0.203592    1\n",
       "0.608497    1\n",
       "0.671797    1\n",
       "0.671608    1\n",
       "0.662162    1\n",
       "0.190784    1\n",
       "0.438939    1\n",
       "0.697620    1\n",
       "0.564853    1\n",
       "0.514004    1\n",
       "0.656687    1\n",
       "0.581329    1\n",
       "0.440722    1\n",
       "0.705727    1\n",
       "0.691638    1\n",
       "0.739633    1\n",
       "0.653484    1\n",
       "0.515683    1\n",
       "0.577943    1\n",
       "0.541233    1\n",
       "0.654818    1\n",
       "0.256934    1\n",
       "0.746365    1\n",
       "0.581792    1\n",
       "0.663440    1\n",
       "0.165161    1\n",
       "0.117512    1\n",
       "0.152427    1\n",
       "0.525718    1\n",
       "0.215527    1\n",
       "0.531891    1\n",
       "0.419353    1\n",
       "0.447581    1\n",
       "0.497297    1\n",
       "0.508197    1\n",
       "0.181916    1\n",
       "0.627600    1\n",
       "0.222633    1\n",
       "0.526223    1\n",
       "0.459289    1\n",
       "0.817422    1\n",
       "0.399599    1\n",
       "0.542744    1\n",
       "0.690802    1\n",
       "0.786481    1\n",
       "0.731086    1\n",
       "0.622071    1\n",
       "0.439502    1\n",
       "0.395601    1\n",
       "0.670666    1\n",
       "0.455553    1\n",
       "0.537317    1\n",
       "0.690716    1\n",
       "0.691739    1\n",
       "0.488270    1\n",
       "0.743175    1\n",
       "0.739630    1\n",
       "0.473589    1\n",
       "0.680194    1\n",
       "0.652290    1\n",
       "0.647000    1\n",
       "0.747830    1\n",
       "0.502507    1\n",
       "0.639699    1\n",
       "0.684826    1\n",
       "0.533809    1\n",
       "0.752049    1\n",
       "0.616593    1\n",
       "0.588566    1\n",
       "0.524878    1\n",
       "0.440293    1\n",
       "0.484331    1\n",
       "0.674200    1\n",
       "0.699654    1\n",
       "0.414108    1\n",
       "0.499585    1\n",
       "0.677935    1\n",
       "0.463047    1\n",
       "0.639189    1\n",
       "0.468019    1\n",
       "0.709439    1\n",
       "0.701008    1\n",
       "0.335501    1\n",
       "0.479113    1\n",
       "0.303262    1\n",
       "0.615620    1\n",
       "0.625983    1\n",
       "0.189837    1\n",
       "0.642565    1\n",
       "0.206236    1\n",
       "0.660663    1\n",
       "0.420866    1\n",
       "0.329738    1\n",
       "0.653044    1\n",
       "0.483622    1\n",
       "0.622637    1\n",
       "0.434441    1\n",
       "0.440443    1\n",
       "0.711949    1\n",
       "0.664053    1\n",
       "0.652346    1\n",
       "0.541241    1\n",
       "0.547330    1\n",
       "0.559705    1\n",
       "0.655001    1\n",
       "0.184706    1\n",
       "0.478708    1\n",
       "0.421995    1\n",
       "0.457052    1\n",
       "0.773659    1\n",
       "0.297729    1\n",
       "0.496138    1\n",
       "0.678177    1\n",
       "0.637507    1\n",
       "0.688644    1\n",
       "0.645153    1\n",
       "0.434509    1\n",
       "0.660186    1\n",
       "0.413081    1\n",
       "0.652143    1\n",
       "0.112104    1\n",
       "0.743147    1\n",
       "0.228314    1\n",
       "0.376354    1\n",
       "0.226323    1\n",
       "0.492901    1\n",
       "0.702412    1\n",
       "0.461222    1\n",
       "0.394369    1\n",
       "0.719211    1\n",
       "0.431303    1\n",
       "0.504289    1\n",
       "0.481574    1\n",
       "0.759674    1\n",
       "0.381313    1\n",
       "0.641671    1\n",
       "0.700913    1\n",
       "0.445048    1\n",
       "0.299929    1\n",
       "0.427756    1\n",
       "0.702796    1\n",
       "0.754436    1\n",
       "0.463487    1\n",
       "0.441018    1\n",
       "0.601324    1\n",
       "0.192242    1\n",
       "0.475919    1\n",
       "0.519673    1\n",
       "0.194830    1\n",
       "0.671929    1\n",
       "0.432402    1\n",
       "0.566906    1\n",
       "0.644857    1\n",
       "0.646112    1\n",
       "0.478538    1\n",
       "0.183667    1\n",
       "0.772400    1\n",
       "0.428268    1\n",
       "0.703190    1\n",
       "0.709609    1\n",
       "0.683367    1\n",
       "0.440742    1\n",
       "0.779133    1\n",
       "0.670250    1\n",
       "0.683237    1\n",
       "0.671682    1\n",
       "0.567068    1\n",
       "0.631922    1\n",
       "0.168875    1\n",
       "0.668263    1\n",
       "0.652023    1\n",
       "0.493647    1\n",
       "0.122317    1\n",
       "0.489286    1\n",
       "0.708507    1\n",
       "0.639551    1\n",
       "0.617092    1\n",
       "0.423708    1\n",
       "0.731840    1\n",
       "0.461907    1\n",
       "0.496403    1\n",
       "0.673971    1\n",
       "0.534798    1\n",
       "0.278960    1\n",
       "0.665886    1\n",
       "0.682401    1\n",
       "0.504890    1\n",
       "0.558194    1\n",
       "0.520086    1\n",
       "0.509356    1\n",
       "0.493260    1\n",
       "0.164636    1\n",
       "0.533947    1\n",
       "0.172765    1\n",
       "0.564946    1\n",
       "0.163509    1\n",
       "0.690288    1\n",
       "0.679282    1\n",
       "0.425828    1\n",
       "0.603417    1\n",
       "0.216244    1\n",
       "0.533828    1\n",
       "0.447358    1\n",
       "0.616946    1\n",
       "0.378223    1\n",
       "0.632268    1\n",
       "0.658714    1\n",
       "0.667180    1\n",
       "0.399452    1\n",
       "0.184607    1\n",
       "0.532763    1\n",
       "0.457343    1\n",
       "0.772240    1\n",
       "0.496804    1\n",
       "0.647438    1\n",
       "0.751347    1\n",
       "0.747840    1\n",
       "0.662909    1\n",
       "0.707619    1\n",
       "0.132700    1\n",
       "0.150231    1\n",
       "0.721088    1\n",
       "0.247941    1\n",
       "0.772931    1\n",
       "0.667801    1\n",
       "0.645526    1\n",
       "0.763873    1\n",
       "0.471256    1\n",
       "0.517004    1\n",
       "0.752488    1\n",
       "0.140388    1\n",
       "0.508733    1\n",
       "0.734351    1\n",
       "0.182038    1\n",
       "0.737316    1\n",
       "0.126655    1\n",
       "0.748084    1\n",
       "0.647284    1\n",
       "0.496876    1\n",
       "0.206956    1\n",
       "0.726734    1\n",
       "0.641811    1\n",
       "0.655575    1\n",
       "0.673347    1\n",
       "0.558677    1\n",
       "0.655285    1\n",
       "0.703355    1\n",
       "0.820945    1\n",
       "0.647729    1\n",
       "0.754581    1\n",
       "0.592771    1\n",
       "0.675776    1\n",
       "0.678186    1\n",
       "0.714171    1\n",
       "0.123365    1\n",
       "0.485034    1\n",
       "0.504226    1\n",
       "0.654646    1\n",
       "0.627280    1\n",
       "0.164401    1\n",
       "0.723601    1\n",
       "0.778747    1\n",
       "0.553939    1\n",
       "0.627524    1\n",
       "0.604502    1\n",
       "0.491115    1\n",
       "0.789366    1\n",
       "0.659744    1\n",
       "0.198020    1\n",
       "0.654861    1\n",
       "0.670644    1\n",
       "0.670539    1\n",
       "0.449852    1\n",
       "0.736287    1\n",
       "0.784479    1\n",
       "0.498088    1\n",
       "0.499542    1\n",
       "0.525920    1\n",
       "0.514132    1\n",
       "0.600762    1\n",
       "0.420254    1\n",
       "0.630603    1\n",
       "0.625309    1\n",
       "0.605170    1\n",
       "0.371319    1\n",
       "0.599969    1\n",
       "0.660464    1\n",
       "0.733607    1\n",
       "0.279343    1\n",
       "0.621126    1\n",
       "0.455030    1\n",
       "0.678927    1\n",
       "0.423460    1\n",
       "0.696673    1\n",
       "0.483003    1\n",
       "0.643449    1\n",
       "0.750444    1\n",
       "0.620740    1\n",
       "0.699806    1\n",
       "0.252738    1\n",
       "0.530252    1\n",
       "0.758877    1\n",
       "0.750499    1\n",
       "0.459636    1\n",
       "0.668192    1\n",
       "0.534126    1\n",
       "0.184066    1\n",
       "0.724300    1\n",
       "0.669805    1\n",
       "0.723479    1\n",
       "0.683151    1\n",
       "0.601666    1\n",
       "0.686933    1\n",
       "0.163726    1\n",
       "0.488959    1\n",
       "0.511249    1\n",
       "0.546112    1\n",
       "0.376566    1\n",
       "0.667780    1\n",
       "0.748263    1\n",
       "0.459398    1\n",
       "0.469826    1\n",
       "0.482602    1\n",
       "0.127035    1\n",
       "0.701571    1\n",
       "0.469478    1\n",
       "0.689660    1\n",
       "0.522139    1\n",
       "0.635830    1\n",
       "0.446404    1\n",
       "0.715940    1\n",
       "0.742497    1\n",
       "0.524060    1\n",
       "0.498680    1\n",
       "0.443266    1\n",
       "0.502201    1\n",
       "0.572717    1\n",
       "0.525613    1\n",
       "0.653513    1\n",
       "0.714474    1\n",
       "0.776903    1\n",
       "0.617178    1\n",
       "0.756586    1\n",
       "0.584766    1\n",
       "0.622220    1\n",
       "0.571229    1\n",
       "0.562184    1\n",
       "0.462278    1\n",
       "0.485321    1\n",
       "0.441676    1\n",
       "0.574351    1\n",
       "0.362065    1\n",
       "0.564187    1\n",
       "0.510460    1\n",
       "0.542560    1\n",
       "0.622621    1\n",
       "0.074543    1\n",
       "0.691109    1\n",
       "0.657441    1\n",
       "0.583074    1\n",
       "0.211590    1\n",
       "0.758622    1\n",
       "0.559022    1\n",
       "0.738585    1\n",
       "0.384806    1\n",
       "0.685807    1\n",
       "0.175132    1\n",
       "0.440104    1\n",
       "0.430235    1\n",
       "0.662358    1\n",
       "0.164523    1\n",
       "0.475538    1\n",
       "0.518825    1\n",
       "0.488150    1\n",
       "0.465112    1\n",
       "0.192986    1\n",
       "0.295808    1\n",
       "0.640743    1\n",
       "0.581517    1\n",
       "0.430515    1\n",
       "0.644683    1\n",
       "0.615689    1\n",
       "0.541571    1\n",
       "0.131946    1\n",
       "0.433990    1\n",
       "0.425242    1\n",
       "0.684156    1\n",
       "0.152959    1\n",
       "0.479347    1\n",
       "0.175297    1\n",
       "0.196325    1\n",
       "0.650631    1\n",
       "0.747999    1\n",
       "0.423239    1\n",
       "0.661032    1\n",
       "0.182142    1\n",
       "0.666180    1\n",
       "0.634862    1\n",
       "0.610941    1\n",
       "0.479657    1\n",
       "0.727470    1\n",
       "0.667202    1\n",
       "0.706966    1\n",
       "0.422502    1\n",
       "0.403866    1\n",
       "0.431213    1\n",
       "0.489310    1\n",
       "0.413103    1\n",
       "0.733778    1\n",
       "0.721753    1\n",
       "0.641584    1\n",
       "0.843156    1\n",
       "0.183597    1\n",
       "0.609491    1\n",
       "0.754981    1\n",
       "0.408916    1\n",
       "0.781147    1\n",
       "0.557940    1\n",
       "0.638240    1\n",
       "0.472046    1\n",
       "0.172984    1\n",
       "0.486703    1\n",
       "0.645458    1\n",
       "0.082258    1\n",
       "0.678835    1\n",
       "0.638030    1\n",
       "0.228880    1\n",
       "0.608735    1\n",
       "0.741444    1\n",
       "0.722085    1\n",
       "0.554656    1\n",
       "0.445871    1\n",
       "0.393126    1\n",
       "0.641855    1\n",
       "0.756904    1\n",
       "0.642559    1\n",
       "0.246154    1\n",
       "0.426298    1\n",
       "0.587812    1\n",
       "0.171638    1\n",
       "0.500169    1\n",
       "0.726139    1\n",
       "0.595740    1\n",
       "0.500722    1\n",
       "0.686431    1\n",
       "0.766017    1\n",
       "0.651708    1\n",
       "0.650394    1\n",
       "0.645057    1\n",
       "0.671289    1\n",
       "0.459536    1\n",
       "0.268011    1\n",
       "0.754718    1\n",
       "0.584097    1\n",
       "0.228429    1\n",
       "0.540190    1\n",
       "0.722686    1\n",
       "0.738175    1\n",
       "0.569320    1\n",
       "0.181067    1\n",
       "0.617369    1\n",
       "0.186654    1\n",
       "0.505389    1\n",
       "0.526792    1\n",
       "0.769827    1\n",
       "0.488511    1\n",
       "0.498832    1\n",
       "0.654544    1\n",
       "0.235016    1\n",
       "0.403519    1\n",
       "0.138405    1\n",
       "0.632638    1\n",
       "0.767999    1\n",
       "0.432061    1\n",
       "0.682266    1\n",
       "0.511557    1\n",
       "0.680632    1\n",
       "0.587541    1\n",
       "0.681653    1\n",
       "0.477893    1\n",
       "0.714055    1\n",
       "0.647211    1\n",
       "0.569378    1\n",
       "0.571741    1\n",
       "0.718358    1\n",
       "0.732924    1\n",
       "0.512558    1\n",
       "0.432706    1\n",
       "0.718432    1\n",
       "0.466238    1\n",
       "0.672222    1\n",
       "0.622916    1\n",
       "0.478973    1\n",
       "0.641877    1\n",
       "0.656807    1\n",
       "0.243670    1\n",
       "0.616732    1\n",
       "0.133578    1\n",
       "0.574588    1\n",
       "0.580634    1\n",
       "0.705425    1\n",
       "0.347222    1\n",
       "0.576951    1\n",
       "0.432953    1\n",
       "0.535265    1\n",
       "0.492626    1\n",
       "0.754230    1\n",
       "0.650928    1\n",
       "0.773704    1\n",
       "0.651301    1\n",
       "0.257784    1\n",
       "0.580239    1\n",
       "0.734626    1\n",
       "0.420482    1\n",
       "0.607896    1\n",
       "0.691769    1\n",
       "0.491688    1\n",
       "0.502301    1\n",
       "0.471910    1\n",
       "0.481009    1\n",
       "0.164452    1\n",
       "0.505953    1\n",
       "0.649809    1\n",
       "0.491982    1\n",
       "0.469827    1\n",
       "0.721587    1\n",
       "0.597101    1\n",
       "0.640287    1\n",
       "0.682050    1\n",
       "0.461472    1\n",
       "0.488292    1\n",
       "0.205539    1\n",
       "0.198814    1\n",
       "0.655330    1\n",
       "0.195683    1\n",
       "0.753244    1\n",
       "0.186287    1\n",
       "0.672884    1\n",
       "0.813457    1\n",
       "0.595604    1\n",
       "0.502413    1\n",
       "0.809230    1\n",
       "0.383235    1\n",
       "0.442236    1\n",
       "0.703459    1\n",
       "0.480718    1\n",
       "0.745525    1\n",
       "0.428633    1\n",
       "0.759680    1\n",
       "0.529347    1\n",
       "0.168507    1\n",
       "0.665601    1\n",
       "0.504762    1\n",
       "0.376691    1\n",
       "0.745393    1\n",
       "0.620443    1\n",
       "0.505605    1\n",
       "0.645523    1\n",
       "0.198728    1\n",
       "0.110180    1\n",
       "0.503088    1\n",
       "0.432295    1\n",
       "0.169394    1\n",
       "0.640236    1\n",
       "0.654010    1\n",
       "0.644518    1\n",
       "0.651638    1\n",
       "0.518045    1\n",
       "0.761583    1\n",
       "0.564416    1\n",
       "0.233146    1\n",
       "0.751651    1\n",
       "0.814680    1\n",
       "0.683726    1\n",
       "0.526047    1\n",
       "0.411250    1\n",
       "0.664928    1\n",
       "0.452130    1\n",
       "0.731846    1\n",
       "0.564547    1\n",
       "0.698278    1\n",
       "0.223428    1\n",
       "0.475055    1\n",
       "0.620765    1\n",
       "0.613114    1\n",
       "0.492321    1\n",
       "0.655213    1\n",
       "0.728289    1\n",
       "0.181052    1\n",
       "0.611319    1\n",
       "0.132693    1\n",
       "0.779734    1\n",
       "0.640197    1\n",
       "0.585620    1\n",
       "0.591602    1\n",
       "0.633637    1\n",
       "0.680867    1\n",
       "0.781997    1\n",
       "0.517814    1\n",
       "0.487515    1\n",
       "0.461794    1\n",
       "0.120756    1\n",
       "0.842210    1\n",
       "0.542266    1\n",
       "0.213413    1\n",
       "0.667058    1\n",
       "0.189890    1\n",
       "0.789014    1\n",
       "0.710671    1\n",
       "0.538137    1\n",
       "0.590216    1\n",
       "0.587011    1\n",
       "0.503694    1\n",
       "0.486075    1\n",
       "0.176840    1\n",
       "0.588561    1\n",
       "0.449183    1\n",
       "0.677113    1\n",
       "0.446346    1\n",
       "0.610651    1\n",
       "0.545664    1\n",
       "0.441217    1\n",
       "0.586735    1\n",
       "0.710315    1\n",
       "0.680101    1\n",
       "0.636316    1\n",
       "0.668840    1\n",
       "0.364053    1\n",
       "0.484067    1\n",
       "0.624020    1\n",
       "0.563631    1\n",
       "0.613251    1\n",
       "0.665331    1\n",
       "0.408547    1\n",
       "0.527487    1\n",
       "0.663162    1\n",
       "0.720923    1\n",
       "0.657554    1\n",
       "0.640824    1\n",
       "0.675936    1\n",
       "0.541075    1\n",
       "0.175376    1\n",
       "0.171378    1\n",
       "0.740159    1\n",
       "0.515381    1\n",
       "0.528754    1\n",
       "0.500424    1\n",
       "0.478332    1\n",
       "0.638756    1\n",
       "0.653762    1\n",
       "0.633370    1\n",
       "0.509620    1\n",
       "0.746991    1\n",
       "0.508338    1\n",
       "0.750712    1\n",
       "0.389430    1\n",
       "0.226950    1\n",
       "0.655487    1\n",
       "0.635038    1\n",
       "0.653627    1\n",
       "0.664428    1\n",
       "0.698331    1\n",
       "0.230200    1\n",
       "0.497887    1\n",
       "0.408504    1\n",
       "0.556050    1\n",
       "0.169565    1\n",
       "0.698236    1\n",
       "0.669286    1\n",
       "0.645333    1\n",
       "0.448571    1\n",
       "0.271058    1\n",
       "0.742290    1\n",
       "0.664843    1\n",
       "0.678493    1\n",
       "0.664941    1\n",
       "0.155367    1\n",
       "0.462866    1\n",
       "0.436179    1\n",
       "0.573861    1\n",
       "0.399263    1\n",
       "0.660749    1\n",
       "0.176299    1\n",
       "0.430869    1\n",
       "0.632314    1\n",
       "0.135648    1\n",
       "0.743534    1\n",
       "0.647054    1\n",
       "0.167262    1\n",
       "0.676432    1\n",
       "0.124807    1\n",
       "0.137381    1\n",
       "0.537691    1\n",
       "0.418014    1\n",
       "0.380925    1\n",
       "0.571087    1\n",
       "0.502452    1\n",
       "0.354417    1\n",
       "0.206023    1\n",
       "0.229797    1\n",
       "0.667285    1\n",
       "0.644949    1\n",
       "0.483240    1\n",
       "0.721904    1\n",
       "0.163933    1\n",
       "0.454564    1\n",
       "0.400500    1\n",
       "0.450774    1\n",
       "0.499843    1\n",
       "0.472641    1\n",
       "0.712649    1\n",
       "0.222851    1\n",
       "0.196197    1\n",
       "0.598761    1\n",
       "0.607482    1\n",
       "0.232016    1\n",
       "0.707510    1\n",
       "0.459334    1\n",
       "0.678943    1\n",
       "0.629718    1\n",
       "0.667247    1\n",
       "0.633316    1\n",
       "0.731934    1\n",
       "0.627662    1\n",
       "0.646853    1\n",
       "0.634760    1\n",
       "0.563427    1\n",
       "0.677614    1\n",
       "0.698423    1\n",
       "0.483439    1\n",
       "0.250753    1\n",
       "0.406131    1\n",
       "0.635643    1\n",
       "0.791423    1\n",
       "0.713637    1\n",
       "0.427763    1\n",
       "0.686586    1\n",
       "0.829743    1\n",
       "0.525131    1\n",
       "0.595252    1\n",
       "0.645563    1\n",
       "0.213587    1\n",
       "0.566269    1\n",
       "0.482103    1\n",
       "0.436270    1\n",
       "0.459719    1\n",
       "0.601787    1\n",
       "0.437869    1\n",
       "0.131701    1\n",
       "0.637978    1\n",
       "0.492745    1\n",
       "0.773488    1\n",
       "0.717398    1\n",
       "0.434454    1\n",
       "0.755816    1\n",
       "0.748456    1\n",
       "0.194804    1\n",
       "0.433024    1\n",
       "0.204040    1\n",
       "0.713784    1\n",
       "0.687658    1\n",
       "0.746490    1\n",
       "0.661145    1\n",
       "0.488213    1\n",
       "0.484891    1\n",
       "0.466315    1\n",
       "0.875893    1\n",
       "0.180033    1\n",
       "0.503777    1\n",
       "0.723723    1\n",
       "0.474342    1\n",
       "0.455409    1\n",
       "0.681052    1\n",
       "0.532629    1\n",
       "0.680373    1\n",
       "0.733106    1\n",
       "0.757969    1\n",
       "0.769297    1\n",
       "0.243135    1\n",
       "0.113110    1\n",
       "0.733395    1\n",
       "0.721565    1\n",
       "0.630359    1\n",
       "0.612422    1\n",
       "0.587048    1\n",
       "0.696969    1\n",
       "0.745804    1\n",
       "0.505029    1\n",
       "0.743653    1\n",
       "0.744019    1\n",
       "0.682203    1\n",
       "0.638747    1\n",
       "0.447881    1\n",
       "0.692371    1\n",
       "0.589423    1\n",
       "0.704452    1\n",
       "0.640440    1\n",
       "0.671136    1\n",
       "0.659684    1\n",
       "0.177193    1\n",
       "0.512230    1\n",
       "0.744667    1\n",
       "0.645909    1\n",
       "0.506362    1\n",
       "0.573232    1\n",
       "0.428656    1\n",
       "0.660854    1\n",
       "0.202321    1\n",
       "0.728102    1\n",
       "0.172516    1\n",
       "0.519643    1\n",
       "0.464549    1\n",
       "0.838895    1\n",
       "0.453302    1\n",
       "0.744092    1\n",
       "0.442130    1\n",
       "0.563901    1\n",
       "0.506221    1\n",
       "0.654151    1\n",
       "0.508240    1\n",
       "0.517608    1\n",
       "0.684421    1\n",
       "0.499335    1\n",
       "0.408260    1\n",
       "0.415259    1\n",
       "0.659851    1\n",
       "0.705062    1\n",
       "0.207101    1\n",
       "0.436575    1\n",
       "0.660768    1\n",
       "0.724137    1\n",
       "0.470153    1\n",
       "0.734940    1\n",
       "0.451972    1\n",
       "0.565068    1\n",
       "0.689849    1\n",
       "0.701940    1\n",
       "0.715973    1\n",
       "0.400665    1\n",
       "0.173437    1\n",
       "0.658502    1\n",
       "0.458538    1\n",
       "0.437629    1\n",
       "0.665640    1\n",
       "0.495219    1\n",
       "0.227442    1\n",
       "0.147326    1\n",
       "0.675681    1\n",
       "0.577782    1\n",
       "0.499904    1\n",
       "0.549695    1\n",
       "0.185385    1\n",
       "0.496904    1\n",
       "0.178059    1\n",
       "0.528261    1\n",
       "0.660920    1\n",
       "0.706221    1\n",
       "0.436375    1\n",
       "0.497035    1\n",
       "0.516439    1\n",
       "0.721945    1\n",
       "0.573041    1\n",
       "0.507685    1\n",
       "0.424907    1\n",
       "0.717988    1\n",
       "0.657659    1\n",
       "0.671115    1\n",
       "0.655732    1\n",
       "0.550361    1\n",
       "0.655509    1\n",
       "0.668220    1\n",
       "0.527472    1\n",
       "0.525831    1\n",
       "0.520352    1\n",
       "0.645672    1\n",
       "0.608674    1\n",
       "0.616054    1\n",
       "0.629389    1\n",
       "0.534040    1\n",
       "0.364001    1\n",
       "0.632285    1\n",
       "0.407572    1\n",
       "0.681262    1\n",
       "0.658255    1\n",
       "0.845841    1\n",
       "0.579020    1\n",
       "0.698237    1\n",
       "0.664572    1\n",
       "0.051287    1\n",
       "0.196017    1\n",
       "0.493877    1\n",
       "0.224920    1\n",
       "0.597971    1\n",
       "0.505483    1\n",
       "0.556972    1\n",
       "0.487217    1\n",
       "0.659720    1\n",
       "0.581385    1\n",
       "0.513191    1\n",
       "0.185175    1\n",
       "0.684093    1\n",
       "0.704276    1\n",
       "0.532733    1\n",
       "0.434628    1\n",
       "0.199324    1\n",
       "0.770122    1\n",
       "0.657617    1\n",
       "0.525011    1\n",
       "0.458715    1\n",
       "0.673741    1\n",
       "0.211322    1\n",
       "0.564330    1\n",
       "0.830359    1\n",
       "0.759505    1\n",
       "0.604128    1\n",
       "0.146907    1\n",
       "0.405570    1\n",
       "0.514185    1\n",
       "0.626318    1\n",
       "0.182789    1\n",
       "0.677601    1\n",
       "0.156204    1\n",
       "0.701740    1\n",
       "0.713308    1\n",
       "0.489913    1\n",
       "0.711020    1\n",
       "0.850598    1\n",
       "0.709275    1\n",
       "0.637658    1\n",
       "0.636820    1\n",
       "0.357222    1\n",
       "0.596330    1\n",
       "0.597363    1\n",
       "0.423741    1\n",
       "0.129842    1\n",
       "0.588144    1\n",
       "0.718661    1\n",
       "0.517667    1\n",
       "0.200303    1\n",
       "0.601898    1\n",
       "0.659379    1\n",
       "0.726206    1\n",
       "0.468665    1\n",
       "0.645141    1\n",
       "0.874953    1\n",
       "0.668655    1\n",
       "0.741883    1\n",
       "0.148033    1\n",
       "0.173909    1\n",
       "0.250316    1\n",
       "0.509287    1\n",
       "0.513744    1\n",
       "0.655082    1\n",
       "0.562316    1\n",
       "0.665671    1\n",
       "0.561112    1\n",
       "0.168596    1\n",
       "0.652285    1\n",
       "0.542409    1\n",
       "0.732251    1\n",
       "0.753550    1\n",
       "0.758187    1\n",
       "0.718606    1\n",
       "0.667014    1\n",
       "0.527386    1\n",
       "0.731646    1\n",
       "0.157432    1\n",
       "0.698662    1\n",
       "0.173626    1\n",
       "0.651852    1\n",
       "0.755435    1\n",
       "0.585607    1\n",
       "0.660186    1\n",
       "0.806947    1\n",
       "0.742858    1\n",
       "0.429155    1\n",
       "0.557386    1\n",
       "0.702886    1\n",
       "0.650015    1\n",
       "0.667330    1\n",
       "0.678965    1\n",
       "0.551417    1\n",
       "0.187736    1\n",
       "0.481108    1\n",
       "0.611832    1\n",
       "0.639513    1\n",
       "0.440380    1\n",
       "0.751077    1\n",
       "0.621029    1\n",
       "0.672017    1\n",
       "0.540368    1\n",
       "0.681755    1\n",
       "Name: count, dtype: int64"
      ]
     },
     "execution_count": 38,
     "metadata": {},
     "output_type": "execute_result"
    }
   ],
   "source": [
    "predictions_df['angle'].value_counts()"
   ]
  },
  {
   "cell_type": "markdown",
   "metadata": {
    "id": "oU-PhskZPaHD"
   },
   "source": [
    "### 3e) save predictions to a file inside the hpc (to then later send from hpc to my laptop)"
   ]
  },
  {
   "cell_type": "code",
   "execution_count": null,
   "metadata": {
    "id": "deXjPTO0TAiL"
   },
   "outputs": [],
   "source": [
    "predictions_df.to_csv('/home/apyba3/mobnetv3small_angleregression_withvalidation_withpetrudata.csv')"
   ]
  },
  {
   "cell_type": "code",
   "execution_count": null,
   "metadata": {
    "id": "tsp7UPIJQlKB"
   },
   "outputs": [],
   "source": []
  }
 ],
 "metadata": {
  "accelerator": "GPU",
  "colab": {
   "gpuType": "T4",
   "provenance": []
  },
  "kernelspec": {
   "display_name": "car_env",
   "language": "python",
   "name": "python3"
  },
  "language_info": {
   "codemirror_mode": {
    "name": "ipython",
    "version": 3
   },
   "file_extension": ".py",
   "mimetype": "text/x-python",
   "name": "python",
   "nbconvert_exporter": "python",
   "pygments_lexer": "ipython3",
   "version": "3.8.20"
  }
 },
 "nbformat": 4,
 "nbformat_minor": 4
}
