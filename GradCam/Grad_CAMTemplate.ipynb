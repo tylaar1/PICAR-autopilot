{
  "nbformat": 4,
  "nbformat_minor": 0,
  "metadata": {
    "colab": {
      "provenance": [],
      "authorship_tag": "ABX9TyPl27GbaApz71yqgs8LSOPp",
      "include_colab_link": true
    },
    "kernelspec": {
      "name": "python3",
      "display_name": "Python 3"
    },
    "language_info": {
      "name": "python"
    }
  },
  "cells": [
    {
      "cell_type": "markdown",
      "metadata": {
        "id": "view-in-github",
        "colab_type": "text"
      },
      "source": [
        "<a href=\"https://colab.research.google.com/github/tylaar1/PICAR-autopilot/blob/main/Grad_CAMTemplate.ipynb\" target=\"_parent\"><img src=\"https://colab.research.google.com/assets/colab-badge.svg\" alt=\"Open In Colab\"/></a>"
      ]
    },
    {
      "cell_type": "markdown",
      "source": [
        "# Template for Grad-CAM\n",
        "Note: Need to add our own trained model first for it to work.\n",
        "\n",
        "what it does?\n",
        "\n",
        "\n",
        "1.   Visiulases how the CNN is making certain decisions\n",
        "2.   It will highlight which areas of our image it is taking into account to make its decision.\n",
        "\n"
      ],
      "metadata": {
        "id": "IetkYdHPM38E"
      }
    },
    {
      "cell_type": "code",
      "execution_count": null,
      "metadata": {
        "id": "yNpX0RnfMy9c"
      },
      "outputs": [],
      "source": [
        "import tensorflow as tf\n",
        "import numpy as np\n",
        "import cv2\n",
        "import matplotlib.pyplot as plt\n",
        "\n",
        "# Load your trained autonomous car model\n",
        "model = tf.keras.models.load_model(\"your_model.h5\")\n",
        "\n",
        "# Function to preprocess input image\n",
        "def preprocess_image(img_path, target_size=(224, 224)):\n",
        "    img = cv2.imread(img_path)\n",
        "    img = cv2.cvtColor(img, cv2.COLOR_BGR2RGB)\n",
        "    img = cv2.resize(img, target_size)\n",
        "    img = img.astype(\"float32\") / 255.0  # Normalize\n",
        "    img = np.expand_dims(img, axis=0)  # Add batch dimension\n",
        "    return img\n",
        "\n",
        "# Grad-CAM function\n",
        "def compute_gradcam(model, img_array, layer_name=\"conv2d\"):\n",
        "    grad_model = tf.keras.models.Model(\n",
        "        inputs=model.input,\n",
        "        outputs=[model.get_layer(layer_name).output, model.output]\n",
        "    )\n",
        "\n",
        "    with tf.GradientTape() as tape:\n",
        "        conv_outputs, predictions = grad_model(img_array)\n",
        "        loss = predictions  # Assuming regression (steering angle)\n",
        "\n",
        "    grads = tape.gradient(loss, conv_outputs)\n",
        "    pooled_grads = tf.reduce_mean(grads, axis=(0, 1, 2))\n",
        "    heatmap = tf.reduce_mean(tf.multiply(pooled_grads, conv_outputs), axis=-1)\n",
        "\n",
        "    heatmap = np.maximum(heatmap[0], 0)  # ReLU activation\n",
        "    heatmap /= np.max(heatmap)  # Normalize between 0 and 1\n",
        "    return heatmap\n",
        "\n",
        "# Overlay Grad-CAM heatmap on original image\n",
        "def overlay_heatmap(img_path, heatmap, alpha=0.4):\n",
        "    img = cv2.imread(img_path)\n",
        "    img = cv2.cvtColor(img, cv2.COLOR_BGR2RGB)\n",
        "    heatmap = cv2.resize(heatmap, (img.shape[1], img.shape[0]))\n",
        "    heatmap = np.uint8(255 * heatmap)  # Convert to 0-255 scale\n",
        "    heatmap = cv2.applyColorMap(heatmap, cv2.COLORMAP_JET)  # Apply color map\n",
        "    overlayed_img = cv2.addWeighted(heatmap, alpha, img, 1 - alpha, 0)\n",
        "\n",
        "    return overlayed_img\n",
        "\n",
        "# Load an example image from your dataset\n",
        "image_path = \"example_car_frame.jpg\"  # Change to an actual image path\n",
        "img_array = preprocess_image(image_path)\n",
        "\n",
        "# Compute Grad-CAM heatmap\n",
        "heatmap = compute_gradcam(model, img_array, layer_name=\"conv2d\")  # Change \"conv2d\" to your CNN layer\n",
        "\n",
        "# Overlay the heatmap on the original image\n",
        "overlayed_image = overlay_heatmap(image_path, heatmap)\n",
        "\n",
        "# Display the results\n",
        "plt.figure(figsize=(10, 5))\n",
        "plt.subplot(1, 2, 1)\n",
        "plt.imshow(cv2.imread(image_path)[:, :, ::-1])\n",
        "plt.title(\"Original Image\")\n",
        "\n",
        "plt.subplot(1, 2, 2)\n",
        "plt.imshow(overlayed_image)\n",
        "plt.title(\"Grad-CAM Overlay\")\n",
        "\n",
        "plt.show()\n"
      ]
    }
  ]
}